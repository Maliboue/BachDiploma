{
 "cells": [
  {
   "cell_type": "code",
   "execution_count": 1,
   "metadata": {},
   "outputs": [
    {
     "name": "stdout",
     "output_type": "stream",
     "text": [
      "Populating the interactive namespace from numpy and matplotlib\n"
     ]
    }
   ],
   "source": [
    "%pylab inline\n",
    "from neuron import h, gui\n",
    "from scipy.signal import *\n",
    "import pandas\n",
    "#%pylab tk\n",
    "style.use('ggplot')"
   ]
  },
  {
   "cell_type": "code",
   "execution_count": 26,
   "metadata": {
    "collapsed": true
   },
   "outputs": [],
   "source": [
    "# Ih activation curve from BO 2001\n",
    "v = linspace(-150.,0.,301)\n",
    "\n",
    "F = 96485.\n",
    "R = 8.314\n",
    "T = 22.\n",
    "T_z = 273.\n",
    "C_t = (0.003*F)/(R*(T_z+T))\n",
    "Q_t = 4.5**((T-33.)/10.)\n",
    "h_inf = lambda v: 1/(1+e**((v+66.)/7.))\n",
    "tau_h = lambda v,C_t: (e**(0.6*(v+84.)*C_t))/(Q_t*0.0029*(1+e**((v+84.)*C_t)))\n",
    "\n",
    "# Ih from RM03c\n",
    "r_inf= lambda v: 1/(1+e**((v+76.)/7.))"
   ]
  },
  {
   "cell_type": "code",
   "execution_count": 27,
   "metadata": {},
   "outputs": [
    {
     "name": "stdout",
     "output_type": "stream",
     "text": [
      "0.152608664843 0.429053403117\n"
     ]
    },
    {
     "data": {
      "image/png": "[encoded data removed]",
      "text/plain": [
       "<matplotlib.figure.Figure at 0x112408c90>"
      ]
     },
     "metadata": {},
     "output_type": "display_data"
    }
   ],
   "source": [
    "plot(v,h_inf(v), label='BO-01')\n",
    "plot(v,r_inf(v), label='RM-03c')\n",
    "axvline(-64)\n",
    "\n",
    "legend()\n",
    "\n",
    "print r_inf(-64), h_inf(-64)"
   ]
  },
  {
   "cell_type": "code",
   "execution_count": 29,
   "metadata": {},
   "outputs": [
    {
     "data": {
      "text/plain": [
       "0.2979366301210704"
      ]
     },
     "execution_count": 29,
     "metadata": {},
     "output_type": "execute_result"
    }
   ],
   "source": [
    "h_inf(-60)"
   ]
  },
  {
   "cell_type": "code",
   "execution_count": 2,
   "metadata": {
    "scrolled": false
   },
   "outputs": [
    {
     "data": {
      "text/plain": [
       "0.0"
      ]
     },
     "execution_count": 2,
     "metadata": {},
     "output_type": "execute_result"
    }
   ],
   "source": [
    "#CVODE не работает с оригинальными файлами из (Rothman and Manis 2003)\n",
    "h.cvode_active(0)"
   ]
  },
  {
   "cell_type": "markdown",
   "metadata": {},
   "source": [
    "## Используем модель Rothman and Manis 2003"
   ]
  },
  {
   "cell_type": "code",
   "execution_count": 3,
   "metadata": {
    "collapsed": true
   },
   "outputs": [],
   "source": [
    "R = 8314.4  # Universal gaz constant, mJ / mole*K\n",
    "F = 96485   # Faraday constant [C/mol]\n",
    "F_ATP = 50 # kJ/mol\n",
    "\n",
    "avogadro = 6.022e23 # N_a"
   ]
  },
  {
   "cell_type": "code",
   "execution_count": 4,
   "metadata": {},
   "outputs": [
    {
     "name": "stdout",
     "output_type": "stream",
     "text": [
      "Soma area: 1.20e-05 cm^2, diameter: 19.54 um\n"
     ]
    }
   ],
   "source": [
    "total_capacitance = 12 # pF\n",
    "\n",
    "soma_area = total_capacitance * 1e-6 / 1 # pF -> uF, 1 uF/cm^2\n",
    "soma_diam = 1e4*sqrt(soma_area/pi) # cm->um\n",
    "\n",
    "print 'Soma area: %.2e cm^2, diameter: %2.2f um'%(soma_area,soma_diam)"
   ]
  },
  {
   "cell_type": "code",
   "execution_count": 5,
   "metadata": {
    "collapsed": true
   },
   "outputs": [],
   "source": [
    "currents = ['klt', 'kht', 'na', 'ka', 'ih', 'hcno', 'leak']"
   ]
  },
  {
   "cell_type": "code",
   "execution_count": 6,
   "metadata": {
    "collapsed": true
   },
   "outputs": [],
   "source": [
    "def ns_to_mhocm2(x):\n",
    "    \"Convert from nanosiemens to siemens/cm^2\"\n",
    "    return 1e-9*x/soma_area"
   ]
  },
  {
   "cell_type": "code",
   "execution_count": 7,
   "metadata": {
    "collapsed": true
   },
   "outputs": [],
   "source": [
    "ptypeII = {cond:ns_to_mhocm2(val) for cond, val in \n",
    "         [('gnabar',1000), ('gkhtbar',150), ('gkltbar', 200),\n",
    "          ('gabar', 0),  ('ghbar', 20), ('ghcno', 0), ('glk', 2), ]}\n",
    "\n",
    "ptypeIIo = {cond:ns_to_mhocm2(val) for cond, val in \n",
    "         [('gnabar',1000), ('gkhtbar',150), ('gkltbar', 600),\n",
    "          ('gabar', 0),  ('ghbar', 0), ('ghcno', 40), ('glk', 2), ]}\n",
    "\n",
    "ptypeIc = {cond:ns_to_mhocm2(val) for cond, val in \n",
    "         [('gnabar', 1000), ('gkhtbar', 150), ('gkltbar', 0),\n",
    "          ('gabar', 0), ('ghbar', 0.5), ('ghcno', 0), ('glk', 2)]}\n",
    "\n",
    "ptypeIt = {cond:ns_to_mhocm2(val) for cond, val in \n",
    "         [('gnabar', 1000), ('gkhtbar', 80), ('gkltbar', 0),\n",
    "          ('gabar', 65), ('ghbar', 0.5), ('ghcno', 0), ('glk', 2)]}\n",
    "\n",
    "ptypeIc['Vm0'] = -63.9\n",
    "ptypeIt['Vm0'] = -64.2\n",
    "ptypeII['Vm0'] = -63.6 # mV\n",
    "ptypeIIo['Vm0'] = -66.67 \n",
    "\n",
    "ptypeIc['Rin'] = 473\n",
    "ptypeIt['Rin'] = 453\n",
    "ptypeII['Rin'] = 71    # MOhm\n",
    "ptypeIIo['Rin'] = 6.7 \n",
    "# in S/cm^2"
   ]
  },
  {
   "cell_type": "code",
   "execution_count": 8,
   "metadata": {
    "collapsed": true
   },
   "outputs": [],
   "source": [
    "bushy = h.Section(name='bushy') \n",
    "octopus = h.Section(name='octopus')\n",
    "stellatec = h.Section(name='stellatec')\n",
    "stellatet = h.Section(name='stellatet')\n",
    "\n",
    "neurons = [(bushy, ptypeII), (octopus, ptypeIIo), (stellatec, ptypeIc), (stellatet, ptypeIt)]"
   ]
  },
  {
   "cell_type": "code",
   "execution_count": 9,
   "metadata": {
    "collapsed": true,
    "scrolled": true
   },
   "outputs": [],
   "source": [
    "def init_neurons():\n",
    "    h.celsius = 22 # Normal temperature is 38 °C # See the difference after cel=37 in current kinetics (below)\n",
    "                    # ~ No difference in resting energy consumption\n",
    "    for npx in neurons:\n",
    "        n,p = npx\n",
    "        n.nseg = 1\n",
    "        n.diam = soma_diam\n",
    "        n.L = soma_diam\n",
    "        n.Ra = 150\n",
    "        n.cm = 1\n",
    "    \n",
    "        for cur in currents:\n",
    "            n.insert(cur)\n",
    "    \n",
    "        # add and init 'pseudo-mechanism' \n",
    "        # to calculate energy rate in *each segment*\n",
    "        n.insert('mujpow')\n",
    "        if (n.name() == octopus):\n",
    "            h.setpointer(n(0.5)._ref_i_hcno, 'i_ih', n(0.5).mujpow)\n",
    "            h.setpointer(n(0.5)._ref_thegna_hcno, 'gh', n(0.5).mujpow)\n",
    "        else:\n",
    "            h.setpointer(n(0.5)._ref_i_ih, 'i_ih', n(0.5).mujpow)\n",
    "            h.setpointer(n(0.5)._ref_gh_ih, 'gh', n(0.5).mujpow)       \n",
    "            \n",
    "        n.ek = -70\n",
    "        n.ena = 50\n",
    "        n.gnabar_na = p['gnabar']\n",
    "        n.gkhtbar_kht = p['gkhtbar']\n",
    "        n.gkltbar_klt = p['gkltbar']\n",
    "        n.gkabar_ka = p['gabar']\n",
    "        n.ghbar_ih = p['ghbar']\n",
    "        n.gbar_hcno = p['ghcno']\n",
    "        n.g_leak = p['glk']\n",
    "\n",
    "        \n",
    "init_neurons()"
   ]
  },
  {
   "cell_type": "code",
   "execution_count": 10,
   "metadata": {},
   "outputs": [
    {
     "data": {
      "text/plain": [
       "1.0"
      ]
     },
     "execution_count": 10,
     "metadata": {},
     "output_type": "execute_result"
    }
   ],
   "source": [
    "v_vecb = h.Vector()             # Membrane potential vector\n",
    "v_veco = h.Vector()\n",
    "v_vecsc = h.Vector()\n",
    "v_vecst = h.Vector()\n",
    "t_vec = h.Vector()             # Time stamp vector\n",
    "\n",
    "v_vecb.record(bushy(0.5)._ref_v)\n",
    "v_veco.record(octopus(0.5)._ref_v)\n",
    "v_vecsc.record(stellatec(0.5)._ref_v)\n",
    "v_vecst.record(stellatet(0.5)._ref_v)\n",
    "\n",
    "t_vec.record(h._ref_t)\n"
   ]
  },
  {
   "cell_type": "code",
   "execution_count": 11,
   "metadata": {
    "collapsed": true
   },
   "outputs": [],
   "source": [
    "h.v_init = ptypeII['Vm0']\n",
    "\n",
    "h.tstop = 2000\n",
    "\n",
    "h.run()"
   ]
  },
  {
   "cell_type": "code",
   "execution_count": 14,
   "metadata": {},
   "outputs": [
    {
     "data": {
      "text/plain": [
       "(-1, 20)"
      ]
     },
     "execution_count": 14,
     "metadata": {},
     "output_type": "execute_result"
    },
    {
     "data": {
      "image/png": "[encoded data removed]",
      "text/plain": [
       "<matplotlib.figure.Figure at 0x10971a410>"
      ]
     },
     "metadata": {},
     "output_type": "display_data"
    }
   ],
   "source": [
    "# celsius = 22\n",
    "plot(t_vec, v_vecb, label='bushy')\n",
    "plot(t_vec,v_veco, label='ocotpus')\n",
    "plot(t_vec, v_vecsc, label='stellate c')\n",
    "plot(t_vec, v_vecst, label='stellate t')\n",
    "legend ()\n",
    "#ylim(-70,-50)\n",
    "xlim(-1,20)"
   ]
  },
  {
   "cell_type": "code",
   "execution_count": 16,
   "metadata": {
    "collapsed": true
   },
   "outputs": [],
   "source": [
    "def split_ih(seg, eh=-43):\n",
    "    \"splits ih to Na and K components (crude)\"\n",
    "    v = seg.v\n",
    "    if seg.gbar_hcno != 0.0:\n",
    "        gh = seg.thegna_hcno\n",
    "    if seg.ghbar_ih != 0.0:\n",
    "        gh = seg.ih.gh\n",
    "    gr = float((seg.ena-eh))/(eh-seg.ek)\n",
    "    denom = (v*(gr+1) - gr*seg.ek - seg.ena)\n",
    "    if (abs(v-eh) < 1):\n",
    "        gnah = gh/(gr + 1)\n",
    "    else: \n",
    "        if seg.gbar_hcno != 0.0:\n",
    "            gnah = seg.i_hcno/denom\n",
    "        if seg.ghbar_ih != 0.0:\n",
    "            gnah = seg.i_ih/denom\n",
    "    inah = gnah*(v-seg.ena)\n",
    "    ikh = gr*gnah*(v-seg.ek)\n",
    "    return inah, ikh\n",
    "\n",
    "def check_splitting(v, gratio=5, eh=-43, ek=-70, ena =50):\n",
    "    ih = ptypeII['ghbar']*(v-eh)\n",
    "    gr = float((ena-eh))/(eh-ek)\n",
    "    print gr\n",
    "    denom = gr*(v-ek) + (v-ena)\n",
    "    gnah = ih/denom\n",
    "    inah = gnah*(v-ena)\n",
    "    ikh = gr*gnah*(v-ek)\n",
    "    return  inah, ikh, denom\n",
    "\n",
    "def split_mixed(v, gm, erev,ek=-70,ena=50):\n",
    "    gratio = float((ena-erev))/(erev-ek)\n",
    "    denom = (v*(gratio+1) - gratio*ek - ena)\n",
    "    if (abs(v-erev) < 1):\n",
    "        gnah = gm/(gratio + 1)\n",
    "    else: \n",
    "        gnah = gm*(v-erev)/denom\n",
    "    inah = gnah*(v-ena)\n",
    "    ikh = gratio*gnah*(v-ek)\n",
    "    return inah, ikh"
   ]
  },
  {
   "cell_type": "code",
   "execution_count": 24,
   "metadata": {},
   "outputs": [
    {
     "name": "stdout",
     "output_type": "stream",
     "text": [
      "3.44444444444\n"
     ]
    },
    {
     "data": {
      "text/plain": [
       "[<matplotlib.lines.Line2D at 0x109d38990>]"
      ]
     },
     "execution_count": 24,
     "metadata": {},
     "output_type": "execute_result"
    },
    {
     "data": {
      "image/png": "[encoded data removed]",
      "text/plain": [
       "<matplotlib.figure.Figure at 0x1097aa750>"
      ]
     },
     "metadata": {},
     "output_type": "display_data"
    }
   ],
   "source": [
    "vtest = linspace(-80, 50, 1000)\n",
    "\n",
    "gratio = 5\n",
    "ek = -70\n",
    "ena = 50\n",
    "\n",
    "plot(vtest, check_splitting(vtest, eh=-43)[0])\n",
    "#plot(vtest, check_splitting(vtest, eh=-43)[1])\n",
    "#k = argmin( abs(check_splitting(vtest, eh=-43)))\n",
    "#vtest[k]"
   ]
  },
  {
   "cell_type": "code",
   "execution_count": 18,
   "metadata": {},
   "outputs": [
    {
     "name": "stdout",
     "output_type": "stream",
     "text": [
      "bushy Rin: 71.0284615727 | 71 MOhm\n",
      "octopus Rin: 18.0806915965 | 6.7 MOhm\n",
      "stellatec Rin: 473.112176395 | 473 MOhm\n",
      "stellatet Rin: 452.143818316 | 453 MOhm\n"
     ]
    }
   ],
   "source": [
    "def get_Rin(sec):\n",
    "    seg = sec(0.5)\n",
    "    gnar = seg.ina/(seg.v-seg.ena)  # Siemens/cm^2\n",
    "    gkr = seg.ik/(seg.v-seg.ek)\n",
    "    ghr = seg.i_ih/(seg.v- -43)\n",
    "    glkr = seg.leak.i/(seg.v -seg.erev_leak)\n",
    "    Ginx = (gnar + gkr + ghr + glkr)* seg.area()*1e-8\n",
    "    return 1e-6/Ginx \n",
    "\n",
    "for n in neurons:\n",
    "    print '{} Rin: {} | {} MOhm'.format(n[0].name(), get_Rin(n[0]), n[1]['Rin'])"
   ]
  },
  {
   "cell_type": "code",
   "execution_count": 21,
   "metadata": {
    "collapsed": true
   },
   "outputs": [],
   "source": [
    "def SetSyn(cell, Ens=dict(), Syn=dict(), Con=dict()):\n",
    "    nn = cell.name()\n",
    "    Ens[nn] = h.NetStim()\n",
    "    Syn[nn] = h.ExpSyn(cell(.5))\n",
    "    Syn[nn].tau = 0.4 #RM03\n",
    "    Con[nn] = h.NetCon(Ens[nn], Syn[nn], 0,0,2e-3)\n",
    "    return Ens, Syn, Con\n",
    "\n",
    "def SetSynParams(cell,Ens,n,interval,noise,weight=None, Con=None):\n",
    "    nn = cell.name()\n",
    "    Ens[nn].number = n\n",
    "    Ens[nn].interval = interval\n",
    "    Ens[nn].noise = noise\n",
    "    if weight != None:\n",
    "        Con[nn].weight[0] = weight\n",
    "        \n",
    "def SetRec(cell):\n",
    "    t_, v_ = h.Vector(),h.Vector()\n",
    "    \n",
    "    t_.record(h._ref_t)\n",
    "    v_.record(cell(.5)._ref_v)\n",
    "    return t_,v_"
   ]
  },
  {
   "cell_type": "code",
   "execution_count": 22,
   "metadata": {
    "collapsed": true
   },
   "outputs": [],
   "source": [
    "# Use single Synapses with Gbars from table 1 (RM03c) at 22 degC \n",
    "\n",
    "gsyns = {'octopus':8.6e-3, 'bushy':8.6e-3, 'stellatet':2.2e-3, 'stellatec':2.0e-3} # uS"
   ]
  },
  {
   "cell_type": "code",
   "execution_count": 40,
   "metadata": {
    "collapsed": true
   },
   "outputs": [],
   "source": [
    "### Instruments for energy calculation in NEURON models  ###\n",
    "\n",
    "avogadro = 6.022*1e23 # molecules/mol\n",
    "F_ATP = 50 # kJ/mol\n",
    "\n",
    "def find_nearest(array, value):\n",
    "    idx = np.abs(array - value).argmin()\n",
    "    return idx\n",
    "\n",
    "# --- MIXED CURRENT SPLITTER ---\n",
    "def split_mixed(v, g_mixed, erev_mixed, ek,ena):\n",
    "    g_r = float((ena-erev_mixed))/float(erev_mixed-ek)\n",
    "    \n",
    "    denom = (v*(g_r+1) - g_r*ek - ena) # mV\n",
    "    \n",
    "    if (abs(v-erev_mixed) < 1): # Escape from 0/0 uncertainty in proximity to erev_mixed (Taylor series of the *)\n",
    "        gnam = g_mixed/(g_r + 1)\n",
    "    else: \n",
    "        gnam = g_mixed*(v-erev_mixed)/denom # \n",
    "    \n",
    "    inam = gnam*(v-ena)\n",
    "    ikm = g_r*gnam*(v-ek)\n",
    "    return inam, ikm\n",
    "\n",
    "# --- CONVERTERS ---\n",
    "def pmol2molecules(x):\n",
    "    return x*1e-12*avogadro\n",
    "\n",
    "def atp2J(nATP):\n",
    "    \"Converts pmol ATP/s to energy usage in Joule/s\"\n",
    "    return F_ATP * nATP * 1e3\n",
    "\n",
    "def J2atp(nJ):\n",
    "    \"Converts Joule/s to mol ATP/s\"\n",
    "    return (nJ/F_ATP)*1e-3\n",
    "\n",
    "# --- INSTANT ENERGY CALC ---\n",
    "def ratp_atwell(V, Rin, ek=-70, ena=55):\n",
    "    \"\"\" Returns resting ATP consumption rate in pmol ATP/s.\n",
    "        Uses Attwell & Laughlin (2001 JCBFM) formula.\"\"\"\n",
    "    # I take Rm in MOhms and V in mV\n",
    "    # Thus, result is in nmole/sec\n",
    "    out = (ena-V)*(V-ek)/(F*Rin*(V + 2*ena - 3*ek))\n",
    "    return out*1e3 # nmol -> pmol\n",
    "\n",
    "def mouj_Erate2(seg, currents_of_interest = None, g_mixed = None, erev_mixed = None, mode=None):\n",
    "    \"\"\"\n",
    "    Returns: Instant 'Electrical' energy in pJ/s. Splits mixed currents, taking\n",
    "    gbars and erevs from 'g_mixed' and 'erev_mixed' if they are given (array-like).\n",
    "        mode = None       => Total Energy is returned;\n",
    "        mode = 'Detailed' => Total E + Specific E for 'currents_of_interest'.\n",
    "        Currents_of_interest should be of the form: \n",
    "        \n",
    "                    [[\"hoc mechanism SUFFIX.Variable\",\"corresponding E_rev\"],\n",
    "                     [...,...],]\n",
    "                    \n",
    "        -- ONLY for specific \n",
    "        (not mixed) currents.\n",
    "    Uses Method suggested by Moujahid & D'Anjou, (2011 Phys Rev E, 2014 Front Comp Neurosci)\n",
    "    ******\n",
    "    *NOTE* Synaptic currents are not accounted for.\n",
    "    \"\"\"\n",
    "#     v = seg.v\n",
    "    \n",
    "    ina = seg.ina # mA/cm2\n",
    "    ik = seg.ik\n",
    "    \n",
    "    if g_mixed != None:\n",
    "        Mixed=[]\n",
    "        for gm, em in zip(g_mixed, erev_mixed):\n",
    "            Mixed.append(split_mixed(seg.v, seg.gm, \n",
    "                                    em, seg.ek, seg.ena)) # Splitting mixed currents [[inam,ikm],[inam,ikm],...]\n",
    "        ina += sum(array(Mixed)[:,0])      # Total Na current\n",
    "        ik  += sum(array(Mixed)[:,1])         # Total K current\n",
    "        \n",
    "    acc  = ina*(seg.v-seg.ena) \n",
    "    acc += ik*(seg.v-seg.ek)\n",
    "#     acc += seg.i_leak*(v-seg.erev_leak)\n",
    "    \n",
    "    factor  = (1e-8) # area(): /um2 -> /cm2\n",
    "    factor *= (1e6) #-> pJ/s\n",
    "    \n",
    "    if mode == None:\n",
    "        acc = acc*seg.area()*factor # pJ/s\n",
    "        return acc\n",
    "\n",
    "    if mode == 'Detailed':\n",
    "        Acc = dict()\n",
    "        # currents_of_interest (list of str)\n",
    "        for cur,erev in currents_of_interest:\n",
    "#             comand_i = 'seg.'+cur\n",
    "#             comand_v = 'seg.'+erev\n",
    "            Acc[cur] = abs(getattr(seg, cur)*(v-getattr(seg, erev)))*factor\n",
    "        Acc['Total'] = acc\n",
    "        return Acc\n",
    "        \n",
    "\n",
    "def synaptic_curr2pJ(syn,seg,mode='Excit'): \n",
    "    \"\"\" mode: 'Excit' or 'Inhib'. So, specify synapses type: if 'Excit', the syn current\n",
    "        is splitted into Na and K components and the total E returned (pJ/a); if 'Inhib', \n",
    "        the syn is *chloride* channel with a given Erev (syn.e), and E = syn.i*(v-syn.e).\n",
    "        --------------\n",
    "        syn.g is in uS. \n",
    "        syn.i is in nA, \n",
    "        seg.v is in mV,\n",
    "        erate is in pJ/s\"\"\"\n",
    "    v  = seg.v # mV\n",
    "    g = syn.g # uS\n",
    "    i = syn.i # nA\n",
    "    if mode == 'Excit':\n",
    "        ina, ik = split_mixed(v, g, 0, seg.ek, seg.ena) # nA\n",
    "        erate = ina*(v-seg.ena) + ik*(v-seg.ek) # nA*mV = pJ/s\n",
    "    if mode == 'Inhib':\n",
    "        erate = i*(v-syn.e) # pJ/s\n",
    "    return erate\n",
    "\n",
    "# def Inh_synaptic_curr2pJ(syn, seg, erev):\n",
    "    \n",
    "def initialize():\n",
    "    h.finitialize(h.v_init)       # make v = h.v_init and compute and fix state variables \n",
    "    h.fcurrent()                  # make all ASSIGNED variables consistent with the values of states\n",
    "\n",
    "    \n",
    "def instant_erates(cell,compartments, synapses, currents_of_interest=None, g_mixed=None, erev_mixed=None, mode=None):\n",
    "    \"\"\"\n",
    "    'compartments' (of the form: ['soma', userg','else',...]): list of compartments where to calculate energy.\n",
    "    Energy for synaptic currents is calculated separatelly via sinapses list 'synapses'.\n",
    "    \n",
    "    mode = None -> only total energy calc\n",
    "    mode = 'hkl' -> plus energy for Ih and Ikl \n",
    "    \"\"\"\n",
    "    Erates = dict()\n",
    "    for cpt in compartments:\n",
    "        Erates[cpt] = sum([mouj_Erate2(seg, currents_of_interest, g_mixed, erev_mixed, mode) for seg in chain(*getattr(cell, cpt))])\n",
    "        Erates[cpt] = [[seg, mouj_Erate2(seg, currents_of_interest, g_mixed, erev_mixed, mode)] for seg in chain(*getattr(cell, cpt))]\n",
    "    \n",
    "#     Erates['synapses'] = np.sum([synaptic_curr2pJ(s,seg) for s,seg,c in cell.synapses])\n",
    "    \n",
    "    return Erates\n",
    "    \n",
    "\n",
    "def integrate_only_spike(yarr, xarr, x_boarders,frac=0.05,see='no'):\n",
    "    '''\n",
    "    In the interval given by `x_boarders` determine the `actual boarders`\n",
    "    to integrate between. A criterion is set by `frac`:\n",
    "    Actual boarders are the `yarr` indices where yarr ~= frac*yarr.max()\n",
    "    '''\n",
    "    x0=x_boarders[0]\n",
    "    x1=x_boarders[1]\n",
    "    idxb0 = map(lambda x: find_nearest(xarr,x), [x0,x1])\n",
    "\n",
    "    # Cut curve from left and right. Make yarrn for `actual boarders` determine\n",
    "    yarrn = yarr[idxb0[0]:idxb0[1]]\n",
    "    tail = len(yarr[:idxb0[0]]) # how much is cut from the left. \n",
    "    yarrn = yarrn-yarrn.min()\n",
    "    yarrn = yarrn/yarrn.max()\n",
    "    \n",
    "    # Determine limits of yarr integration from yarr\n",
    "    Ma = yarrn.max()\n",
    "    Xma = find_nearest(yarrn,Ma) # where to separate \n",
    "    th =  Ma*frac\n",
    "#     print Ma, Xma\n",
    "    if Xma < 0.1: # ih.erate curve has a minimum instead of max!\n",
    "        Ma = yarrn.min()\n",
    "        Xma = find_nearest(yarrn, Ma)\n",
    "        th = 1-frac # find where 0.95 in ih.erate case\n",
    "#     print th\n",
    "    Xleft = find_nearest(yarrn[:Xma], th) # left lim\n",
    "    Xright = find_nearest(yarrn[Xma:], th) + len(yarrn[:Xma]) # right lim\n",
    "#     print Xleft, Xright\n",
    "    # Calc yarr integral\n",
    "    I0 = trapz(y=yarr[idxb0[0]:idxb0[1]],x=xarr[idxb0[0]:idxb0[1]])\n",
    "    I_spike = trapz(y=yarr[Xleft+tail:Xright+tail], x=xarr[Xleft+tail:Xright+tail])\n",
    "    \n",
    "    if see == 'yes':\n",
    "        xarray = xarr[idxb0[0]:idxb0[1]]\n",
    "        figure()\n",
    "        plot(xarray,yarr[idxb0[0]:idxb0[1]],label='Init Data')\n",
    "#         plot(xarray,yarrn,'b',label='Init Data, normalized')\n",
    "#         plot(xarray,ratios,'k--',label='Integral ratio')\n",
    "#         plot(xarray[:-1], D1,label='Derivative of ratio')\n",
    "\n",
    "        axvline(xarray[Xma],color='gray',label='Maxima')\n",
    "        axvline(xarray[Xleft],color='m',label='Left')\n",
    "        axvline(xarray[Xright], color='g',label='Right')\n",
    "        legend(loc=6)\n",
    "        show()\n",
    "    \n",
    "    return I_spike, I0#, Xleft+tail, Xright+tail # these are integration coordinates of init yarr\n",
    "    \n",
    "def integrate_all(data, x_boarders, frac=0.05,see='no',rep=0,mode=0):\n",
    "    \"\"\"\n",
    "    `rep` == 1 => result is printed, `rep`==0 => not printed\n",
    "    mode = 0 => integration within `actual boarderss`\n",
    "    mode = 1 => integration within x_boarders\n",
    "    \"\"\"\n",
    "    Erates = dict()\n",
    "    x = data['t']\n",
    "    for k in data.keys():\n",
    "        if k[-4:] == 'rate':\n",
    "            y = data[k]\n",
    "            I = array(integrate_only_spike(y, x, x_boarders=x_boarders, frac=frac, see=see))*1e-3 # ms->s => pJ\n",
    "#             print I\n",
    "            I = J2atp(I)*6.022*10**11 # pJ -> ATPs\n",
    "            if rep == 1:\n",
    "                print k, 'is %.2e ATPs/Excitement'%I[0]\n",
    "                print '             %.2e ATPs/Excitement -- without cutting, as in Etotal func'%I[1] + '\\n-----'\n",
    "            Erates.update({k:I[mode]}) # I[0] - with 'actual boarders', I[1] - with 'x_boarders' (see integrate_only_spikes func)\n",
    "            \n",
    "    SumEnergy = sum(Erates.values())\n",
    "    Erates.update({'total.erate':SumEnergy})\n",
    "    \n",
    "    return Erates\n",
    "\n",
    "# def get_boarders_from_center(arr, centers):\n",
    "#     \"\"\"Cuts only spikes: returns boarders.\n",
    "#         centers should be set in 'ms'.\n",
    "#         arr = [[time],[values]]\"\"\"\n",
    "#     to_left = \n",
    "#     to_right = \n",
    "#     for c in centers:\n",
    "#         X_left = c - to_left\n",
    "#         X_right = c + to_right\n",
    "#         idx_left = find_nearest(arr[0], X_left) # indexes from time array\n",
    "#         idx_right = find_nearest(arr[0], X_right)\n",
    "\n",
    "\n",
    "#———————————————————————————————————————————————————————————————————————————————————————#\n",
    "\n",
    " # Как зависит стоимость одиночных ПД от интервала между стимулами (частоты стимула)\n",
    "    \n",
    "def rec_APsE(cell,interval=30,n=5,noise=0.0,tstop = None):\n",
    "\n",
    "    SetSynParams(cell,Stim[0],n,interval,noise)\n",
    "    \n",
    "    DataEax = []\n",
    "    h.t=0\n",
    "    initialize()\n",
    "    if tstop == None:\n",
    "        tstop = n*interval + 50\n",
    "\n",
    "    while h.t < tstop:\n",
    "        h.fadvance()\n",
    "        E_lstax = [mouj_Erate2(cell(.5)),h.t]\n",
    "        DataEax.append(E_lstax)\n",
    "    return array(DataEax).T\n",
    "\n",
    "def individual_AP_E(rec_APE,interval,n,showw=0):\n",
    "    Data = dict()\n",
    "    Ii = []\n",
    "    for j in range(len(rec_APE[:-1])): # through segments' moujerate len ~ 1e3. The [-1] item is time array\n",
    "        I=[]\n",
    "#         vec = rec_APE[j] # single seg moujerate of time vec\n",
    "        vec = rec_APE[j]\n",
    "#         plot(rec_APE[-1],vec)\n",
    "#         xlim(0,50)\n",
    "        for i in argrelmax(vec,order=1000)[0]:\n",
    "            if vec[i] > 1.0:\n",
    "#                 axvline(rec_APE[-1][i],color='r')\n",
    "                x_l=rec_APE[-1][i]-3\n",
    "                x_r=rec_APE[-1][i]+7\n",
    "                I.append(integrate_only_spike(vec, rec_APE[-1], x_boarders=[x_l,x_r])[0]) # [energies of all APs in series]\n",
    "        Ii.append(I)\n",
    "        \n",
    "    idx_to_pop = []\n",
    "    for i in range(len(Ii)):\n",
    "        c=0\n",
    "        if sum(Ii[i]) == 0:\n",
    "            idx_to_pop.append(i)\n",
    "            print 'Popped one!'\n",
    "        if len(Ii[i]) < n:\n",
    "            c+=1\n",
    "            for k in range(n-len(Ii[i])): \n",
    "                Ii[i].append(0.)\n",
    "    for i in idx_to_pop:\n",
    "        Ii.pop(i)\n",
    "    \n",
    "#         print \"Hey, There is %d wasted APs! interval=%d\"%(c,interval)\n",
    "    Ii = array(Ii)\n",
    "    Data['interval_'+str(interval)] = Ii\n",
    "#     if showw == 1:\n",
    "#         plot(range(len(Ii[0])),sum(Ii,axis=0), col+'-', alpha=0.3, label = 'itl= '+str(interval))\n",
    "#         legend()\n",
    "    return Data\n",
    "\n",
    "def APcost_on_Rate(cell, noises, intervals, clrs, figsize=(6,3),n=10,showw=1,):\n",
    "    figure(figsize=(6,3))\n",
    "    Data = []\n",
    "    for noi in noises:\n",
    "        Out = []\n",
    "        for interval,col in zip(intervals,clrs):\n",
    "            rec = rec_APsE(cell,interval, n, noi)\n",
    "            APE  = individual_AP_E(rec,interval,n,showw)\n",
    "            vec = sum(APE.values()[0],axis=0)\n",
    "            Out.append([interval, vec])\n",
    "            plot(vec/vec.max(),col,label = 'interval='+str(interval))\n",
    "        Data.append([noi,Out])\n",
    "    legend()\n",
    "    return Data"
   ]
  },
  {
   "cell_type": "code",
   "execution_count": 23,
   "metadata": {},
   "outputs": [
    {
     "data": {
      "text/plain": [
       "({'bushy': <hoc.HocObject at 0x1c1549e858>,\n",
       "  'stellatec': <hoc.HocObject at 0x1c1549ea98>,\n",
       "  'stellatet': <hoc.HocObject at 0x1c1549e9c0>},\n",
       " {'bushy': <hoc.HocObject at 0x1c1549e618>,\n",
       "  'stellatec': <hoc.HocObject at 0x1c1549eae0>,\n",
       "  'stellatet': <hoc.HocObject at 0x1c1549e978>},\n",
       " {'bushy': <hoc.HocObject at 0x1c1549ea08>,\n",
       "  'stellatec': <hoc.HocObject at 0x1c1548cb28>,\n",
       "  'stellatet': <hoc.HocObject at 0x1c1549ea50>})"
      ]
     },
     "execution_count": 23,
     "metadata": {},
     "output_type": "execute_result"
    }
   ],
   "source": [
    "Stim = SetSyn(bushy)\n",
    "SetSyn(stellatet)\n",
    "SetSyn(stellatec)"
   ]
  },
  {
   "cell_type": "code",
   "execution_count": 24,
   "metadata": {
    "collapsed": true
   },
   "outputs": [],
   "source": [
    "for cell in [bushy,stellatet,stellatec]:\n",
    "    SetSynParams(cell,Stim[0],n=10,interval=30,noise=0.,Con=Stim[2],weight=gsyns[cell.name()])"
   ]
  },
  {
   "cell_type": "code",
   "execution_count": 25,
   "metadata": {},
   "outputs": [
    {
     "data": {
      "text/plain": [
       "2000.0"
      ]
     },
     "execution_count": 25,
     "metadata": {},
     "output_type": "execute_result"
    }
   ],
   "source": [
    "h.tstop"
   ]
  },
  {
   "cell_type": "code",
   "execution_count": 26,
   "metadata": {
    "collapsed": true
   },
   "outputs": [],
   "source": [
    "Stim[2]['bushy'].weight[0]=0.01"
   ]
  },
  {
   "cell_type": "code",
   "execution_count": 85,
   "metadata": {
    "scrolled": false
   },
   "outputs": [
    {
     "data": {
      "text/plain": [
       "[[0.0,\n",
       "  [[26, array([ 6.74520579,  6.7424664 ,  6.74034976,  6.73832898,  6.73642592,\n",
       "            6.73462987,  6.73293388,  6.73133217,  6.72981951,  6.72839091])],\n",
       "   [60, array([ 6.74520579,  6.74326811,  6.74157261,  6.7400861 ,  6.73878242,\n",
       "            6.7376391 ,  6.73663645,  6.73575717,  6.73498612,  6.73431001])]]]]"
      ]
     },
     "execution_count": 85,
     "metadata": {},
     "output_type": "execute_result"
    },
    {
     "data": {
      "image/png": "[encoded data removed]",
      "text/plain": [
       "<matplotlib.figure.Figure at 0x1184725d0>"
      ]
     },
     "metadata": {},
     "output_type": "display_data"
    }
   ],
   "source": [
    "# for cell in [bushy,stellatet,stellatec]:\n",
    "# individual_AP_E(rec_APsE(bushy,interval=30,n=10,tstop=350),interval=30,n=10)\n",
    "APcost_on_Rate(bushy,noises=[0.],intervals=[26,60],clrs=['og','or'])"
   ]
  },
  {
   "cell_type": "markdown",
   "metadata": {},
   "source": [
    "# Итого: Bushy тоже не изменяется. Так же, как и OC (распределенный)"
   ]
  },
  {
   "cell_type": "markdown",
   "metadata": {},
   "source": [
    "## Оценка затрат в покое по Attwell и по Moujahid&D'Anjou\n"
   ]
  },
  {
   "cell_type": "code",
   "execution_count": 27,
   "metadata": {
    "collapsed": true
   },
   "outputs": [],
   "source": [
    "def ratp_atwell(V, Rin, Ena = 50, Ek = -70):\n",
    "    \"returns resting ATP consumption rate in pmol ATP/s\"\n",
    "    # I take Rm in MOhms and V in mV\n",
    "    # Thus, result is in nmole/sec\n",
    "    out = (Ena-V)*(V-Ek)/(F*Rin*(V + 2*Ena - 3*Ek))\n",
    "    return out*1e3 # nmol -> pmol\n",
    "\n",
    "def pmol2molecules(x):\n",
    "    return x*1e-12*avogadro\n",
    "\n",
    "def atp2J(nATP):\n",
    "    \"Convert pmol ATP/s to energy usage in pJoule/s\"\n",
    "    return F_ATP * nATP * 1e3\n",
    "    pas\n",
    "\n",
    "def nJ2atp(nJ):\n",
    "    \"convert from Joule/s to mol ATP/s\"\n",
    "    return (nJ/F_ATP)*1e-3\n",
    "\n",
    "def pJ2atp(pJ):\n",
    "    \"pJ/s --> ATPs/s\"\n",
    "    return pmol2molecules(nJ2atp(pJ))"
   ]
  },
  {
   "cell_type": "code",
   "execution_count": 41,
   "metadata": {
    "collapsed": true
   },
   "outputs": [],
   "source": [
    "def mouj_Erate2_d(seg, Iap=0, erev_ih = -43):\n",
    "    v = seg.v\n",
    "    acc = Iap*v\n",
    "    inah, ikh = split_ih(seg)# раскладываем Ih на компоненты\n",
    "    ina = seg.ina + inah      # суммарный ток Na\n",
    "    ik = seg.ik + ikh         # суммарный ток K\n",
    "    \n",
    "    acc += ina*(v-seg.ena) \n",
    "    acc += ik*(v-seg.ek)\n",
    "    acc += seg.i_leak*(v-seg.erev_leak) # Ну и утечка, хотя вклад от нее минимальный\n",
    "    factor = (1e-8) # um^2 -> cm^2\n",
    "    factor *= (1e6) #-> pJ/s\n",
    "    \n",
    "    acc_h = (abs(inah*(v-seg.ena)) + abs(ikh*(v-seg.ek)))*seg.area()*factor\n",
    "    acc_klt = abs(seg.ik_klt*(v-seg.ek))*seg.area()*factor\n",
    "    acc_ka = abs(seg.ik_ka*(v-seg.ek))*seg.area()*factor\n",
    "    \n",
    "    \n",
    "    return array([acc*seg.area()*factor, acc_h, acc_klt, acc_ka])"
   ]
  },
  {
   "cell_type": "code",
   "execution_count": 98,
   "metadata": {
    "collapsed": true
   },
   "outputs": [],
   "source": [
    "def print_ratp_estimate(cell):\n",
    "    attw = ratp_atwell(cell.v, get_Rin(cell))\n",
    "    \n",
    "    mouj_dh, mouj_h_dh, mouj_klt_dh = mouj_Erate2(cell(0.5))\n",
    "#     mouj_atp = nJ2atp(mouj_dh)\n",
    "    print \"Attwell: %.3e pmol ATP/s\"%attw\n",
    "    print \"Moujahid: %.3e pmol ATP/s\"%mouj_atp\n",
    "    print \"A:M ratio: %2.3f\"%(attw/mouj_atp)\n",
    "    \n",
    "def print_erate_estimate(cell):\n",
    "    attw = ratp_atwell(cell.v, get_Rin(cell))\n",
    "    seg = cell(0.5)\n",
    "    mouj_set = mouj_Erate2_d(seg)[0]\n",
    "#     mujpow = seg.erate_mujpow*seg.area()*1e-8\n",
    "    attw_erate = atp2J(attw)\n",
    "    print \"Attwell: %.3e pJ/s\"%attw_erate\n",
    "    print \"Moujahid: %.3e, pJ/s\"%(mouj_set)\n",
    "#     print \"Mujpow dummy mech: %.3e pJ/s\"%mujpow\n",
    "    print \"A:M ratio: %2.3f\"%(attw_erate/mouj_set)"
   ]
  },
  {
   "cell_type": "code",
   "execution_count": 99,
   "metadata": {},
   "outputs": [
    {
     "name": "stdout",
     "output_type": "stream",
     "text": [
      "=====  bushy  =====\n",
      "Attwell: 2.151e+01 pJ/s\n",
      "Moujahid: 9.044e+00, pJ/s\n",
      "A:M ratio: 2.379\n",
      "------\n",
      "\n",
      "=====  octopus  =====\n",
      "Attwell: 1.412e+02 pJ/s\n",
      "Moujahid: 1.150e+02, pJ/s\n",
      "A:M ratio: 1.227\n",
      "------\n",
      "\n",
      "=====  stellatec  =====\n",
      "Attwell: 3.082e+00 pJ/s\n",
      "Moujahid: 3.086e-01, pJ/s\n",
      "A:M ratio: 9.985\n",
      "------\n",
      "\n",
      "=====  stellatet  =====\n",
      "Attwell: 3.093e+00 pJ/s\n",
      "Moujahid: 3.127e-01, pJ/s\n",
      "A:M ratio: 9.892\n",
      "------\n",
      "\n"
     ]
    }
   ],
   "source": [
    "for npx in neurons:\n",
    "    n = npx[0]\n",
    "    print '===== ', n.name(), ' ====='\n",
    "    print_erate_estimate(n)\n",
    "    #print \"Mujpow dummy mechanism: \", n.\n",
    "    print '------\\n'\n",
    "\n"
   ]
  },
  {
   "cell_type": "code",
   "execution_count": 100,
   "metadata": {
    "scrolled": true
   },
   "outputs": [],
   "source": [
    "# Plottin this sh*t (18.08.17 for article)\n",
    "# -------------------------- Units: 1e9 ATP/s\n",
    "def collect_MoujErates(neurons):\n",
    "    Mes = dict()\n",
    "    for npx in neurons:\n",
    "        Mes[npx[0].name()] = pJ2atp(mouj_Erate2_d(npx[0](.5)))/1e9 # total, ih, ikl, ika\n",
    "    return Mes\n",
    "\n",
    "Mes = collect_MoujErates(neurons)\n",
    "Mes = pandas.DataFrame(Mes,index=['Total','g$_h$','g$_{Klt}$','g$_{A}$']).T"
   ]
  },
  {
   "cell_type": "code",
   "execution_count": 101,
   "metadata": {},
   "outputs": [
    {
     "data": {
      "text/html": [
       "<div>\n",
       "<style>\n",
       "    .dataframe thead tr:only-child th {\n",
       "        text-align: right;\n",
       "    }\n",
       "\n",
       "    .dataframe thead th {\n",
       "        text-align: left;\n",
       "    }\n",
       "\n",
       "    .dataframe tbody tr th {\n",
       "        vertical-align: top;\n",
       "    }\n",
       "</style>\n",
       "<table border=\"1\" class=\"dataframe\">\n",
       "  <thead>\n",
       "    <tr style=\"text-align: right;\">\n",
       "      <th></th>\n",
       "      <th>Total</th>\n",
       "      <th>g$_h$</th>\n",
       "      <th>g$_{Klt}$</th>\n",
       "      <th>g$_{A}$</th>\n",
       "    </tr>\n",
       "  </thead>\n",
       "  <tbody>\n",
       "    <tr>\n",
       "      <th>bushy</th>\n",
       "      <td>0.108928</td>\n",
       "      <td>0.103315</td>\n",
       "      <td>0.004459</td>\n",
       "      <td>0.000000</td>\n",
       "    </tr>\n",
       "    <tr>\n",
       "      <th>octopus</th>\n",
       "      <td>1.385559</td>\n",
       "      <td>1.297766</td>\n",
       "      <td>0.082196</td>\n",
       "      <td>0.000000</td>\n",
       "    </tr>\n",
       "    <tr>\n",
       "      <th>stellatec</th>\n",
       "      <td>0.003717</td>\n",
       "      <td>0.002691</td>\n",
       "      <td>0.000000</td>\n",
       "      <td>0.000000</td>\n",
       "    </tr>\n",
       "    <tr>\n",
       "      <th>stellatet</th>\n",
       "      <td>0.003766</td>\n",
       "      <td>0.002789</td>\n",
       "      <td>0.000000</td>\n",
       "      <td>0.000045</td>\n",
       "    </tr>\n",
       "  </tbody>\n",
       "</table>\n",
       "</div>"
      ],
      "text/plain": [
       "              Total     g$_h$  g$_{Klt}$   g$_{A}$\n",
       "bushy      0.108928  0.103315   0.004459  0.000000\n",
       "octopus    1.385559  1.297766   0.082196  0.000000\n",
       "stellatec  0.003717  0.002691   0.000000  0.000000\n",
       "stellatet  0.003766  0.002789   0.000000  0.000045"
      ]
     },
     "execution_count": 101,
     "metadata": {},
     "output_type": "execute_result"
    }
   ],
   "source": [
    "Mes"
   ]
  },
  {
   "cell_type": "code",
   "execution_count": 102,
   "metadata": {
    "collapsed": true
   },
   "outputs": [],
   "source": [
    "Mes.Total = Mes.Total -Mes['g$_h$'] -Mes['g$_{Klt}$'] -Mes['g$_{A}$']\n",
    "\n",
    "Mes = Mes.rename(index={'bushy':'BC','octopus':'OC','stellatet':'SC'}, columns={'Total':'Other'})\n",
    "\n",
    "Mes=Mes.drop(['stellatec'])"
   ]
  },
  {
   "cell_type": "code",
   "execution_count": 107,
   "metadata": {
    "collapsed": true
   },
   "outputs": [],
   "source": [
    "font = {'family' : 'times',\n",
    "        'weight' : 'normal',\n",
    "        'size'   : 15}\n",
    "\n",
    "matplotlib.rc('font', **font)"
   ]
  },
  {
   "cell_type": "code",
   "execution_count": 111,
   "metadata": {},
   "outputs": [
    {
     "data": {
      "text/plain": [
       "[<matplotlib.axis.YTick at 0x1c1577bd10>,\n",
       " <matplotlib.axis.YTick at 0x1c1577bf10>,\n",
       " <matplotlib.axis.YTick at 0x1c16861cd0>]"
      ]
     },
     "execution_count": 111,
     "metadata": {},
     "output_type": "execute_result"
    },
    {
     "data": {
      "image/png": "[encoded data removed]",
      "text/plain": [
       "<matplotlib.figure.Figure at 0x1139952d0>"
      ]
     },
     "metadata": {},
     "output_type": "display_data"
    }
   ],
   "source": [
    "\n",
    "\n",
    "fig,ax = subplots(figsize=(5,4))\n",
    "Mes.plot.bar(stacked=True,color=['grey','#deb0b0','#b0c4de', 'm'],width=0.7,rot=0,ax=ax)\n",
    "\n",
    "yscale('log')\n",
    "from matplotlib.ticker import ScalarFormatter\n",
    "ax.yaxis.set_major_formatter(ScalarFormatter())\n",
    "ax.set_ylabel('$\\dot{H}$, $10^9$ ATPs/s')#, fontsize=15)\n",
    "ax.yaxis.set_ticks([0.01,0.1,1.0])\n",
    "# tight_layout()\n",
    "# savefig('Point-models-resting-energy.svg')"
   ]
  },
  {
   "cell_type": "markdown",
   "metadata": {},
   "source": [
    "## ≠≠≠≠≠≠≠≠≠≠≠≠≠≠≠≠≠≠≠≠≠≠≠≠≠≠≠≠≠≠≠≠≠≠≠≠≠≠≠≠≠≠≠≠≠≠≠≠≠≠≠≠≠≠≠≠≠≠≠≠≠≠≠≠≠≠≠≠≠≠≠≠\n",
    "## Добавляем синапсы "
   ]
  },
  {
   "cell_type": "code",
   "execution_count": 30,
   "metadata": {
    "collapsed": true
   },
   "outputs": [],
   "source": [
    "# 18.08.17 for article >>>>>>>>>>>>>>>>>>>>>>\n",
    "# Use single Synapses with Gbars from table 1 (RM03c) at 22 degC \n",
    "\n",
    "gsyns = {'octopus':8.6e-3, 'bushy':8.6e-3, 'stellatet':2.2e-3, 'stellatec':2.0e-3} # uS"
   ]
  },
  {
   "cell_type": "code",
   "execution_count": 31,
   "metadata": {
    "collapsed": true
   },
   "outputs": [],
   "source": [
    "# Source of stimuli\n",
    "afib = h.NetStim() "
   ]
  },
  {
   "cell_type": "code",
   "execution_count": 32,
   "metadata": {
    "collapsed": true
   },
   "outputs": [],
   "source": [
    "afib.interval = 1 # ms \n",
    "afib.start = 100 # ms\n",
    "afib.number = 1 # number of spikes\n",
    "afib.noise = 0.0 # no randomness so far"
   ]
  },
  {
   "cell_type": "code",
   "execution_count": 33,
   "metadata": {
    "collapsed": true
   },
   "outputs": [],
   "source": [
    "# All cells with a single 'resultant' synapse\n",
    "synapses = dict()\n",
    "connections = dict()\n",
    "\n",
    "for i in range(4):\n",
    "    cell = neurons[i][0]\n",
    "    synapses[cell.name()] = h.ExpSyn(cell(.5))\n",
    "    synapses[cell.name()].tau = 0.4 # RM03c p. 3099\n",
    "    \n",
    "    connections[cell.name()] = h.NetCon(afib, synapses[cell.name()],\n",
    "                                        0,0, gsyns[cell.name()])\n"
   ]
  },
  {
   "cell_type": "code",
   "execution_count": 34,
   "metadata": {
    "collapsed": true
   },
   "outputs": [],
   "source": [
    "# recs_v = {k[0].name():h.Vector() for k in neurons}"
   ]
  },
  {
   "cell_type": "code",
   "execution_count": 35,
   "metadata": {
    "collapsed": true
   },
   "outputs": [],
   "source": [
    "afib.start = 1250"
   ]
  },
  {
   "cell_type": "code",
   "execution_count": 36,
   "metadata": {
    "collapsed": true
   },
   "outputs": [],
   "source": [
    "# ok\n",
    "def setup_stim(cell, weight):\n",
    "    connections[cell.name()].weight[0] = weight\n",
    "    \n",
    "def setup_pulse_stim(cell, amp=0, delay=1000, dur=3):\n",
    "    Clamps[cell.name()].delay = delay\n",
    "    Clamps[cell.name()].amp= amp\n",
    "    Clamps[cell.name()].dur = dur\n",
    "\n",
    "def find_threshold(cell, start_range, tol=0.01,\n",
    "                   vthresh = -25,\n",
    "                   setter=setup_stim):\n",
    "    \n",
    "    vax = h.Vector()\n",
    "    vax.record(cell(0.5)._ref_v) \n",
    "    \n",
    "#     if not hasattr(cell, 'stim'):\n",
    "#         add_single_pulse_stim(cell)\n",
    " \n",
    "    start_range = np.array(map(float, start_range)) # interval of IClamp amps in which to look for a threash amp\n",
    "    min_range = tol*np.mean(start_range) # min interval. Sets presision\n",
    "  \n",
    "    def spikep(par):  # takes *parameter*, adds synapses to cell with the *parameter* and h.runs recording voltage\n",
    "                        # Returns max value of voltage of depolarisation over time.\n",
    "        setter(cell, par)\n",
    "        if setter == setup_stim:\n",
    "            h.tstop = afib.start + synapses[cell.name()].tau*10\n",
    "        if setter == setup_pulse_stim:\n",
    "            h.tstop = Clamps[cell.name()].delay + Clamps[cell.name()].dur + 1.0\n",
    "        h.run()\n",
    "        return array(vax).max()\n",
    "    \n",
    "    nfix = 10\n",
    "    ntries = 0\n",
    "    while not spikep(start_range[1])>vthresh: # \"Is it AP?\"\n",
    "        start_range[1] *= 2.0 # if not, widen the min interval\n",
    "        ntries += 1\n",
    "        if ntries > nfix:\n",
    "            print \"Can't find threshold: max_amp isn't enough!\"\n",
    "            print \"Giving up.\"\n",
    "            return False\n",
    "        \n",
    "    \n",
    "    def loop(begin, end):   # Provides boarders of start_range to approach min_range.\n",
    "                            # Returns min IClamp current amp resulting to AP generation,\n",
    "                            # and max voltage of the AP.\n",
    "        if end-begin < min_range:\n",
    "            return end, spikep(end)\n",
    "        val = np.mean((begin, end))\n",
    "        if spikep(val) > vthresh:\n",
    "            return loop(begin, val)\n",
    "        else:\n",
    "            return loop(val, end)\n",
    "\n",
    "    return loop(start_range[0], start_range[1])\n",
    "\n",
    "# ok\n",
    "def plot_around_th(cell, th, setter=setup_stim, coefs = [0.95, 1, 1.05]):\n",
    "    f, axs = subplots(2,1,sharex=True, figsize=(9,9))\n",
    "    \n",
    "    tv = h.Vector()\n",
    "    tv.record(h._ref_t)\n",
    "    \n",
    "    istim = h.Vector()\n",
    "    if setter == setup_stim:\n",
    "        istim.record(synapses[cell.name()]._ref_i)\n",
    "    if setter == setup_pulse_stim:\n",
    "        istim.record(Clamps[cell.name()]._ref_i)\n",
    "\n",
    "    vax = h.Vector()\n",
    "    vax.record(cell(0.5)._ref_v) \n",
    "    \n",
    "    for c in coefs:\n",
    "        setter(cell, c*th)\n",
    "        h.run()\n",
    "        axs[0].plot(tv, vax,  label='%0.2f th'%c)\n",
    "        axs[1].plot(tv, istim,'k-', alpha=0.6)\n",
    "#         setp(axs[1], ylim=(-0.1, amax(array(cell.istim))*1.2))\n",
    "\n",
    "    axs[0].legend(loc='upper left')\n",
    "    axs[0].set_ylabel('membrane potential, mV')\n",
    "    setp(axs[1], xlabel='time, ms', ylabel='Istim')\n",
    "    axs[0].set_xlim(h.tstop-10,h.tstop+10)\n",
    "    axs[1].set_xlim(h.tstop-10,h.tstop+10)\n",
    "\n"
   ]
  },
  {
   "cell_type": "code",
   "execution_count": 37,
   "metadata": {},
   "outputs": [
    {
     "name": "stdout",
     "output_type": "stream",
     "text": [
      "CPU times: user 28.2 s, sys: 31 ms, total: 28.2 s\n",
      "Wall time: 28.3 s\n"
     ]
    }
   ],
   "source": [
    "%%time\n",
    "\n",
    "ths = dict()\n",
    "for n in neurons:\n",
    "    nn = n[0].name()\n",
    "    ths[nn] = find_threshold(n[0], array([0.01,0.1]), vthresh=0)"
   ]
  },
  {
   "cell_type": "code",
   "execution_count": 38,
   "metadata": {},
   "outputs": [
    {
     "name": "stdout",
     "output_type": "stream",
     "text": [
      "{'stellatec': (0.010351562500000001, 42.905695325990749), 'octopus': (1.1473779296875, 0.00015763177135812156), 'bushy': (0.01984375, 15.853087341380027), 'stellatet': (0.010351562500000001, 38.781309658485213)}\n",
      "------\n",
      "No AP in Octopus cell... Try IClamp next\n"
     ]
    }
   ],
   "source": [
    "print ths\n",
    "print '------\\nNo AP in Octopus cell... Try IClamp next'"
   ]
  },
  {
   "cell_type": "code",
   "execution_count": 39,
   "metadata": {
    "collapsed": true
   },
   "outputs": [],
   "source": [
    "# Trying IClamp\n",
    "\n",
    "Clamps = dict()\n",
    "for n in neurons:\n",
    "    Clamps[n[0].name()] = h.IClamp(0.5, sec=n[0])"
   ]
  },
  {
   "cell_type": "code",
   "execution_count": 40,
   "metadata": {
    "collapsed": true
   },
   "outputs": [],
   "source": [
    "ths_IC = dict()\n",
    "for n in neurons:\n",
    "    nn = n[0].name()\n",
    "    ths_IC[nn] = find_threshold(n[0], array([1.,6.]), vthresh=0, setter=setup_pulse_stim)"
   ]
  },
  {
   "cell_type": "code",
   "execution_count": 41,
   "metadata": {
    "collapsed": true
   },
   "outputs": [],
   "source": [
    "ths_IC['octopus'] = find_threshold(neurons[1][0], array([2.,10.]), vthresh=50, setter=setup_pulse_stim)"
   ]
  },
  {
   "cell_type": "code",
   "execution_count": 42,
   "metadata": {},
   "outputs": [
    {
     "name": "stdout",
     "output_type": "stream",
     "text": [
      "{'stellatec': (1.01953125, 48.159432224868013), 'octopus': (11.03515625, 50.059154584888105), 'bushy': (1.01953125, 36.520211970589258), 'stellatet': (1.01953125, 44.303250937685974)}\n",
      "-------\n",
      "Octopus cells are extraordinarily unexcitable here...\n"
     ]
    }
   ],
   "source": [
    "print ths_IC\n",
    "print '-------\\nOctopus cells are extraordinarily unexcitable here...'"
   ]
  },
  {
   "cell_type": "code",
   "execution_count": 43,
   "metadata": {
    "collapsed": true
   },
   "outputs": [],
   "source": [
    "# 18.08.17 for article "
   ]
  },
  {
   "cell_type": "code",
   "execution_count": 46,
   "metadata": {},
   "outputs": [
    {
     "ename": "NameError",
     "evalue": "name 'octopus_rec' is not defined",
     "output_type": "error",
     "traceback": [
      "\u001b[0;31m---------------------------------------------------------------------------\u001b[0m",
      "\u001b[0;31mNameError\u001b[0m                                 Traceback (most recent call last)",
      "\u001b[0;32m<ipython-input-46-79e1bd9f1c75>\u001b[0m in \u001b[0;36m<module>\u001b[0;34m()\u001b[0m\n\u001b[1;32m      1\u001b[0m \u001b[0mf\u001b[0m\u001b[0;34m,\u001b[0m \u001b[0maxs\u001b[0m \u001b[0;34m=\u001b[0m \u001b[0msubplots\u001b[0m\u001b[0;34m(\u001b[0m\u001b[0;36m2\u001b[0m\u001b[0;34m,\u001b[0m\u001b[0;36m1\u001b[0m\u001b[0;34m,\u001b[0m\u001b[0msharex\u001b[0m\u001b[0;34m=\u001b[0m\u001b[0mTrue\u001b[0m\u001b[0;34m,\u001b[0m\u001b[0mfigsize\u001b[0m\u001b[0;34m=\u001b[0m\u001b[0;34m(\u001b[0m\u001b[0;36m16\u001b[0m\u001b[0;34m,\u001b[0m\u001b[0;36m6\u001b[0m\u001b[0;34m)\u001b[0m\u001b[0;34m)\u001b[0m\u001b[0;34m\u001b[0m\u001b[0m\n\u001b[0;32m----> 2\u001b[0;31m \u001b[0maxs\u001b[0m\u001b[0;34m[\u001b[0m\u001b[0;36m0\u001b[0m\u001b[0;34m]\u001b[0m\u001b[0;34m.\u001b[0m\u001b[0mplot\u001b[0m\u001b[0;34m(\u001b[0m\u001b[0mt_vec\u001b[0m\u001b[0;34m,\u001b[0m \u001b[0moctopus_rec\u001b[0m\u001b[0;34m[\u001b[0m\u001b[0;34m'v'\u001b[0m\u001b[0;34m]\u001b[0m\u001b[0;34m,\u001b[0m \u001b[0mcolor\u001b[0m\u001b[0;34m=\u001b[0m\u001b[0;34m'royalblue'\u001b[0m\u001b[0;34m)\u001b[0m\u001b[0;34m\u001b[0m\u001b[0m\n\u001b[0m\u001b[1;32m      3\u001b[0m \u001b[0msetp\u001b[0m\u001b[0;34m(\u001b[0m\u001b[0maxs\u001b[0m\u001b[0;34m[\u001b[0m\u001b[0;36m0\u001b[0m\u001b[0;34m]\u001b[0m\u001b[0;34m,\u001b[0m \u001b[0mylabel\u001b[0m\u001b[0;34m=\u001b[0m\u001b[0;34m'V [mV]'\u001b[0m\u001b[0;34m)\u001b[0m\u001b[0;34m\u001b[0m\u001b[0m\n\u001b[1;32m      4\u001b[0m \u001b[0;31m#axs[0].set_ylabel('V, mV')\u001b[0m\u001b[0;34m\u001b[0m\u001b[0;34m\u001b[0m\u001b[0m\n\u001b[1;32m      5\u001b[0m \u001b[0;34m\u001b[0m\u001b[0m\n",
      "\u001b[0;31mNameError\u001b[0m: name 'octopus_rec' is not defined"
     ]
    },
    {
     "data": {
      "image/png": "[encoded data removed]",
      "text/plain": [
       "<matplotlib.figure.Figure at 0x10ee38510>"
      ]
     },
     "metadata": {},
     "output_type": "display_data"
    }
   ],
   "source": [
    "f, axs = subplots(2,1,sharex=True,figsize=(16,6))\n",
    "axs[0].plot(t_vec, octopus_rec['v'], color='royalblue')\n",
    "setp(axs[0], ylabel='V [mV]')\n",
    "#axs[0].set_ylabel('V, mV')\n",
    "\n",
    "axs[1].plot(t_vec, array(octopus_rec['erate'])*soma_area)\n",
    "axs[1].set_ylabel('Erate, pJ/s')\n",
    "#xlim(138,145)\n",
    "#ylim(-2000,2000)\n",
    "suptitle(\"Suprathreshold EPSPs\",size=14)"
   ]
  },
  {
   "cell_type": "markdown",
   "metadata": {},
   "source": [
    "## Simulation control from Python\n"
   ]
  },
  {
   "cell_type": "code",
   "execution_count": 47,
   "metadata": {
    "collapsed": true
   },
   "outputs": [],
   "source": [
    "def synaptic_curr2pJ(syn,seg):\n",
    "    # syn.g is in uS, syn.i is in nA, erate is in pJ/s\n",
    "    v  = seg.v\n",
    "    g = syn.g\n",
    "    ina, ik = split_mixed(v, g, 0, seg.ek, seg.ena)\n",
    "    erate = ina*(v-seg.ena) + ik*(v-seg.ek)\n",
    "    return erate"
   ]
  },
  {
   "cell_type": "code",
   "execution_count": 50,
   "metadata": {},
   "outputs": [
    {
     "data": {
      "text/plain": [
       "{'bushy': <hoc.HocObject at 0x10ff22f18>,\n",
       " 'octopus': <hoc.HocObject at 0x10ee184f8>,\n",
       " 'stellatec': <hoc.HocObject at 0x10fef55d0>,\n",
       " 'stellatet': <hoc.HocObject at 0x1149bb198>}"
      ]
     },
     "execution_count": 50,
     "metadata": {},
     "output_type": "execute_result"
    }
   ],
   "source": [
    "connections"
   ]
  },
  {
   "cell_type": "code",
   "execution_count": 51,
   "metadata": {},
   "outputs": [
    {
     "ename": "AttributeError",
     "evalue": "'str' object has no attribute 'g'",
     "output_type": "error",
     "traceback": [
      "\u001b[0;31m---------------------------------------------------------------------------\u001b[0m",
      "\u001b[0;31mAttributeError\u001b[0m                            Traceback (most recent call last)",
      "\u001b[0;32m<ipython-input-51-c10755b4826c>\u001b[0m in \u001b[0;36m<module>\u001b[0;34m()\u001b[0m\n\u001b[1;32m     40\u001b[0m \u001b[0;34m\u001b[0m\u001b[0m\n\u001b[1;32m     41\u001b[0m \u001b[0;34m\u001b[0m\u001b[0m\n\u001b[0;32m---> 42\u001b[0;31m \u001b[0mdata\u001b[0m \u001b[0;34m=\u001b[0m \u001b[0mgo\u001b[0m\u001b[0;34m(\u001b[0m\u001b[0;34m)\u001b[0m\u001b[0;34m\u001b[0m\u001b[0m\n\u001b[0m\u001b[1;32m     43\u001b[0m \u001b[0mplot_traj\u001b[0m\u001b[0;34m(\u001b[0m\u001b[0mdata\u001b[0m\u001b[0;34m)\u001b[0m\u001b[0;34m\u001b[0m\u001b[0m\n\u001b[1;32m     44\u001b[0m \u001b[0mxlim\u001b[0m\u001b[0;34m(\u001b[0m\u001b[0;36m99\u001b[0m\u001b[0;34m,\u001b[0m\u001b[0;36m102\u001b[0m\u001b[0;34m)\u001b[0m\u001b[0;34m\u001b[0m\u001b[0m\n",
      "\u001b[0;32m<ipython-input-51-c10755b4826c>\u001b[0m in \u001b[0;36mgo\u001b[0;34m()\u001b[0m\n\u001b[1;32m     29\u001b[0m \u001b[0;32mdef\u001b[0m \u001b[0mgo\u001b[0m\u001b[0;34m(\u001b[0m\u001b[0;34m)\u001b[0m\u001b[0;34m:\u001b[0m\u001b[0;34m\u001b[0m\u001b[0m\n\u001b[1;32m     30\u001b[0m     \u001b[0minitialize\u001b[0m\u001b[0;34m(\u001b[0m\u001b[0;34m)\u001b[0m\u001b[0;34m\u001b[0m\u001b[0m\n\u001b[0;32m---> 31\u001b[0;31m     \u001b[0;32mreturn\u001b[0m \u001b[0mintegrate\u001b[0m\u001b[0;34m(\u001b[0m\u001b[0;34m)\u001b[0m\u001b[0;34m\u001b[0m\u001b[0m\n\u001b[0m\u001b[1;32m     32\u001b[0m \u001b[0;34m\u001b[0m\u001b[0m\n\u001b[1;32m     33\u001b[0m \u001b[0;32mdef\u001b[0m \u001b[0mplot_traj\u001b[0m\u001b[0;34m(\u001b[0m\u001b[0mtraj\u001b[0m\u001b[0;34m)\u001b[0m\u001b[0;34m:\u001b[0m\u001b[0;34m\u001b[0m\u001b[0m\n",
      "\u001b[0;32m<ipython-input-51-c10755b4826c>\u001b[0m in \u001b[0;36mintegrate\u001b[0;34m()\u001b[0m\n\u001b[1;32m     20\u001b[0m         \u001b[0mh\u001b[0m\u001b[0;34m.\u001b[0m\u001b[0mfadvance\u001b[0m\u001b[0;34m(\u001b[0m\u001b[0;34m)\u001b[0m\u001b[0;34m\u001b[0m\u001b[0m\n\u001b[1;32m     21\u001b[0m         \u001b[0;31m#isyn = np.sum([syn.i for syn in synapses])\u001b[0m\u001b[0;34m\u001b[0m\u001b[0;34m\u001b[0m\u001b[0m\n\u001b[0;32m---> 22\u001b[0;31m         \u001b[0msyn_rate\u001b[0m \u001b[0;34m=\u001b[0m \u001b[0mnp\u001b[0m\u001b[0;34m.\u001b[0m\u001b[0msum\u001b[0m\u001b[0;34m(\u001b[0m\u001b[0;34m[\u001b[0m\u001b[0msynaptic_curr2pJ\u001b[0m\u001b[0;34m(\u001b[0m\u001b[0ms\u001b[0m\u001b[0;34m,\u001b[0m \u001b[0mseg\u001b[0m\u001b[0;34m)\u001b[0m \u001b[0;32mfor\u001b[0m \u001b[0ms\u001b[0m \u001b[0;32min\u001b[0m \u001b[0msynapses\u001b[0m\u001b[0;34m]\u001b[0m\u001b[0;34m)\u001b[0m\u001b[0;34m\u001b[0m\u001b[0m\n\u001b[0m\u001b[1;32m     23\u001b[0m         \u001b[0mout\u001b[0m\u001b[0;34m[\u001b[0m\u001b[0;34m't'\u001b[0m\u001b[0;34m]\u001b[0m\u001b[0;34m.\u001b[0m\u001b[0mappend\u001b[0m\u001b[0;34m(\u001b[0m\u001b[0mh\u001b[0m\u001b[0;34m.\u001b[0m\u001b[0mt\u001b[0m\u001b[0;34m)\u001b[0m\u001b[0;34m\u001b[0m\u001b[0m\n\u001b[1;32m     24\u001b[0m         \u001b[0mout\u001b[0m\u001b[0;34m[\u001b[0m\u001b[0;34m'v'\u001b[0m\u001b[0;34m]\u001b[0m\u001b[0;34m.\u001b[0m\u001b[0mappend\u001b[0m\u001b[0;34m(\u001b[0m\u001b[0mseg\u001b[0m\u001b[0;34m.\u001b[0m\u001b[0mv\u001b[0m\u001b[0;34m)\u001b[0m\u001b[0;34m\u001b[0m\u001b[0m\n",
      "\u001b[0;32m<ipython-input-47-7fd78d234441>\u001b[0m in \u001b[0;36msynaptic_curr2pJ\u001b[0;34m(syn, seg)\u001b[0m\n\u001b[1;32m      2\u001b[0m     \u001b[0;31m# syn.g is in uS, syn.i is in nA, erate is in pJ/s\u001b[0m\u001b[0;34m\u001b[0m\u001b[0;34m\u001b[0m\u001b[0m\n\u001b[1;32m      3\u001b[0m     \u001b[0mv\u001b[0m  \u001b[0;34m=\u001b[0m \u001b[0mseg\u001b[0m\u001b[0;34m.\u001b[0m\u001b[0mv\u001b[0m\u001b[0;34m\u001b[0m\u001b[0m\n\u001b[0;32m----> 4\u001b[0;31m     \u001b[0mg\u001b[0m \u001b[0;34m=\u001b[0m \u001b[0msyn\u001b[0m\u001b[0;34m.\u001b[0m\u001b[0mg\u001b[0m\u001b[0;34m\u001b[0m\u001b[0m\n\u001b[0m\u001b[1;32m      5\u001b[0m     \u001b[0mina\u001b[0m\u001b[0;34m,\u001b[0m \u001b[0mik\u001b[0m \u001b[0;34m=\u001b[0m \u001b[0msplit_mixed\u001b[0m\u001b[0;34m(\u001b[0m\u001b[0mv\u001b[0m\u001b[0;34m,\u001b[0m \u001b[0mg\u001b[0m\u001b[0;34m,\u001b[0m \u001b[0;36m0\u001b[0m\u001b[0;34m,\u001b[0m \u001b[0mseg\u001b[0m\u001b[0;34m.\u001b[0m\u001b[0mek\u001b[0m\u001b[0;34m,\u001b[0m \u001b[0mseg\u001b[0m\u001b[0;34m.\u001b[0m\u001b[0mena\u001b[0m\u001b[0;34m)\u001b[0m\u001b[0;34m\u001b[0m\u001b[0m\n\u001b[1;32m      6\u001b[0m     \u001b[0merate\u001b[0m \u001b[0;34m=\u001b[0m \u001b[0mina\u001b[0m\u001b[0;34m*\u001b[0m\u001b[0;34m(\u001b[0m\u001b[0mv\u001b[0m\u001b[0;34m-\u001b[0m\u001b[0mseg\u001b[0m\u001b[0;34m.\u001b[0m\u001b[0mena\u001b[0m\u001b[0;34m)\u001b[0m \u001b[0;34m+\u001b[0m \u001b[0mik\u001b[0m\u001b[0;34m*\u001b[0m\u001b[0;34m(\u001b[0m\u001b[0mv\u001b[0m\u001b[0;34m-\u001b[0m\u001b[0mseg\u001b[0m\u001b[0;34m.\u001b[0m\u001b[0mek\u001b[0m\u001b[0;34m)\u001b[0m\u001b[0;34m\u001b[0m\u001b[0m\n",
      "\u001b[0;31mAttributeError\u001b[0m: 'str' object has no attribute 'g'"
     ]
    }
   ],
   "source": [
    "h.dt = 0.01\n",
    "tstop = 1300\n",
    "\n",
    "\n",
    "for con in connections.values():\n",
    "    con.weight[0] = 1e-3*30\n",
    "\n",
    "def initialize():\n",
    "    h.finitialize(h.v_init)\n",
    "    h.fcurrent()\n",
    "\n",
    "    \n",
    "def integrate():\n",
    "    #tstamps =  []\n",
    "    #erate = []\n",
    "    #v = []\n",
    "    out = {key:[] for key in ['t','v','erate', 'syn_rate']}\n",
    "    seg = octopus(0.5)\n",
    "    while h.t < tstop:\n",
    "        h.fadvance()\n",
    "        #isyn = np.sum([syn.i for syn in synapses])\n",
    "        syn_rate = np.sum([synaptic_curr2pJ(s, seg) for s in synapses])\n",
    "        out['t'].append(h.t)\n",
    "        out['v'].append(seg.v)\n",
    "        out['erate'].append(mouj_Erate2(seg))\n",
    "        out['syn_rate'].append(syn_rate)\n",
    "    return {key:np.array(vec) for key,vec in out.items()}\n",
    "\n",
    "def go():\n",
    "    initialize()\n",
    "    return integrate()\n",
    "    \n",
    "def plot_traj(traj):\n",
    "    f, axs = subplots(2,1,sharex=True, figsize=(12,9))\n",
    "    axs[0].plot(traj['t'], traj['v'],'b-')\n",
    "    axs[0].set_ylabel('Voltage')\n",
    "    axs[1].plot(traj['t'], traj['erate'], '-', label='ion channels')\n",
    "    axs[1].plot(traj['t'], traj['syn_rate'], '-', color='orange', label='synaptic')\n",
    "    legend()\n",
    "\n",
    "\n",
    "data = go()\n",
    "plot_traj(data)\n",
    "xlim(99,102)"
   ]
  },
  {
   "cell_type": "code",
   "execution_count": 37,
   "metadata": {
    "scrolled": false
   },
   "outputs": [
    {
     "data": {
      "text/plain": [
       "<matplotlib.legend.Legend at 0x10b9eb690>"
      ]
     },
     "execution_count": 37,
     "metadata": {},
     "output_type": "execute_result"
    },
    {
     "data": {
      "image/png": "[encoded data removed]",
      "text/plain": [
       "<matplotlib.figure.Figure at 0x10aa06610>"
      ]
     },
     "metadata": {},
     "output_type": "display_data"
    }
   ],
   "source": [
    "plot_traj(data)\n",
    "xlim(99.5,103)\n",
    "xlabel('time [ms]')\n",
    "suptitle('One spike view',size=14)\n",
    "setp(gcf().axes[0], ylabel='membrane potential [mV]')\n",
    "setp(gcf().axes[1], ylabel='energy rate [pJ/s]')\n",
    "legend()"
   ]
  },
  {
   "cell_type": "code",
   "execution_count": 39,
   "metadata": {
    "collapsed": true
   },
   "outputs": [],
   "source": [
    "def find_nearest(array, value):\n",
    "    \"Element in nd array `a` closest to the scalar value `a0`\"\n",
    "    idx = np.abs(array - value).argmin()\n",
    "    return idx"
   ]
  },
  {
   "cell_type": "code",
   "execution_count": 40,
   "metadata": {
    "collapsed": true
   },
   "outputs": [],
   "source": [
    "def active_to_rest_e(data, start, stop, delta):\n",
    "\n",
    "    mi_r, mi_a = find_nearest(data['t'], start), find_nearest(data['t'], (start-delta)) # integration lims\n",
    "    ma_r, ma_a = find_nearest(data['t'], stop), find_nearest(data['t'], (stop-delta))\n",
    "    \n",
    "    rest_e = 1e-3*(trapz(data['erate'][mi_r:ma_r], data['t'][mi_r:ma_r]) + trapz(data['syn_rate'][mi_r:ma_r], data['t'][mi_r:ma_r])*0)\n",
    "    active_e = 1e-3*(trapz(data['erate'][mi_a:ma_a], data['t'][mi_a:ma_a]) + trapz(data['syn_rate'][mi_a:ma_a], data['t'][mi_a:ma_a])*0)\n",
    "    ratio = active_e/rest_e\n",
    "    return ratio, rest_e, active_e"
   ]
  },
  {
   "cell_type": "code",
   "execution_count": null,
   "metadata": {
    "collapsed": true
   },
   "outputs": [],
   "source": []
  }
 ],
 "metadata": {
  "kernelspec": {
   "display_name": "Python 2",
   "language": "python",
   "name": "python2"
  },
  "language_info": {
   "codemirror_mode": {
    "name": "ipython",
    "version": 2
   },
   "file_extension": ".py",
   "mimetype": "text/x-python",
   "name": "python",
   "nbconvert_exporter": "python",
   "pygments_lexer": "ipython2",
   "version": "2.7.11"
  }
 },
 "nbformat": 4,
 "nbformat_minor": 1
}
