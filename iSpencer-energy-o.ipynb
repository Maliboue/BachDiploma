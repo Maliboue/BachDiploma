{
 "cells": [
  {
   "cell_type": "markdown",
   "metadata": {},
   "source": [
    "# Расчет затрат энергии в распределенной модели по Спенсеру (2012)\n",
    "\n",
    " - используем `NEURON`, но всю модель делаем из `Python` (кроме `NMODL`-файлов)"
   ]
  },
  {
   "cell_type": "code",
   "execution_count": 1,
   "metadata": {
    "collapsed": false
   },
   "outputs": [
    {
     "name": "stdout",
     "output_type": "stream",
     "text": [
      "Populating the interactive namespace from numpy and matplotlib\n"
     ]
    }
   ],
   "source": [
    "from itertools import chain\n",
    "from neuron import h, gui\n",
    "\n",
    "%pylab inline\n",
    "style.use('ggplot')"
   ]
  },
  {
   "cell_type": "code",
   "execution_count": 2,
   "metadata": {
    "collapsed": true
   },
   "outputs": [],
   "source": [
    "R = 8314.4  # Universal gaz constant, mJ / mole*K\n",
    "F = 96485   # Faraday constant [C/mol]\n",
    "F_ATP = 50 # kJ/mol *Интересно*\n",
    "\n",
    "avogadro = 6.022e23 # N_a"
   ]
  },
  {
   "cell_type": "code",
   "execution_count": 3,
   "metadata": {
    "collapsed": false
   },
   "outputs": [],
   "source": [
    "# number of segments per dendrite should be large to allow for precise synapse location\n",
    "Ndend = 4\n",
    "\n",
    "h.celsius = 37.0\n",
    "\n",
    "all_currents = ['leak', 'nas', 'kltoz', 'khtoz', 'hcno'] # Есть еще медленный Ca2+ \n",
    "                                                         # (Статья Oertel et al про Ca-токи в октопус нейронах)\n",
    "\n",
    "soma = h.Section(name='soma')\n",
    "ax_stub = h.Section(name='ax_stub')\n",
    "ax_init = h.Section(name='ax_init')\n",
    "dendrites = [h.Section(name='dend-%d'%i) for i in range(Ndend)]\n",
    "\n",
    "# def init_octopus(Ldend=250, Ndendseg=201, Eleak = -62.0):\n",
    "def init_octopus(Ldend=280, Ndendseg=201, Eleak = -62.0):\n",
    "    # Soma\n",
    "    soma.L, soma.diam = 25, 25\n",
    "    soma.nseg = 1\n",
    "    \n",
    "    # Axon\n",
    "    ax_stub.diam = ax_init.diam = 3.0\n",
    "    ax_stub.L = 30\n",
    "    ax_init.L = 2\n",
    "    ax_init.connect(ax_stub, 1, 0)\n",
    "    ax_stub.connect(soma, 0, 0)\n",
    "    \n",
    "    # Dendrites\n",
    "    for d in dendrites:\n",
    "        d.diam = 3\n",
    "        d.L = Ldend\n",
    "        d.nseg = Ndendseg\n",
    "        d.connect(soma, 1, 0) # dends(0) connected to soma(1)\n",
    "        \n",
    "    for sec in h.allsec():\n",
    "        sec.Ra = 100  # Spencer\n",
    "        sec.cm = 0.9      # Spencer\n",
    "        for cur in all_currents:\n",
    "            sec.insert(cur)\n",
    "        for seg in sec:\n",
    "            seg.leak.erev = Eleak\n",
    "            seg.leak.g = 0.002  # Spencer\n",
    "            seg.hcno.eh = -38 # Spencer\n",
    "            \n",
    "            seg.nas.gbar = 0\n",
    "            seg.hcno.gbar = 0\n",
    "            seg.kltoz.gbar = 0\n",
    "            seg.khtoz.gbar = 0\n",
    "            \n",
    "        sec.ena = 55.0\n",
    "        sec.ek = -70.0\n",
    "    \n",
    "    # ... there must be a more compact way...\n",
    "    for seg in ax_init:\n",
    "        seg.nas.gbar = 4.2441\n",
    "\n",
    "    for seg in soma:\n",
    "        seg.kltoz.gbar = 0.0407\n",
    "        seg.khtoz.gbar = 0.0061\n",
    "        seg.hcno.gbar = 0.0076\n",
    "    \n",
    "    for seg in chain(*dendrites):\n",
    "        seg.kltoz.gbar = 2.7e-3 # Table 3 Spencer 2012\n",
    "        seg.hcno.gbar = 0.6e-3 # Table 3 Spencer 2012\n",
    "\n",
    "init_octopus()"
   ]
  },
  {
   "cell_type": "code",
   "execution_count": 4,
   "metadata": {
    "collapsed": false
   },
   "outputs": [
    {
     "name": "stdout",
     "output_type": "stream",
     "text": [
      "1.28e-04, point_modle: 1.20e-05\n"
     ]
    }
   ],
   "source": [
    "# Площадь поверхности распределенной и точечной моделей\n",
    "Area = (soma(.5).area()+4*201*dendrites[1](.5).area()+ ax_init(.5).area() + ax_stub(.5).area())*1e-8\n",
    "Area_point = 1.2*1e-5\n",
    "print '%02.2e, point_modle: %02.2e'%(Area, Area_point)"
   ]
  },
  {
   "cell_type": "markdown",
   "metadata": {},
   "source": [
    "## Energy calc"
   ]
  },
  {
   "cell_type": "code",
   "execution_count": 5,
   "metadata": {
    "collapsed": false
   },
   "outputs": [],
   "source": [
    "def split_mixed(v, gm, erev, ek=-70,ena=55):\n",
    "    gratio = float((ena-erev))/(erev-ek)\n",
    "    denom = (v*(gratio+1) - gratio*ek - ena)\n",
    "    if (abs(v-erev) < 1):\n",
    "        gnah = gm/(gratio + 1)\n",
    "    else: \n",
    "        gnah = gm*(v-erev)/denom\n",
    "    inah = gnah*(v-ena)\n",
    "    ikh = gratio*gnah*(v-ek)\n",
    "    return inah, ikh\n",
    "\n",
    "\n",
    "def ratp_attwell(V, Rin, Ena = 55, Ek = -70):\n",
    "    \"returns resting ATP consumption rate in pmol ATP/s\"\n",
    "    # I take Rm in MOhms and V in mV\n",
    "    # Thus, result is in nmole/sec\n",
    "    out = (Ena-V)*(V-Ek)/(F*Rin*(V + 2*Ena - 3*Ek))\n",
    "    return out*1e3 # nmol -> pmol\n",
    "\n",
    "def pmol2molecules(x):\n",
    "    return x*1e-12*avogadro\n",
    "\n",
    "def atp2J(nATP):\n",
    "    \"Convert pmol ATP/s to energy usage in pJoule/s\"\n",
    "    return F_ATP * nATP * 1e3\n",
    "    pas\n",
    "\n",
    "def J2atp(nJ):\n",
    "    \"convert from Joule/s to mol ATP/s\"\n",
    "    return (nJ/F_ATP)*1e-3\n",
    "\n",
    "\n",
    "def mouj_Erate2(seg, erev_ih = -38):\n",
    "    v = seg.v\n",
    "    acc = 0.0\n",
    "    inah, ikh = split_mixed(seg.v, seg.thegna_hcno, erev_ih, seg.ek, seg.ena) # раскладываем Ih на компоненты\n",
    "    ina = seg.ina + inah      # суммарный ток Na\n",
    "    ik = seg.ik + ikh         # суммарный ток K\n",
    "    \n",
    "    factor = (1e-8) # um^2 -> cm^2\n",
    "    factor *= (1e6) #-> pJ/s\n",
    "    \n",
    "    acc += ina*(v-seg.ena)\n",
    "    acc += ik*(v-seg.ek)\n",
    "    acc += seg.i_leak*(v-seg.erev_leak) # Ну и утечка, хотя вклад от нее минимальный.\n",
    "    acc = acc*seg.area()*factor\n",
    "    \n",
    "    acc_h = (abs(inah*(v-seg.ena)) + abs(ikh*(v-seg.ek)))*seg.area()*factor\n",
    "    acc_klt = abs(seg.ik_kltoz*(v-seg.ek))*seg.area()*factor\n",
    "    acc_cap = abs(seg.i_cap*v)\n",
    "    \n",
    "    return acc, acc_h, acc_klt, acc_cap\n",
    "\n",
    "def synaptic_curr2pJ(syn,seg):\n",
    "    # syn.g is in uS, syn.i is in nA, erate is in pJ/s\n",
    "    v  = seg.v\n",
    "    g = syn.g\n",
    "    ina, ik = split_mixed(v, g, 0, seg.ek, seg.ena)\n",
    "    erate = ina*(v-seg.ena) + ik*(v-seg.ek)\n",
    "    factor = (1e-8) # um^2 -> cm^2\n",
    "    factor *= (1e6) #-> pJ/s\n",
    "    return erate*seg.area()*factor # earlier: print erate"
   ]
  },
  {
   "cell_type": "markdown",
   "metadata": {},
   "source": [
    "## Run control"
   ]
  },
  {
   "cell_type": "code",
   "execution_count": 6,
   "metadata": {
    "collapsed": true
   },
   "outputs": [],
   "source": [
    "# stim = h.IClamp(0.5, sec=soma)\n",
    "# stim.delay = 100\n",
    "# stim.amp= 0\n",
    "# stim.dur = 10"
   ]
  },
  {
   "cell_type": "code",
   "execution_count": 7,
   "metadata": {
    "collapsed": true
   },
   "outputs": [],
   "source": [
    "afib = h.NetStim()\n",
    "# def set_netst_params(interval=3,start=200,num=10,noise=0.0)\n",
    "afib.interval = 3 # ms \n",
    "afib.start = 200 # ms\n",
    "afib.number = 1 # number of spikes\n",
    "afib.noise = 0.0 # no randomness so far\n",
    "# Использовать .noise для иммитации спонтанной активности ВСН?"
   ]
  },
  {
   "cell_type": "code",
   "execution_count": 8,
   "metadata": {
    "collapsed": true
   },
   "outputs": [],
   "source": [
    "Nsyn_per_dend = 17\n",
    "gsyn1 = 2e-3 # 2nS -> microsiemens\n",
    "gsyn_sup = 30e-3 # 2nS -> microsiemens\n",
    "\n",
    "tau_rise = 0.07 \n",
    "tau_decay = 0.34 \n",
    "\n",
    "fulldelay = 0.29\n",
    "# Больше синапсов -- сильнее впсп --> можно чаще генерить пд? \n",
    "# +++ меньше чувствительность к тонотопической организации синапсов?"
   ]
  },
  {
   "cell_type": "code",
   "execution_count": 9,
   "metadata": {
    "collapsed": false
   },
   "outputs": [
    {
     "name": "stdout",
     "output_type": "stream",
     "text": [
      "[ 0.27294118  0.25588235  0.23882353  0.22176471  0.20470588  0.18764706\n",
      "  0.17058824  0.15352941  0.13647059  0.11941176  0.10235294  0.08529412\n",
      "  0.06823529  0.05117647  0.03411765  0.01705882  0.        ] \n",
      "[ 0.29        0.27294118  0.25588235  0.23882353  0.22176471  0.20470588\n",
      "  0.18764706  0.17058824  0.15352941  0.13647059  0.11941176  0.10235294\n",
      "  0.08529412  0.06823529  0.05117647  0.03411765  0.01705882] \n",
      "[ 0.29      0.271875  0.25375   0.235625  0.2175    0.199375  0.18125\n",
      "  0.163125  0.145     0.126875  0.10875   0.090625  0.0725    0.054375\n",
      "  0.03625   0.018125  0.      ]\n"
     ]
    }
   ],
   "source": [
    "# Варианты delays с разными краями\n",
    "a=array(sorted(arange(0,fulldelay,fulldelay/Nsyn_per_dend), reverse=True))\n",
    "b=arange(fulldelay,0,-fulldelay/Nsyn_per_dend)\n",
    "c=delay = linspace(0,fulldelay,Nsyn_per_dend)[::-1]\n",
    "print a, '\\n', b, '\\n', c"
   ]
  },
  {
   "cell_type": "code",
   "execution_count": 10,
   "metadata": {
    "collapsed": true
   },
   "outputs": [],
   "source": [
    "def add_synapses(order='ordered'):\n",
    "    synapses = []\n",
    "    step = fulldelay/Nsyn_per_dend # this is the TIME step\n",
    "    for d in dendrites:\n",
    "        delays = linspace(0,fulldelay,Nsyn_per_dend)[::-1] # моменты времени, при кот. активируются синапсы\n",
    "        locations = sorted(array(delays)/0.29) # координаты вдоль дендрита, где размещаются синапсы\n",
    "\n",
    "        if order == 'ordered':\n",
    "            locations = locations\n",
    "        if order == 'inverse':\n",
    "            locations = sorted(locations, reverse=True)\n",
    "        if order == 'random':\n",
    "            locations = list(permutation(array(locations)))\n",
    "            \n",
    "        for k in xrange(Nsyn_per_dend): # xrange -> create but not save\n",
    "            # to be refined later...\n",
    "            #delay = fulldelay*float(k)/Nsyn_per_dend\n",
    "            syn = h.Exp2Syn(locations[k], sec=d) \n",
    "            syn.tau1 = tau_rise # rise time\n",
    "            syn.tau2 = tau_decay # decay time\n",
    "            con  = h.NetCon(afib, syn, 0, delays[k], gsyn1)\n",
    "            synapses.append((syn, con, d(locations[k])))\n",
    "    return synapses"
   ]
  },
  {
   "cell_type": "code",
   "execution_count": 11,
   "metadata": {
    "collapsed": true
   },
   "outputs": [],
   "source": [
    "rc('font', family='Arial')"
   ]
  },
  {
   "cell_type": "code",
   "execution_count": 12,
   "metadata": {
    "collapsed": false
   },
   "outputs": [],
   "source": [
    "h.dt = 0.01\n",
    "tstop = 500\n",
    "\n",
    "h.v_init = -60.6\n",
    "\n",
    "#for con in connections:\n",
    "#    con.weight[0] = gsyn1*30\n",
    "\n",
    "def initialize():\n",
    "    h.finitialize(h.v_init)\n",
    "    h.fcurrent()\n",
    "\n",
    "def integrate_M(syns):\n",
    "\n",
    "    keepvar = ['t','soma.v','axon.v',\n",
    "               'soma.erate','axon.erate','dend.erate', 'syn.erate'] \n",
    "    keepvar_h_klt = ['t', 'tot_h.erate', 'tot_klt.erate',\n",
    "                    'soma_h.erate','soma_klt.erate','dends_h.erate','dends_klt.erate'] \n",
    "    keepvar_cape = ['t','soma_cape', 'ax_cape', 'dend_cape']\n",
    "    \n",
    "    out = {key:[] for key in keepvar} # Энергия по компартментам\n",
    "    out_h_klt = {key:[] for key in keepvar_h_klt} # Энергия h и klt токов по компартментам\n",
    "    out_cap = {key:[] for key in keepvar_cape}\n",
    "    \n",
    "    while h.t < tstop:\n",
    "        h.fadvance()\n",
    "        #isyn = np.sum([syn.i for syn in synapses])\n",
    "        \n",
    "        syn_erate = np.sum([synaptic_curr2pJ(s,dseg) for s,c,dseg in syns]) # syns = synapses <- add_synapses()\n",
    "        soma_erate = mouj_Erate2(soma(0.5))[0]\n",
    "        dend_erate = np.sum([mouj_Erate2(seg)[0] for seg in chain(*dendrites)])\n",
    "        axon_erate = np.sum([mouj_Erate2(seg)[0] for seg in chain(ax_init, ax_stub)])\n",
    "        \n",
    "        tot_h =   mouj_Erate2(soma(0.5))[1] + np.sum([mouj_Erate2(seg)[1] for seg in chain(*dendrites)]) + np.sum([mouj_Erate2(seg)[1] for seg in chain(ax_init, ax_stub)])\n",
    "        tot_klt = mouj_Erate2(soma(0.5))[2] + np.sum([mouj_Erate2(seg)[2] for seg in chain(*dendrites)]) + np.sum([mouj_Erate2(seg)[2] for seg in chain(ax_init, ax_stub)])\n",
    "        soma_h = mouj_Erate2(soma(0.5))[1] \n",
    "        soma_klt = mouj_Erate2(soma(0.5))[2] \n",
    "        dends_h = np.sum([mouj_Erate2(seg)[1] for seg in chain(*dendrites)])\n",
    "        dends_klt = np.sum([mouj_Erate2(seg)[2] for seg in chain(*dendrites)])\n",
    "        \n",
    "        soma_cape = mouj_Erate2(soma(.5))[3]\n",
    "        ax_cape = np.sum([mouj_Erate2(seg)[3] for seg in chain(*dendrites)])\n",
    "        dend_cape = np.sum([mouj_Erate2(seg)[3] for seg in chain(ax_init, ax_stub)])\n",
    "\n",
    "#         теперь тут циклы:\n",
    "        lov = [h.t, soma.v, ax_init.v, soma_erate, axon_erate, dend_erate, syn_erate]\n",
    "        #lov = List Of Vars\n",
    "        for key in keepvar:\n",
    "            j = keepvar.index(key)\n",
    "            out[key].append(lov[j])\n",
    "        \n",
    "        lov2 = [h.t, tot_h, tot_klt, soma_h, soma_klt, dends_h, dends_klt]\n",
    "        for key in keepvar_h_klt:\n",
    "            j = keepvar_h_klt.index(key)\n",
    "            out_h_klt[key].append(lov2[j])\n",
    "       \n",
    "        lov3 = [h.t, soma_cape, ax_cape, dend_cape]\n",
    "        for key in keepvar_cape:\n",
    "            j = keepvar_cape.index(key)\n",
    "            out_cap[key].append(lov3[j])\n",
    "\n",
    "    a1 = {key:np.array(vec) for key,vec in out.items()}\n",
    "    a2 = {key:np.array(vec) for key, vec in out_h_klt.items()}\n",
    "    a3 = {key:np.array(vec) for key, vec in out_cap.items()}\n",
    "    \n",
    "    return a1, a2, a3\n",
    "\n",
    "def go(syns):\n",
    "    initialize()\n",
    "    traj, h_klt, cape = integrate_M(syns)\n",
    "    return traj, h_klt, cape\n",
    "    \n",
    "def plot_traj(traj): # pic ПД, energy expenditure in compartments + synaptic -- time. ***traj = go(syns)[0]***\n",
    "    f, axs = subplots(2,1,sharex=True, figsize=(14,9),)\n",
    "    #axs = [axs]\n",
    "    axs[0].plot(traj['t'], traj['axon.v'],'r-',lw=0.5,label='axon.v')\n",
    "    axs[0].plot(traj['t'], traj['soma.v'],'b-',label='soma.v')\n",
    "    axs[0].set_ylabel('$V_m$', fontsize='x-large', alpha=1.0)\n",
    "    axs[0].set_title('$V_m(t)$')\n",
    "    axs[0].legend()\n",
    "    \n",
    "    axs[1].plot(traj['t'], traj['soma.erate'], '-', label='soma.erate')\n",
    "    axs[1].plot(traj['t'], traj['dend.erate'], '-', label='dend.erate')\n",
    "    axs[1].plot(traj['t'], traj['axon.erate'], '-', label='axon.erate')\n",
    "    axs[1].plot(traj['t'], traj['syn.erate'], '-', color='orange', label='syn.erate')\n",
    "    axs[1].set_xlabel('$time, ms$', size='x-large')\n",
    "    axs[1].set_ylabel('$E_{rate}$', size='x-large')\n",
    "    axs[1].set_title('$Erate(t)$')\n",
    "    axs[1].legend()\n",
    "#     Любопытно посмотреть график в координатах, типа, Ikl-Ih.\n",
    "\n",
    "def plot_traj2(traj1, traj2): # pic ПД, Somatic Ih, Ikl -- time\n",
    "    f, axs = subplots(2,1,sharex=True, figsize=(6,7), )\n",
    "    #axs = [axs]\n",
    "#     axs[0].plot(traj1['t'], traj1['axon.v'],'r-',lw=0.5,label='аксон')\n",
    "#     axs[0].plot(traj1['t'], traj1['soma.v'],'b-',label='сома')\n",
    "#     axs[0].legend()\n",
    "#     axs[0].set_ylabel('Мембранный потенциал, мВ')\n",
    "    \n",
    "    axs[0].plot(traj1['t'], traj1['soma.erate'], '-', label=u'сома')\n",
    "    axs[0].plot(traj1['t'], traj1['dend.erate'], '-', label=u'дендриты')\n",
    "    axs[0].plot(traj1['t'], traj1['axon.erate'], '-', label=u'аксон')\n",
    "#     axs[0].plot(traj1['t'], traj1['syn.erate'], '-', color='orange', label=u'синаптические токи')\n",
    "    axs[0].legend()\n",
    "    axs[0].set_title(u'Энергозатраты по компартментам')\n",
    "    axs[0].set_ylabel(u'Е, пДж/с')\n",
    "    axs[0].set_ylim(-5,600)\n",
    "    text(200.5, 0, 'hello!')\n",
    "    \n",
    "    \n",
    "    axs[1].plot(traj2['t'], traj2['soma_h.erate'], '-', label=u'сома, I$_h$')\n",
    "#     axs[1].plot(traj2['t'], traj2['dends_h.erate'], '-', label=u'дендриты, I$_h$')\n",
    "#     axs[1].plot(traj2['t'], traj2['tot_h.erate'], '-', label=u'общий, I$_h$')\n",
    "    axs[1].plot(traj2['t'], traj2['soma_klt.erate'], '-', label=u'сома, I$_{kl}$')\n",
    "#     axs[1].plot(traj2['t'], traj2['dends_klt.erate'], '--', label=u'дендриты, I$_{kl}$')\n",
    "#     axs[1].plot(traj2['t'], traj2['tot_klt.erate'], '--', label=u'общий, I$_{kl}$')\n",
    "#     axs[1].plot(traj2['t'], traj2[''])\n",
    "    axs[1].legend(loc=7)\n",
    "#     axs[1].set_title(u'Энергозатраты на соматические токи I$_h$ и I$_{kl}$')\n",
    "    axs[1].set_ylabel(u'Е, пДж/с')\n",
    "    axs[1].set_xlabel(u'время, мс')\n"
   ]
  },
  {
   "cell_type": "code",
   "execution_count": 13,
   "metadata": {
    "collapsed": false
   },
   "outputs": [
    {
     "data": {
      "text/plain": [
       "0.0001"
      ]
     },
     "execution_count": 13,
     "metadata": {},
     "output_type": "execute_result"
    }
   ],
   "source": [
    "s = add_synapses()\n",
    "h.cvode_active(1)\n",
    "h.cvode.atol(1e-4)"
   ]
  },
  {
   "cell_type": "code",
   "execution_count": 16,
   "metadata": {
    "collapsed": false
   },
   "outputs": [],
   "source": [
    "# traj, h_klt, cape = go(s) #-> нет ПД\n",
    "traj, h_klt, cape = go(add_synapses()) # -> ПД"
   ]
  },
  {
   "cell_type": "code",
   "execution_count": 17,
   "metadata": {
    "collapsed": false
   },
   "outputs": [
    {
     "data": {
      "text/plain": [
       "(200, 202)"
      ]
     },
     "execution_count": 17,
     "metadata": {},
     "output_type": "execute_result"
    },
    {
     "data": {
      "image/png": "[encoded data removed]",
      "text/plain": [
       "<matplotlib.figure.Figure at 0x10e653250>"
      ]
     },
     "metadata": {},
     "output_type": "display_data"
    }
   ],
   "source": [
    "plot_traj(traj)\n",
    "xlim(200,202)"
   ]
  },
  {
   "cell_type": "code",
   "execution_count": 18,
   "metadata": {
    "collapsed": false
   },
   "outputs": [],
   "source": [
    "tstop = 500\n",
    "# Записать изменения ионных токов:\n",
    "def currents():\n",
    "    soma_currents = ['t','klt', 'kht', 'h',  'leak']\n",
    "    dends_currents = ['t','klt', 'h', 'leak'] # +['syn']\n",
    "    ax_currents = ['t','na', 'leak']\n",
    "    total_currents = ['t','klt', 'kht','h', 'na', 'leak']\n",
    "    \n",
    "    soma_out = {key: [] for key in soma_currents}\n",
    "    dends_out = {key: [] for key in dends_currents}\n",
    "    ax_out = {key: [] for key in ax_currents}\n",
    "    total_out = {key: [] for key in total_currents}\n",
    "    \n",
    "    while h.t<tstop:\n",
    "        h.fadvance()\n",
    "        soma_out['t'].append(h.t)\n",
    "        soma_out['klt'].append(soma(.5).ik_kltoz)\n",
    "        soma_out['kht'].append(soma(.5).ik_khtoz)\n",
    "        soma_out['h'].append(soma(.5).i_hcno)\n",
    "        soma_out['leak'].append(soma(.5).i_leak)\n",
    "        \n",
    "\n",
    "        dends_out['t'].append(h.t)\n",
    "        dends_out['klt'].append([seg.ik_kltoz for seg in chain(*dendrites)])\n",
    "        dends_out['h'].append([seg.i_hcno for seg in chain(*dendrites)])\n",
    "        dends_out['leak'].append([seg.i_leak for seg in chain(*dendrites)])\n",
    "        \n",
    "        ax_out['t'].append(h.t)\n",
    "        ax_out['na'].append(ax_init.ina)\n",
    "        ax_out['leak'].append(ax_init.i_leak + ax_stub.i_leak)\n",
    "        \n",
    "#     total_out['klt'] = soma_currents['klt'] + dends_currents['klt']\n",
    "#     total_out['kht'] = soma_currents['kht']\n",
    "#     total_out['h'] = soma_currents['h'] + dends_currents['h']\n",
    "#     total_out['na'] = ax_currents['na']\n",
    "#     total_out['leak'] = soma_currents['leak'] + dends_currents['leak']+ ax_currents['leak']\n",
    "    \n",
    "#     tot = {key:array(vec) for key, vec in total_out}\n",
    "    som = {key:array(vec) for key, vec in soma_out.items()}\n",
    "    dnd = {key:array(vec) for key, vec in dends_out.items()}\n",
    "    ax = {key:array(vec) for key, vec in ax_out.items()}\n",
    "    \n",
    "    return som, dnd, ax #, tot\n",
    "\n",
    "def go2():\n",
    "    initialize()\n",
    "    som, dnd, ax = currents()\n",
    "    return som, dnd, ax #, tot"
   ]
  },
  {
   "cell_type": "code",
   "execution_count": 19,
   "metadata": {
    "collapsed": false
   },
   "outputs": [],
   "source": [
    "som, dnd, ax = go2() # write currents"
   ]
  },
  {
   "cell_type": "code",
   "execution_count": 20,
   "metadata": {
    "collapsed": false
   },
   "outputs": [
    {
     "data": {
      "text/plain": [
       "(200, 202)"
      ]
     },
     "execution_count": 20,
     "metadata": {},
     "output_type": "execute_result"
    },
    {
     "data": {
      "image/png": "[encoded data removed]",
      "text/plain": [
       "<matplotlib.figure.Figure at 0x10dd99110>"
      ]
     },
     "metadata": {},
     "output_type": "display_data"
    }
   ],
   "source": [
    "# pic ПД, somatic Ih, Ikl, axonic Ina -- time\n",
    "\n",
    "f, axs = subplots(2,1,sharex=True, figsize=(6,7),)\n",
    "\n",
    "axs[1].plot(som['t'], som['klt'], '-', label=u'сома, I$_{kl}$')\n",
    "# axs[0].plot(som['t'], som['kht'], '-', label=u'сома, I$_{klt}$')\n",
    "axs[1].plot(som['t'], som['h'], '-',color='orange', label=u'сома, I$_h$')\n",
    "# axs[1].plot(som['t'], som['leak'], '-', color='orange', label=u'сома, I$_{leak}$')\n",
    "axs[1].plot(ax['t'], ax['na'], 'b-', label=u'аксон, I$_{Na}$')\n",
    "# axs[1].plot(ax['t'], ax['leak'], 'c--', label=u'аксон, I$_{leak}$')\n",
    "axs[1].legend(loc=4)\n",
    "axs[1].set_title(u'Ионные токи I$_{kl}$, I$_h$, I$_{Na}$')\n",
    "axs[1].set_ylabel(u'Ток, мА/см$^2$')\n",
    "axs[1].set_xlabel(u'время, мс')\n",
    "\n",
    "axs[0].plot(traj['t'], traj['axon.v'],'b-',lw=0.5,label=u'аксон')\n",
    "axs[0].plot(traj['t'], traj['soma.v'],'-',label=u'сома')\n",
    "axs[0].legend()\n",
    "axs[0].set_title(u'Изменение мембранного потенциала, V$_m$')\n",
    "axs[0].set_ylabel(u'V$_m$, мВ')\n",
    "xlim(200,202)\n",
    "# f.savefig(u'AP_Currents2.pdf')"
   ]
  },
  {
   "cell_type": "markdown",
   "metadata": {},
   "source": [
    "### Посчитать энергозатраты на емкостные токи"
   ]
  },
  {
   "cell_type": "code",
   "execution_count": 21,
   "metadata": {
    "collapsed": false
   },
   "outputs": [
    {
     "name": "stdout",
     "output_type": "stream",
     "text": [
      "-0.00043474204808 -9.9346967676e-06 0.000105885894775\n"
     ]
    }
   ],
   "source": [
    "capacitance = soma.cm\n",
    "dn_cap_e = dendrites[1](.5).i_cap*4*201*capacitance # 201 segments\n",
    "sm_cap_e = soma.i_cap*capacitance\n",
    "ax_cap_e = (ax_init.i_cap + ax_stub.i_cap)*capacitance\n",
    "print dn_cap_e, sm_cap_e, ax_cap_e"
   ]
  },
  {
   "cell_type": "code",
   "execution_count": 17,
   "metadata": {
    "collapsed": true
   },
   "outputs": [],
   "source": [
    "# Определим Rin по проводимостям. С разделением Ih получается то же самое (?)\n",
    "    # ***Стоит попробовать метод, предлагаемый в книге Стерратта для распределенных моделей***\n",
    "\n",
    "def Rins(seg, Rin_from_literature=0):\n",
    "    gnar = seg.ina/(seg.v-seg.ena) # Siemens/cm^2\n",
    "    gkr = seg.ik/(seg.v-seg.ek)\n",
    "    ghr = seg.i_hcno/(seg.v-seg.eh_hcno)\n",
    "    glkr = seg.i_leak/(seg.v-seg.erev_leak)\n",
    "\n",
    "#     Rin_o = 6.7 # MOhm, Bal & Oertel, 2001 (mice); 15.8 MOhm, Bal & Baydas, 2009 (cat)\n",
    "    # From model:\n",
    "    Ginx = (gnar + gkr + ghr + glkr)* seg.area()*1e-8\n",
    "    Rin_ox = 1e-6/Ginx\n",
    "    return Rin_ox"
   ]
  },
  {
   "cell_type": "code",
   "execution_count": 22,
   "metadata": {
    "collapsed": false
   },
   "outputs": [],
   "source": [
    "# Найти индекс элемента в array, значение которого является наиближайшим к val\n",
    "def find_nearest(array, value):\n",
    "    idx = np.abs(array - value).argmin()\n",
    "    return idx"
   ]
  },
  {
   "cell_type": "code",
   "execution_count": 23,
   "metadata": {
    "collapsed": true
   },
   "outputs": [],
   "source": [
    "# Отношение энергозатрат при активации к энергозатратам в покое\n",
    "# start, stop -- пределы интегрирования/суммирования (по времени)\n",
    "# delta -- отступ от start (время) -- для расчета энергозатрат в покое\n",
    "# data -- что интегрировать\n",
    "\n",
    "def active_to_rest_e(data, start, stop, delta):\n",
    "\n",
    "    mi_a = find_nearest(data['t'], start) # Находим индексы, соответствующие start\n",
    "    ma_a = find_nearest(data['t'], stop) # и stop.\n",
    "    x = find_nearest(data['t'], start-delta) # Индекс, откуда считаются энергозатраты в покое. \n",
    "#     Можно же считать покой просто от start! Да. Однако, если мы хотим считать активацию \n",
    "#     не из V=Vrest, следует указать отступ (delta) от start, в котором будет расчитываться\n",
    "#     покой (энергозатраты в момент времени start-delta, умноженные на stop-start). Delta --\n",
    "#     такое, что при t=start-delta, V=Vrest.\n",
    "    energies = {'rest':[], 'active':[]}\n",
    "    \n",
    "    rest_e_dend = 1e-3*data['dend.erate'][x]*(stop-start) # 1e-3 => [ms -> s]\n",
    "    rest_e_axon = 1e-3*data['axon.erate'][x]*(stop-start)\n",
    "    rest_e_soma = 1e-3*data['soma.erate'][x]*(stop-start)\n",
    "    \n",
    "    synaptic_e = 1e-3*trapz(data['syn.erate'][mi_a:ma_a], data['t'][mi_a:ma_a])\n",
    "    active_e_dend = 1e-3*(trapz(data['dend.erate'][mi_a:ma_a], data['t'][mi_a:ma_a]) + trapz(data['syn.erate'][mi_a:ma_a], data['t'][mi_a:ma_a]))\n",
    "    active_e_axon = 1e-3*trapz(data['axon.erate'][mi_a:ma_a], data['t'][mi_a:ma_a])\n",
    "    active_e_soma = 1e-3*trapz(data['soma.erate'][mi_a:ma_a], data['t'][mi_a:ma_a])\n",
    "    \n",
    "    rest_e_tot   = rest_e_dend+ rest_e_axon + rest_e_soma\n",
    "    active_e_tot = active_e_dend + active_e_axon + active_e_soma\n",
    "    \n",
    "    energies['rest'] = [rest_e_tot, rest_e_soma, rest_e_dend, rest_e_axon]\n",
    "    energies['active'] = [active_e_tot, active_e_soma, active_e_dend, active_e_axon, synaptic_e]\n",
    "    \n",
    "#     нижнее -- без учета токов аксона\n",
    "#     rest_e   = 1e-3*(data['soma.erate'][x]*(stop-start) + data['dend.erate'][x]*(stop-start) + data['syn.erate'][x]*(stop-start))\n",
    "#     active_e = 1e-3*(trapz(data['soma.erate'][mi_a:ma_a], data['t'][mi_a:ma_a]) + trapz(data['dend.erate'][mi_a:ma_a], data['t'][mi_a:ma_a]) + trapz(data['syn.erate'][mi_a:ma_a], data['t'][mi_a:ma_a]))\n",
    "\n",
    "    ratio = active_e_tot/rest_e_tot\n",
    "    return ratio, energies\n",
    "\n",
    "def active_to_rest_e2(data, cape, start, stop, delta):\n",
    "\n",
    "    mi_a = find_nearest(data['t'], start) # integration lims\n",
    "    ma_a = find_nearest(data['t'], stop)\n",
    "    x = find_nearest(data['t'], start-delta)\n",
    "    energies = {'rest':[], 'active':[]}\n",
    "\n",
    "    r_total_h = 1e-3*data['tot_h.erate'][x]*(stop-start)\n",
    "    r_soma_h = 1e-3*data['soma_h.erate'][x]*(stop-start)\n",
    "    r_dend_h = 1e-3*data['dends_h.erate'][x]*(stop-start)\n",
    "\n",
    "    r_total_klt = 1e-3*data['tot_klt.erate'][x]*(stop-start)\n",
    "    r_soma_klt = 1e-3*data['soma_klt.erate'][x]*(stop-start)\n",
    "    r_dend_klt = 1e-3*data['dends_klt.erate'][x]*(stop-start)\n",
    "    \n",
    "    a_total_h = 1e-3*trapz(data['tot_h.erate'][mi_a:ma_a], data['t'][mi_a:ma_a])\n",
    "    a_soma_h =  1e-3*trapz(data['soma_h.erate'][mi_a:ma_a], data['t'][mi_a:ma_a])\n",
    "    a_dend_h =  1e-3*trapz(data['dends_h.erate'][mi_a:ma_a], data['t'][mi_a:ma_a])\n",
    "    \n",
    "    a_total_klt = 1e-3*trapz(data['tot_klt.erate'][mi_a:ma_a], data['t'][mi_a:ma_a])\n",
    "    a_soma_klt = 1e-3*trapz(data['soma_klt.erate'][mi_a:ma_a], data['t'][mi_a:ma_a])\n",
    "    a_dend_klt = 1e-3*trapz(data['dends_klt.erate'][mi_a:ma_a], data['t'][mi_a:ma_a])\n",
    "    \n",
    "    cape_soma = 1e-3*trapz(cape['soma_cape'][mi_a:ma_a], cape['t'][mi_a:ma_a])\n",
    "    cape_ax = 1e-3*trapz(cape['ax_cape'][mi_a:ma_a], cape['t'][mi_a:ma_a])\n",
    "    cape_dend = 1e-3*trapz(cape['dend_cape'][mi_a:ma_a], cape['t'][mi_a:ma_a])\n",
    "    \n",
    "    \n",
    "    energies['rest'] = [r_total_h, r_total_klt, r_soma_h, r_soma_klt, r_dend_h, r_dend_klt]\n",
    "    energies['active'] = [a_total_h, a_total_klt, a_soma_h, a_soma_klt, a_dend_h, a_dend_klt]\n",
    "    \n",
    "    return  energies, cape_soma, cape_ax, cape_dend"
   ]
  },
  {
   "cell_type": "code",
   "execution_count": 24,
   "metadata": {
    "collapsed": true
   },
   "outputs": [],
   "source": [
    "def e_calc(start, stop, delta, order='ordered'):\n",
    "    data, h_klt, cape = go_tmp(add_synapses(order))\n",
    "    ratio, energies = active_to_rest_e(data, start, stop, delta)\n",
    "    energies_h_klt, a,b,c = active_to_rest_e2(h_klt, cape, start, stop, delta)\n",
    "    factor = 1000/(stop-start)\n",
    "    print\\\n",
    "    \"\"\"                  Покой: {:.3e}\n",
    "              Активация: {:.3e}\n",
    "Соотношение Актив/Покой: {:.3e}\"\"\".format(energies['rest'][0]*factor, energies['active'][0]*factor, ratio)\n",
    "    return ratio, energies, energies_h_klt,a,b,c\n"
   ]
  },
  {
   "cell_type": "code",
   "execution_count": 24,
   "metadata": {
    "collapsed": true
   },
   "outputs": [],
   "source": [
    "ratio, energies = active_to_rest_e(traj, 200, 203, 50)"
   ]
  },
  {
   "cell_type": "code",
   "execution_count": 25,
   "metadata": {
    "collapsed": false
   },
   "outputs": [
    {
     "name": "stdout",
     "output_type": "stream",
     "text": [
      "224.139003191 296.192241902\n"
     ]
    }
   ],
   "source": [
    "print energies['rest'][0]*333.3, energies['active'][0]*333.3"
   ]
  },
  {
   "cell_type": "code",
   "execution_count": 43,
   "metadata": {
    "collapsed": false
   },
   "outputs": [
    {
     "name": "stdout",
     "output_type": "stream",
     "text": [
      "                  Покой: 2.240e+02\n",
      "              Активация: 2.909e+02\n",
      "Соотношение Актив/Покой: 1.299e+00\n"
     ]
    }
   ],
   "source": [
    "# То, что в дипломе!!! Сейчас ПД Другой!! (см  пред ячейку )\n",
    "# 1 ПД интегр за 3 мс.\n",
    "ratio, energies, h_klt,a,b,c, = e_calc(200,203, 50)"
   ]
  },
  {
   "cell_type": "code",
   "execution_count": 345,
   "metadata": {
    "collapsed": false
   },
   "outputs": [
    {
     "name": "stdout",
     "output_type": "stream",
     "text": [
      "                  Покой: 2.242e+02\n",
      "              Активация: 4.324e+02\n",
      "Соотношение Актив/Покой: 1.929e+00\n"
     ]
    }
   ],
   "source": [
    "# 1 ПД интегр за 1 мс.\n",
    "ratio, energies, h_klt,a,b,c, = e_calc(200,201, 50)"
   ]
  },
  {
   "cell_type": "code",
   "execution_count": 346,
   "metadata": {
    "collapsed": false
   },
   "outputs": [
    {
     "name": "stdout",
     "output_type": "stream",
     "text": [
      "                  Покой: 2.242e+02\n",
      "              Активация: 4.780e+02\n",
      "Соотношение Актив/Покой: 2.132e+00\n"
     ]
    }
   ],
   "source": [
    "# 1 ПД интегр за 0.8 мс.\n",
    "ratio, energies, h_klt,a,b,c, = e_calc(200.2,201, 50)"
   ]
  },
  {
   "cell_type": "code",
   "execution_count": 347,
   "metadata": {
    "collapsed": false
   },
   "outputs": [
    {
     "name": "stdout",
     "output_type": "stream",
     "text": [
      "                  Покой: 2.242e+02\n",
      "              Активация: 6.908e+02\n",
      "Соотношение Актив/Покой: 3.081e+00\n"
     ]
    }
   ],
   "source": [
    "# 1 спайк ПД интегр за 0.3 мс.\n",
    "ratio, energies, h_klt,a,b,c, = e_calc(200.5,200.8, 50)"
   ]
  },
  {
   "cell_type": "code",
   "execution_count": 27,
   "metadata": {
    "collapsed": false
   },
   "outputs": [
    {
     "data": {
      "image/png": "[encoded data removed]",
      "text/plain": [
       "<matplotlib.figure.Figure at 0x10b824e50>"
      ]
     },
     "metadata": {},
     "output_type": "display_data"
    }
   ],
   "source": [
    "# График: зависимости проводимостей Gkl, Gh от Vm; нормированы на максимальную Gkl.\n",
    "def plot_g(section, potentials):\n",
    "    conds = {'h':[],'klt':[]}\n",
    "    for v in potentials:\n",
    "        h.finitialize(v)\n",
    "        conds['h'].append(section.thegna_hcno)\n",
    "        conds['klt'].append(section.g_kltoz)\n",
    "    h_norm = array(conds['h'])/conds['h'][0]\n",
    "    h_norm_to_klt = array(conds['h'])/conds['klt'][99]\n",
    "    klt_norm = array(conds['klt'])/conds['klt'][99]\n",
    "    \n",
    "    fig = plot(potentials, klt_norm, color=(0.3,0.5,0.8), lw=2)\n",
    "    plot(potentials, h_norm_to_klt, 'm-', lw=2)\n",
    "#     plot(potentials, h_norm, 'm-', lw=2)\n",
    "    axvline(-60, color='grey', lw=3, alpha=0.7)\n",
    "    ylim(-0.01,1.05)\n",
    "    \n",
    "    return conds, fig\n",
    "\n",
    "v = arange(-100,0)\n",
    "conds, fig = plot_g(soma, v)\n",
    "# savefig('h_and_klt_conductances2.pdf')"
   ]
  },
  {
   "cell_type": "code",
   "execution_count": null,
   "metadata": {
    "collapsed": true
   },
   "outputs": [],
   "source": []
  }
 ],
 "metadata": {
  "kernelspec": {
   "display_name": "Python 2",
   "language": "python",
   "name": "python2"
  },
  "language_info": {
   "codemirror_mode": {
    "name": "ipython",
    "version": 2
   },
   "file_extension": ".py",
   "mimetype": "text/x-python",
   "name": "python",
   "nbconvert_exporter": "python",
   "pygments_lexer": "ipython2",
   "version": "2.7.11"
  }
 },
 "nbformat": 4,
 "nbformat_minor": 0
}
