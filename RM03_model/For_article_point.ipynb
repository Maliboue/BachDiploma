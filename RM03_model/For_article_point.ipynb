{
 "cells": [
  {
   "cell_type": "code",
   "execution_count": 1,
   "metadata": {},
   "outputs": [
    {
     "name": "stdout",
     "output_type": "stream",
     "text": [
      "Populating the interactive namespace from numpy and matplotlib\n"
     ]
    }
   ],
   "source": [
    "%pylab inline\n",
    "from neuron import h, gui\n",
    "import pandas\n",
    "style.use('ggplot')"
   ]
  },
  {
   "cell_type": "code",
   "execution_count": 2,
   "metadata": {},
   "outputs": [],
   "source": [
    "font = {'family' : 'times',\n",
    "        'weight' : 'normal',\n",
    "        'size'   : 15}\n",
    "matplotlib.rc('font', **font)"
   ]
  },
  {
   "cell_type": "code",
   "execution_count": 3,
   "metadata": {},
   "outputs": [],
   "source": [
    "#CVODE doesn't work with original files from (Rothman and Manis 2003)\n",
    "h.cvode_active(0)\n",
    "h.dt = 0.01"
   ]
  },
  {
   "cell_type": "code",
   "execution_count": 4,
   "metadata": {},
   "outputs": [],
   "source": [
    "R = 8314.4  # Universal gaz constant, mJ / mol*K\n",
    "F = 96485   # Faraday constant [C/mol]\n",
    "F_ATP = 50 # kJ/mol\n",
    "\n",
    "avogadro = 6.022e23 # N_a"
   ]
  },
  {
   "cell_type": "code",
   "execution_count": 5,
   "metadata": {},
   "outputs": [
    {
     "name": "stdout",
     "output_type": "stream",
     "text": [
      "Soma area: 1.20e-05 cm^2, diameter: 19.54 um\n"
     ]
    }
   ],
   "source": [
    "# For all cells:\n",
    "\n",
    "total_capacitance = 12 # pF\n",
    "\n",
    "soma_area = total_capacitance * 1e-6 / 1 # pF -> uF, 1 uF/cm^2\n",
    "soma_diam = 1e4*sqrt(soma_area/pi) # cm->um\n",
    "\n",
    "print 'Soma area: %.2e cm^2, diameter: %2.2f um'%(soma_area,soma_diam)"
   ]
  },
  {
   "cell_type": "code",
   "execution_count": 6,
   "metadata": {},
   "outputs": [],
   "source": [
    "currents = ['klt', 'kht', 'na', 'ka', 'ih', 'hcno', 'leak']"
   ]
  },
  {
   "cell_type": "code",
   "execution_count": 7,
   "metadata": {},
   "outputs": [],
   "source": [
    "def ns_to_mhocm2(x):\n",
    "    \"Convert from nanosiemens to siemens/cm^2\"\n",
    "    return 1e-9*x/soma_area"
   ]
  },
  {
   "cell_type": "code",
   "execution_count": 8,
   "metadata": {},
   "outputs": [],
   "source": [
    "# Parameters from Rothman & Manis, 2003c\n",
    "\n",
    "ptypeII = {cond:ns_to_mhocm2(val) for cond, val in \n",
    "         [('gnabar',1000), ('gkhtbar',150), ('gkltbar', 200),\n",
    "          ('gabar', 0),  ('ghbar', 20), ('ghcno', 0), ('glk', 2), ]}\n",
    "\n",
    "ptypeIIo = {cond:ns_to_mhocm2(val) for cond, val in \n",
    "         [('gnabar',1000), ('gkhtbar',150), ('gkltbar', 600),\n",
    "          ('gabar', 0),  ('ghbar', 0), ('ghcno', 40), ('glk', 2), ]}\n",
    "\n",
    "ptypeIc = {cond:ns_to_mhocm2(val) for cond, val in # This subtype ot Stellate cells is not used in the paper\n",
    "         [('gnabar', 1000), ('gkhtbar', 150), ('gkltbar', 0),\n",
    "          ('gabar', 0), ('ghbar', 0.5), ('ghcno', 0), ('glk', 2)]}\n",
    "\n",
    "ptypeIt = {cond:ns_to_mhocm2(val) for cond, val in \n",
    "         [('gnabar', 1000), ('gkhtbar', 80), ('gkltbar', 0),\n",
    "          ('gabar', 65), ('ghbar', 0.5), ('ghcno', 0), ('glk', 2)]}\n",
    "\n",
    "ptypeIc['Vm0'] = -63.9\n",
    "ptypeIt['Vm0'] = -64.2\n",
    "ptypeII['Vm0'] = -63.6 # mV\n",
    "ptypeIIo['Vm0'] = -66.67 \n",
    "\n",
    "ptypeIc['Rin'] = 473\n",
    "ptypeIt['Rin'] = 453\n",
    "ptypeII['Rin'] = 71    # MOhm\n",
    "ptypeIIo['Rin'] = 6.7 \n",
    "# in S/cm^2"
   ]
  },
  {
   "cell_type": "code",
   "execution_count": 9,
   "metadata": {},
   "outputs": [],
   "source": [
    "bushy = h.Section(name='bushy') \n",
    "octopus = h.Section(name='octopus')\n",
    "stellatec = h.Section(name='stellatec')\n",
    "stellatet = h.Section(name='stellatet')\n",
    "\n",
    "neurons = [(bushy, ptypeII), (octopus, ptypeIIo), (stellatec, ptypeIc), (stellatet, ptypeIt)]"
   ]
  },
  {
   "cell_type": "code",
   "execution_count": 10,
   "metadata": {},
   "outputs": [],
   "source": [
    "def init_neurons():\n",
    "    h.celsius = 33  # Normal temperature is 38 °C # See the difference after cel=37 in current kinetics (below)\n",
    "                    # ~ No difference in resting energy consumption\n",
    "    for npx in neurons:\n",
    "        n,p = npx\n",
    "        n.nseg = 1\n",
    "        n.diam = soma_diam\n",
    "        n.L = soma_diam\n",
    "        n.Ra = 150\n",
    "        n.cm = 1\n",
    "    \n",
    "        for cur in currents:\n",
    "            n.insert(cur)\n",
    "    \n",
    "        # add and init 'pseudo-mechanism' \n",
    "        # to calculate energy rate in *each segment*\n",
    "        n.insert('mujpow')\n",
    "        if (n.name() == octopus):\n",
    "            h.setpointer(n(0.5)._ref_i_hcno, 'i_ih', n(0.5).mujpow)\n",
    "            h.setpointer(n(0.5)._ref_thegna_hcno, 'gh', n(0.5).mujpow)\n",
    "        else:\n",
    "            h.setpointer(n(0.5)._ref_i_ih, 'i_ih', n(0.5).mujpow)\n",
    "            h.setpointer(n(0.5)._ref_gh_ih, 'gh', n(0.5).mujpow)       \n",
    "            \n",
    "        n.ek = -70\n",
    "        n.ena = 50\n",
    "        n.gnabar_na = p['gnabar']\n",
    "        n.gkhtbar_kht = p['gkhtbar']\n",
    "        n.gkltbar_klt = p['gkltbar']\n",
    "        n.gkabar_ka = p['gabar']\n",
    "        n.ghbar_ih = p['ghbar']\n",
    "        n.gbar_hcno = p['ghcno']\n",
    "        n.g_leak = p['glk']\n",
    "\n",
    "        \n",
    "init_neurons()"
   ]
  },
  {
   "cell_type": "code",
   "execution_count": 11,
   "metadata": {},
   "outputs": [
    {
     "data": {
      "text/plain": [
       "1.0"
      ]
     },
     "execution_count": 11,
     "metadata": {},
     "output_type": "execute_result"
    }
   ],
   "source": [
    "# Some recordings\n",
    "\n",
    "v_vecb = h.Vector()             # Membrane potential vector\n",
    "v_veco = h.Vector()\n",
    "v_vecsc = h.Vector()\n",
    "v_vecst = h.Vector()\n",
    "t_vec = h.Vector()             # Time stamp vector\n",
    "\n",
    "v_vecb.record(bushy(0.5)._ref_v)\n",
    "v_veco.record(octopus(0.5)._ref_v)\n",
    "v_vecsc.record(stellatec(0.5)._ref_v)\n",
    "v_vecst.record(stellatet(0.5)._ref_v)\n",
    "\n",
    "t_vec.record(h._ref_t)"
   ]
  },
  {
   "cell_type": "code",
   "execution_count": 12,
   "metadata": {},
   "outputs": [
    {
     "name": "stdout",
     "output_type": "stream",
     "text": [
      "Changed dt\n"
     ]
    },
    {
     "data": {
      "text/plain": [
       "0.0"
      ]
     },
     "execution_count": 12,
     "metadata": {},
     "output_type": "execute_result"
    }
   ],
   "source": [
    "h.v_init = ptypeII['Vm0']\n",
    "h.tstop = 2000\n",
    "h.run()"
   ]
  },
  {
   "cell_type": "code",
   "execution_count": 13,
   "metadata": {
    "scrolled": true
   },
   "outputs": [
    {
     "data": {
      "text/plain": [
       "(-1, 20)"
      ]
     },
     "execution_count": 13,
     "metadata": {},
     "output_type": "execute_result"
    },
    {
     "name": "stderr",
     "output_type": "stream",
     "text": [
      "/Users/lampochka/anaconda3/envs/Py2/lib/python2.7/site-packages/matplotlib/font_manager.py:1331: UserWarning: findfont: Font family [u'times'] not found. Falling back to DejaVu Sans\n",
      "  (prop.get_family(), self.defaultFamily[fontext]))\n"
     ]
    },
    {
     "data": {
      "image/png": "[encoded data removed]",
      "text/plain": [
       "<Figure size 432x288 with 1 Axes>"
      ]
     },
     "metadata": {
      "needs_background": "light"
     },
     "output_type": "display_data"
    }
   ],
   "source": [
    "plot(t_vec, v_vecb, label='bushy')\n",
    "plot(t_vec,v_veco, label='ocotpus')\n",
    "plot(t_vec, v_vecsc, label='stellate c')\n",
    "plot(t_vec, v_vecst, label='stellate t')\n",
    "legend ()\n",
    "xlim(-1,20)"
   ]
  },
  {
   "cell_type": "code",
   "execution_count": 24,
   "metadata": {},
   "outputs": [],
   "source": [
    "def split_ih(seg, eh=-43):\n",
    "    \"split ih to Na and K components\"\n",
    "    v = seg.v\n",
    "    if seg.gbar_hcno != 0.0:\n",
    "        gh = seg.thegna_hcno\n",
    "    if seg.ghbar_ih != 0.0:\n",
    "        gh = seg.ih.gh\n",
    "        \n",
    "    gr = float((seg.ena-eh))/(eh-seg.ek)\n",
    "    denom = (v*(gr+1) - gr*seg.ek - seg.ena)\n",
    "    if (abs(v-eh) < 1):\n",
    "        gnah = gh/(gr + 1)\n",
    "    else: \n",
    "        if seg.gbar_hcno != 0.0:\n",
    "            gnah = seg.i_hcno/denom\n",
    "        if seg.ghbar_ih != 0.0:\n",
    "            gnah = seg.i_ih/denom\n",
    "    inah = gnah*(v-seg.ena)\n",
    "    ikh = gr*gnah*(v-seg.ek)\n",
    "    return inah, ikh"
   ]
  },
  {
   "cell_type": "code",
   "execution_count": 25,
   "metadata": {},
   "outputs": [
    {
     "name": "stdout",
     "output_type": "stream",
     "text": [
      "Cell-type \tRin calculated\t| Rin from RM03\n",
      "\n",
      "bushy : \t71.0275853853\t| 71 MOhm\n",
      "octopus : \t18.1249652143\t| 6.7 MOhm\n",
      "stellatec : \t473.099121158\t| 473 MOhm\n",
      "stellatet : \t452.11961603\t| 453 MOhm\n"
     ]
    }
   ],
   "source": [
    "def get_Rin(sec):\n",
    "    seg = sec(0.5)\n",
    "    gnar = seg.ina/(seg.v-seg.ena)  # Siemens/cm^2\n",
    "    gkr = seg.ik/(seg.v-seg.ek)\n",
    "    ghr = seg.i_ih/(seg.v- -43)\n",
    "    glkr = seg.leak.i/(seg.v -seg.erev_leak)\n",
    "    Ginx = (gnar + gkr + ghr + glkr)* seg.area()*1e-8\n",
    "    return 1e-6/Ginx \n",
    "\n",
    "print '{} \\t{}\\t| {}\\n'.format('Cell-type', 'Rin calculated', 'Rin from RM03')\n",
    "for n in neurons:\n",
    "    print '{} : \\t{}\\t| {} MOhm'.format(n[0].name(), get_Rin(n[0]), n[1]['Rin'])"
   ]
  },
  {
   "cell_type": "code",
   "execution_count": 26,
   "metadata": {},
   "outputs": [],
   "source": [
    "def ratp_atwell(V, Rin, Ena = 50, Ek = -70):\n",
    "    \"returns resting ATP consumption rate in pmol ATP/s\"\n",
    "    # I take Rm in MOhms and V in mV\n",
    "    # Thus, result is in nmole/sec\n",
    "    out = (Ena-V)*(V-Ek)/(F*Rin*(V + 2*Ena - 3*Ek))\n",
    "    return out*1e3 # nmol -> pmol\n",
    "\n",
    "def pmol2molecules(x):\n",
    "    return x*1e-12*avogadro\n",
    "\n",
    "def atp2J(nATP):\n",
    "    \"Convert mol ATP/s to energy usage in Joule/s\"\n",
    "    return F_ATP * nATP * 1e3\n",
    "    pas\n",
    "\n",
    "def nJ2atp(nJ, Gatp=F_ATP):\n",
    "    \"convert from Joule/s to mol ATP/s\"\n",
    "    return nJ/(Gatp*1e3)\n",
    "\n",
    "def pJ2atp(pJ, Gatp=F_ATP):\n",
    "    \"pJ/s --> ATPs/s\"\n",
    "    return pmol2molecules(nJ2atp(pJ, Gatp=Gatp))"
   ]
  },
  {
   "cell_type": "code",
   "execution_count": 46,
   "metadata": {},
   "outputs": [],
   "source": [
    "def ratp_atwell_direct(seg, Iap=0, erev_ih=-34):\n",
    "    \"\"\" Recalculates number of Na ions into ATPs\"\"\"\n",
    "    v = seg.v\n",
    "    acc = Iap*v\n",
    "    inah, ikh = split_ih(seg)# раскладываем Ih на компоненты\n",
    "    ina = seg.ina + inah      # суммарный ток Na\n",
    "    ik = seg.ik + ikh         # суммарный ток K\n",
    "    \n",
    "    acc = (abs(ina) / 1.6e-19) / 3\n",
    "    acc_h = (abs(inah) / 1.6e-19) / 3\n",
    "    acc_klt = (ikh / 1.6e-19) / 2 # Potassium component of the h-current\n",
    "    acc_ka = (seg.ik_ka / 1.6e-19) / 2\n",
    "    \n",
    "    out = [acc, acc_h, acc_klt, acc_ka]\n",
    "    return array(out)*seg.area()*1e-8\n",
    "\n",
    "def mouj_Erate2_d(seg, Iap=0, erev_ih = -43, atwla=False):\n",
    "    v = seg.v\n",
    "    acc = Iap*v\n",
    "    inah, ikh = split_ih(seg)# раскладываем Ih на компоненты\n",
    "    ina = seg.ina + inah      # суммарный ток Na\n",
    "    ik = seg.ik + ikh         # суммарный ток K\n",
    "    \n",
    "    acc += ina*(v-seg.ena) \n",
    "    acc += ik*(v-seg.ek)\n",
    "    acc += seg.i_leak*(v-seg.erev_leak) # Ну и утечка, хотя вклад от нее минимальный\n",
    "    factor = (1e-8) # um^2 -> cm^2\n",
    "    factor *= (1e6) #-> pJ/s\n",
    "    \n",
    "    acc_h = (abs(inah*(v-seg.ena)) + abs(ikh*(v-seg.ek)))*seg.area()*factor\n",
    "    acc_klt = abs(seg.ik_klt*(v-seg.ek))*seg.area()*factor\n",
    "    acc_ka = abs(seg.ik_ka*(v-seg.ek))*seg.area()*factor\n",
    "    \n",
    "    \n",
    "    return array([acc*seg.area()*factor, acc_h, acc_klt, acc_ka])"
   ]
  },
  {
   "cell_type": "code",
   "execution_count": 68,
   "metadata": {},
   "outputs": [],
   "source": [
    "def print_ratp_estimate(cell):\n",
    "    attw = ratp_atwell(cell.v, get_Rin(cell))\n",
    "    \n",
    "    mouj_dh, mouj_h_dh, mouj_klt_dh = mouj_Erate2(cell(0.5))\n",
    "#     mouj_atp = nJ2atp(mouj_dh)\n",
    "    print \"Attwell: %.3e pmol ATP/s\"%attw\n",
    "    print \"Moujahid: %.3e pmol ATP/s\"%mouj_atp\n",
    "    print \"A:M ratio: %2.3f\"%(attw/mouj_atp)\n",
    "    \n",
    "def print_erate_estimate(cell):\n",
    "    attw = ratp_atwell(cell.v, get_Rin(cell))\n",
    "    seg = cell(0.5)\n",
    "    attw_direct = ratp_atwell_direct(seg)[0] / avogadro * 1e12 * 50000\n",
    "    mouj_set = mouj_Erate2_d(seg)[0]\n",
    "#     mujpow = seg.erate_mujpow*seg.area()*1e-8\n",
    "    attw_erate = atp2J(attw)\n",
    "    print \"Attwell-dir: %.3e pJ/s\"%attw_direct\n",
    "    print \"Attwell-form: %.3e pJ/s\"%attw_erate\n",
    "    print \"Moujahid: %.3e, pJ/s\"%(mouj_set)\n",
    "#     print \"Mujpow dummy mech: %.3e pJ/s\"%mujpow\n",
    "#     print \"A:M ratio: %2.3f\"%(attw_erate/mouj_set)"
   ]
  },
  {
   "cell_type": "code",
   "execution_count": 69,
   "metadata": {
    "scrolled": false
   },
   "outputs": [
    {
     "name": "stdout",
     "output_type": "stream",
     "text": [
      "=====  bushy  =====\n",
      "Attwell-dir: 1.306e+04 pJ/s\n",
      "Attwell-form: 2.144e+01 pJ/s\n",
      "Moujahid: 9.044e+00, pJ/s\n",
      "------\n",
      "\n",
      "=====  octopus  =====\n",
      "Attwell-dir: 1.653e+05 pJ/s\n",
      "Attwell-form: 1.399e+02 pJ/s\n",
      "Moujahid: 1.146e+02, pJ/s\n",
      "------\n",
      "\n",
      "=====  stellatec  =====\n",
      "Attwell-dir: 4.604e+02 pJ/s\n",
      "Attwell-form: 3.072e+00 pJ/s\n",
      "Moujahid: 3.088e-01, pJ/s\n",
      "------\n",
      "\n",
      "=====  stellatet  =====\n",
      "Attwell-dir: 4.626e+02 pJ/s\n",
      "Attwell-form: 3.085e+00 pJ/s\n",
      "Moujahid: 3.130e-01, pJ/s\n",
      "------\n",
      "\n"
     ]
    }
   ],
   "source": [
    "for npx in neurons:\n",
    "    n = npx[0]\n",
    "    print '===== ', n.name(), ' ====='\n",
    "    print_erate_estimate(n)\n",
    "    #print \"Mujpow dummy mechanism: \", n.\n",
    "    print '------\\n'"
   ]
  },
  {
   "cell_type": "code",
   "execution_count": 20,
   "metadata": {},
   "outputs": [
    {
     "name": "stdout",
     "output_type": "stream",
     "text": [
      "BC_ALdir: 2.61e+08\n"
     ]
    }
   ],
   "source": [
    "print \"BC_ALdir: %.2e\"%(2.144e+01/9.044 * 1.1e8)"
   ]
  },
  {
   "cell_type": "code",
   "execution_count": 19,
   "metadata": {},
   "outputs": [
    {
     "name": "stdout",
     "output_type": "stream",
     "text": [
      "OC_ALdir: 1.71e+09\n"
     ]
    }
   ],
   "source": [
    "print \"OC_ALdir: %.2e\"%(1.399e+02/114.6 * 1.4e9)"
   ]
  },
  {
   "cell_type": "code",
   "execution_count": 18,
   "metadata": {},
   "outputs": [
    {
     "name": "stdout",
     "output_type": "stream",
     "text": [
      "SC_ALdir: 3.93e+07\n"
     ]
    }
   ],
   "source": [
    "print \"SC_ALdir: %.2e\"%(3.072e+00/0.313 * 4e6)"
   ]
  },
  {
   "cell_type": "code",
   "execution_count": 114,
   "metadata": {},
   "outputs": [],
   "source": [
    "def collect_MoujErates(neurons):\n",
    "    Mes = dict()\n",
    "    Mesa = dict()\n",
    "    for npx in neurons:\n",
    "        Mes[npx[0].name()] = pJ2atp(mouj_Erate2_d(npx[0](.5)), Gatp=60)/1e9 # total, ih, ikl, ika (Units: 1e9 ATPs/s)\n",
    "        Mesa[npx[0].name()] = ratp_atwell_direct(npx[0](.5))/1e12\n",
    "    return Mes, Mesa\n",
    "\n",
    "Mes, Mesa = collect_MoujErates(neurons)\n",
    "Mes = pandas.DataFrame(Mes,index=['Total','g$_h$','g$_{Klt}$','g$_{A}$']).T\n",
    "\n",
    "Mesa = pandas.DataFrame(Mesa,index=['Total','g$_h$','g$_{Klt}$','g$_{A}$']).T"
   ]
  },
  {
   "cell_type": "markdown",
   "metadata": {},
   "source": [
    "#### ion counting method is tricky while trying to estimate impact of specific current type to neurons energy needs"
   ]
  },
  {
   "cell_type": "code",
   "execution_count": 115,
   "metadata": {},
   "outputs": [],
   "source": [
    "# make 'Other' instead of 'Total'\n",
    "def makk(Mes):\n",
    "    Mes.Total = Mes.Total -Mes['g$_h$'] -Mes['g$_{Klt}$'] -Mes['g$_{A}$'] \n",
    "    Mes = Mes.rename(index={'bushy':'BC','octopus':'OC','stellatet':'SC'}, columns={'Total':'Other'})\n",
    "    # pop SC-c cells out\n",
    "    Mes = Mes.drop(['stellatec'])\n",
    "    return Mes\n",
    "\n",
    "Mes = makk(Mes)"
   ]
  },
  {
   "cell_type": "code",
   "execution_count": 117,
   "metadata": {},
   "outputs": [],
   "source": [
    "Mesa = Mesa.rename(index={'bushy':'BC','octopus':'OC','stellatet':'SC'})"
   ]
  },
  {
   "cell_type": "code",
   "execution_count": 135,
   "metadata": {},
   "outputs": [
    {
     "data": {
      "text/plain": [
       "0.0010959814015277316"
      ]
     },
     "execution_count": 135,
     "metadata": {},
     "output_type": "execute_result"
    }
   ],
   "source": [
    "1.1e12 * 300. * 60. / 30. / avogadro * 1e6"
   ]
  },
  {
   "cell_type": "code",
   "execution_count": 151,
   "metadata": {},
   "outputs": [
    {
     "name": "stdout",
     "output_type": "stream",
     "text": [
      "aggregate OC and BC glucose usage in\n",
      "0.6mm$^3$ VCN is 1024.0 umol Glc/100g/min\n"
     ]
    }
   ],
   "source": [
    "Glc = (1e11*15500. + 1e12 * 300.) * 60. / 30 / avogadro * 1e6 / 0.6e-3 * 100\n",
    "print 'Aggregate OC and BC glucose usage in\\n0.6mm$^3$ VCN is %.1f umol Glc/100g/min'%Glc"
   ]
  },
  {
   "cell_type": "code",
   "execution_count": 133,
   "metadata": {},
   "outputs": [
    {
     "data": {
      "text/plain": [
       "[<matplotlib.axis.YTick at 0x119cb17d0>,\n",
       " <matplotlib.axis.YTick at 0x119cb1290>,\n",
       " <matplotlib.axis.YTick at 0x119e89d10>]"
      ]
     },
     "execution_count": 133,
     "metadata": {},
     "output_type": "execute_result"
    },
    {
     "data": {
      "image/png": "[encoded data removed]",
      "text/plain": [
       "<Figure size 360x288 with 1 Axes>"
      ]
     },
     "metadata": {
      "needs_background": "light"
     },
     "output_type": "display_data"
    }
   ],
   "source": [
    "fig, ax = subplots(figsize = (5,4))\n",
    "ax.set_title('Ion-counting, direct')\n",
    "Mesa.Total.loc[['BC', 'OC', 'SC']].plot.bar(ax=ax, color='grey', width=0.7,rot=0)\n",
    "ax.set_yscale('log')\n",
    "ax.yaxis.set_major_formatter(ScalarFormatter())\n",
    "ax.set_ylabel('$10^{12}$ ATPs/s')\n",
    "ax.yaxis.set_ticks([0.01,0.1,1.0])"
   ]
  },
  {
   "cell_type": "code",
   "execution_count": 112,
   "metadata": {},
   "outputs": [
    {
     "data": {
      "text/plain": [
       "[<matplotlib.axis.YTick at 0x1197d5810>,\n",
       " <matplotlib.axis.YTick at 0x1197d5250>,\n",
       " <matplotlib.axis.YTick at 0x119706110>]"
      ]
     },
     "execution_count": 112,
     "metadata": {},
     "output_type": "execute_result"
    },
    {
     "data": {
      "image/png": "[encoded data removed]",
      "text/plain": [
       "<Figure size 360x288 with 1 Axes>"
      ]
     },
     "metadata": {
      "needs_background": "light"
     },
     "output_type": "display_data"
    }
   ],
   "source": [
    "fig,ax = subplots(figsize=(5,4))\n",
    "# Mes.plot.bar(stacked=True,color=['grey','#deb0b0','#b0c4de', 'm'],width=0.7,rot=0,ax=ax)\n",
    "Mes[['Other','g$_h$','g$_{Klt}$']].plot.bar(stacked=True,color=['grey','#deb0b0','#b0c4de'],width=0.7,rot=0,ax=ax)\n",
    "\n",
    "yscale('log')\n",
    "from matplotlib.ticker import ScalarFormatter\n",
    "ax.yaxis.set_major_formatter(ScalarFormatter())\n",
    "ax.set_ylabel('$\\dot{H}_{Rest}$, $10^9$ ATPs/s')\n",
    "ax.yaxis.set_ticks([0.01,0.1,1.0])\n",
    "# tight_layout()\n",
    "# savefig('Point-models-resting-energy.pdf')"
   ]
  },
  {
   "cell_type": "code",
   "execution_count": 103,
   "metadata": {},
   "outputs": [
    {
     "data": {
      "text/html": [
       "<div>\n",
       "<style scoped>\n",
       "    .dataframe tbody tr th:only-of-type {\n",
       "        vertical-align: middle;\n",
       "    }\n",
       "\n",
       "    .dataframe tbody tr th {\n",
       "        vertical-align: top;\n",
       "    }\n",
       "\n",
       "    .dataframe thead th {\n",
       "        text-align: right;\n",
       "    }\n",
       "</style>\n",
       "<table border=\"1\" class=\"dataframe\">\n",
       "  <thead>\n",
       "    <tr style=\"text-align: right;\">\n",
       "      <th></th>\n",
       "      <th>BC</th>\n",
       "      <th>OC</th>\n",
       "      <th>SC</th>\n",
       "    </tr>\n",
       "  </thead>\n",
       "  <tbody>\n",
       "    <tr>\n",
       "      <th>22</th>\n",
       "      <td>0.108928</td>\n",
       "      <td>1.385559</td>\n",
       "      <td>0.003766</td>\n",
       "    </tr>\n",
       "    <tr>\n",
       "      <th>33</th>\n",
       "      <td>0.108930</td>\n",
       "      <td>1.380236</td>\n",
       "      <td>0.003770</td>\n",
       "    </tr>\n",
       "    <tr>\n",
       "      <th>37</th>\n",
       "      <td>0.108930</td>\n",
       "      <td>1.380235</td>\n",
       "      <td>0.003770</td>\n",
       "    </tr>\n",
       "  </tbody>\n",
       "</table>\n",
       "</div>"
      ],
      "text/plain": [
       "          BC        OC        SC\n",
       "22  0.108928  1.385559  0.003766\n",
       "33  0.108930  1.380236  0.003770\n",
       "37  0.108930  1.380235  0.003770"
      ]
     },
     "execution_count": 103,
     "metadata": {},
     "output_type": "execute_result"
    }
   ],
   "source": [
    "Mes_temp = pandas.DataFrame([Mes.sum(axis=1),Mes_33.sum(axis=1),Mes_37.sum(axis=1)], index=['22','33','37'])\n",
    "Mes_temp"
   ]
  },
  {
   "cell_type": "code",
   "execution_count": null,
   "metadata": {},
   "outputs": [],
   "source": []
  }
 ],
 "metadata": {
  "kernelspec": {
   "display_name": "Python 2",
   "language": "python",
   "name": "python2"
  },
  "language_info": {
   "codemirror_mode": {
    "name": "ipython",
    "version": 2
   },
   "file_extension": ".py",
   "mimetype": "text/x-python",
   "name": "python",
   "nbconvert_exporter": "python",
   "pygments_lexer": "ipython2",
   "version": "2.7.15"
  }
 },
 "nbformat": 4,
 "nbformat_minor": 2
}
