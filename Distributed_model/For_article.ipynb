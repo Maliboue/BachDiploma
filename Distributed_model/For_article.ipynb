{
 "cells": [
  {
   "cell_type": "code",
   "execution_count": 1,
   "metadata": {},
   "outputs": [
    {
     "name": "stdout",
     "output_type": "stream",
     "text": [
      "Populating the interactive namespace from numpy and matplotlib\n"
     ]
    }
   ],
   "source": [
    "from itertools import chain\n",
    "from neuron import h, gui\n",
    "import pandas\n",
    "%pylab inline\n",
    "import cPickle as pickle\n",
    "from scipy.signal import *\n",
    "import efel"
   ]
  },
  {
   "cell_type": "code",
   "execution_count": null,
   "metadata": {},
   "outputs": [],
   "source": []
  },
  {
   "cell_type": "code",
   "execution_count": 2,
   "metadata": {},
   "outputs": [],
   "source": [
    "R = 8314.4  # Gaz constant, mJ / mol / K\n",
    "F = 96485   # Faraday's, C / mol\n",
    "F_ATP = 50 # Free energy of ATP hydrolysis, kJ / mol (Moujahid et al, 2014)\n",
    "avogadro = 6.022e23 # N_a"
   ]
  },
  {
   "cell_type": "code",
   "execution_count": 3,
   "metadata": {
    "scrolled": true
   },
   "outputs": [],
   "source": [
    "h.celsius = 33."
   ]
  },
  {
   "cell_type": "code",
   "execution_count": 4,
   "metadata": {},
   "outputs": [],
   "source": [
    "h.cvode_active(0)\n",
    "h.dt = 0.005"
   ]
  },
  {
   "cell_type": "code",
   "execution_count": 5,
   "metadata": {},
   "outputs": [],
   "source": [
    "def find_nearest(array, value):\n",
    "    idx = np.abs(array - value).argmin()\n",
    "    return idx"
   ]
  },
  {
   "cell_type": "markdown",
   "metadata": {},
   "source": [
    "# Cotopus cell model (Spencer et al, 2012)"
   ]
  },
  {
   "cell_type": "code",
   "execution_count": 6,
   "metadata": {},
   "outputs": [],
   "source": [
    "# number of segments per dendrite should be large to allow for precise synapse location. So set Ndendseg=201\n",
    "\n",
    "Ndend = 4\n",
    "    \n",
    "class OctopusCell:\n",
    "    all_currents = ['leak', 'nasab', 'kltab', 'khtab', 'ihsab']\n",
    "    def __init__(self, \n",
    "                 soma_diam=25.0,\n",
    "                 ax_init_L=5.0,\n",
    "                 ax_passive_L=35.0,\n",
    "                 ax_diam=3.0,\n",
    "                 Ndend=4, Ndendseg = 201, dend_L=250., dend_diam=3.0,\n",
    "                 ax_gbar_na = 1600,  # mS/cm^2\n",
    "                 ax_gbar_Ikl = 10,    # ??? Why not Ikh?\n",
    "                 soma_gbar_Ikl = 40.7, # mS/cm^2\n",
    "                 soma_gbar_Ih = 7.6,   # mS/cm^2\n",
    "                 dend_gbar_Ikl = 2.7,  # mS/cm^2 ; Table 3 Spencer 2012\n",
    "                 dend_gbar_Ih = 0.6,   # mS/cm^2 ; Table 3 Spencer 2012\n",
    "                 cm = 1.2, # uF/cm^2, closer to McGinley et al 2012\n",
    "                 Ra = 150., #Ohm*cm, closer to McGinley et al 2012 \n",
    "                 Eleak=-62):\n",
    "        self.id = randint(10000000)\n",
    "        #self.Eleak = Eleak\n",
    "        self.make_soma(soma_diam)\n",
    "        self.make_axon(ax_init_L, ax_passive_L,ax_diam)\n",
    "        self.make_dendrites(Ndend,Ndendseg,dend_L,dend_diam)\n",
    "        self.make_connections()\n",
    "        self.init_mechanisms(ax_gbar_na, ax_gbar_Ikl,\n",
    "                             soma_gbar_Ikl, soma_gbar_Ih,\n",
    "                             dend_gbar_Ikl, dend_gbar_Ih,\n",
    "                             cm, Ra, Eleak)\n",
    "        \n",
    "        self.add_stim()\n",
    "        self.init_records()\n",
    "        \n",
    "    def add_stim(self):\n",
    "        self.stim = h.IClamp(0.5, sec=self.soma)\n",
    "        self.stim.amp = 0\n",
    "        \n",
    "    def init_records(self):\n",
    "        istim = h.Vector()\n",
    "        istim.record(self.stim._ref_i)\n",
    "        self.istim = istim\n",
    "        \n",
    "        self.tv = h.Vector()\n",
    "        self.tv.record(h._ref_t) \n",
    "        \n",
    "        self.vax = h.Vector()\n",
    "        self.vax.record(self.ax_init(0.5)._ref_v) \n",
    "        \n",
    "        self.vs = h.Vector()\n",
    "        self.vs.record(self.soma(0.5)._ref_v) \n",
    "        \n",
    "        \n",
    "        \n",
    "    def make_soma(self,diam):\n",
    "        # Soma\n",
    "        soma = h.Section(name='soma_%d'%self.id)\n",
    "        soma.L = soma.diam = diam\n",
    "        soma.nseg = 1\n",
    "        self.soma = soma\n",
    "\n",
    "    def make_axon(self, ax_init_len=10, ax_passive_len=30,diam=3.0):\n",
    "        # Axon\n",
    "        ax_stub = h.Section(name='ax_stub%d'%self.id)\n",
    "        ax_init = h.Section(name='ax_init%d'%self.id)\n",
    "        ax_stub.diam = ax_init.diam = diam\n",
    "        ax_stub.L = ax_passive_len\n",
    "        ax_init.L = ax_init_len\n",
    "       \n",
    "        ax_init.nseg = int(ceil(ax_init.L/10))\n",
    "        ax_stub.nseg = int(ceil(ax_stub.L/10))\n",
    "        \n",
    "        self.ax_init = ax_init\n",
    "        self.ax_stub = ax_stub\n",
    "    \n",
    "\n",
    "    def make_dendrites(self,  Ndend=4, Ndendseg=201, L=250, diam=3.0):\n",
    "        # Dendrites\n",
    "        dendrites = [h.Section(name='dend_%d_%d'%(i,self.id)) for i in range(Ndend)]\n",
    "        for d in dendrites:\n",
    "            d.diam = 3\n",
    "            d.L = L\n",
    "            d.nseg = Ndendseg\n",
    "            #d.connect(soma, 1, 0)\n",
    "        self.dendrites = dendrites\n",
    "    \n",
    "    def make_connections(self):\n",
    "        self.ax_init.connect(self.ax_stub, 1, 0)   # childsec.connect(parentsec, parentx, childx)\n",
    "        self.ax_stub.connect(self.soma, 0, 0)\n",
    "        for d in self.dendrites:\n",
    "            d.connect(self.soma, 1, 0)\n",
    "    \n",
    "    def init_mechanisms(self, \n",
    "                        ax_gbar_na, ax_gbar_Ikl,\n",
    "                        soma_gbar_Ikl, soma_gbar_Ih,\n",
    "                        dend_gbar_Ikl, dend_gbar_Ih, \n",
    "                        cm, Ra, Eleak):\n",
    "        sections = [self.soma, self.ax_init, self.ax_stub]+self.dendrites\n",
    "        for sec in sections:\n",
    "            sec.Ra = Ra  \n",
    "            #sec.cm = 0.9      # Spencer\n",
    "            sec.cm = cm      \n",
    "            for cur in self.all_currents:\n",
    "                sec.insert(cur)\n",
    "            for seg in sec:\n",
    "                seg.leak.erev = Eleak\n",
    "                seg.leak.g = 0.002  # Spencer\n",
    "                #seg.hcno.eh = -38\n",
    "                seg.ihsab.eh = -38 # Spencer\n",
    "            \n",
    "                seg.nasab.gbar = 0\n",
    "                seg.ihsab.gbar = 0\n",
    "                seg.kltab.gbar = 0\n",
    "                seg.khtab.gbar = 0\n",
    "                #seg.hcno.gbar = 0\n",
    "            \n",
    "            sec.ena = 55.0\n",
    "            sec.ek = -70.0\n",
    "    \n",
    "        # ... there must be a more compact way...\n",
    "        # todo: tabulate these parameters\n",
    "        #for seg in self.ax_stub:\n",
    "        #    seg.leak.g = 0\n",
    "        for seg in self.ax_init:\n",
    "            seg.nasab.gbar = ax_gbar_na*1e-3\n",
    "            seg.kltab.gbar = ax_gbar_Ikl*1e-3\n",
    "       \n",
    "        for seg in self.soma:\n",
    "            seg.kltab.gbar = soma_gbar_Ikl*1e-3\n",
    "            seg.ihsab.gbar = soma_gbar_Ih*1e-3\n",
    "            seg.khtab.gbar = 0.0061\n",
    "            \n",
    "    \n",
    "        for seg in chain(*self.dendrites):\n",
    "            seg.kltab.gbar = dend_gbar_Ikl*1e-3\n",
    "            seg.ihsab.gbar = dend_gbar_Ih*1e-3\n",
    "    \n",
    "    def delete(self):\n",
    "        self.soma = None\n",
    "        self.ax_init = None\n",
    "        self.ax_stub = None\n",
    "        self.dendrites = None\n",
    "    \n",
    "    def add_synapses(self,\n",
    "                     Nsyn = 100, # total number of impinging synapses\n",
    "                     gsyn = 1.5, # single synaptic conductance nS\n",
    "                     tau_rise = 0.07,\n",
    "                     tau_decay = 0.34,\n",
    "                     #-- \n",
    "                     tonotopy = 'ordered', # {ordered, random}\n",
    "                     full_delay = 0.3, # max difference between delays, ms\n",
    "                     #--\n",
    "                     aud_rate=211,    # incoming spike rate, Hz\n",
    "                     aud_start = 100, # ms\n",
    "                     aud_npulses=25,  # number of incoming spikes \n",
    "                     aud_jitter = 0.0, # jitter of incoming spike times (0...1)\n",
    "                    ):\n",
    "        afib = h.NetStim()\n",
    "\n",
    "        afib.interval = 1000./aud_rate # ms \n",
    "        afib.start = aud_start # ms\n",
    "        afib.number = aud_npulses # number of spikes\n",
    "        afib.noise = aud_jitter # no randomness so far\n",
    "        self.afib = afib\n",
    "        \n",
    "        synapses = []\n",
    "        delays = linspace(0,full_delay, Nsyn) # !!! Delay distribution could be non-uniform!\n",
    "        #delays = uniform(0.0,full_delay,size=Nsyn) # !!! Delay distribution could be non-uniform!\n",
    "        for k in xrange(Nsyn):\n",
    "            delay = delays[k]\n",
    "            if tonotopy == 'ordered':\n",
    "                loc = 1 - delay/full_delay\n",
    "            elif tonotopy == 'random':\n",
    "                loc = uniform()\n",
    "            d = self.dendrites[randint(len(self.dendrites))]\n",
    "            syn = h.Exp2Syn(loc, sec=d) \n",
    "            syn.tau1 = tau_rise # rise time\n",
    "            syn.tau2 = tau_decay # decay time\n",
    "            con  = h.NetCon(afib, syn, 0, delay, gsyn*1e-3) #nS->uS\n",
    "            synapses.append((syn, con, d(loc), delay))\n",
    "        self.synapses = synapses\n",
    "        return\n",
    "    def _shuffle_synapses(self):\n",
    "        if not self.synapses:\n",
    "            return\n",
    "        for syn,con,seg in self.synapses:\n",
    "            d = self.dendrites[randint(len(self.dendrites))]\n",
    "            loc = uniform()\n",
    "            #....syn.\n",
    "\n",
    "#################################################################_OZ_16.02.17\n",
    "\n",
    "    def set_afib(self,\n",
    "                 aud_rate=211,    # incoming spike rate, Hz\n",
    "                 aud_start=200, # ms\n",
    "                 aud_npulses=25,  # number of incoming spikes \n",
    "                 aud_jitter=0.0, # jitter of incoming spike times (0...1)):\n",
    "                 ):\n",
    "        afib = h.NetStim()\n",
    "        afib.interval = 1000./aud_rate # ms \n",
    "        afib.start = aud_start # ms\n",
    "        afib.number = aud_npulses # number of spikes\n",
    "        afib.noise = aud_jitter # no randomness so far\n",
    "        self.afib = afib\n",
    "        return afib\n",
    "    \n",
    "    \n",
    "    def add_single_syn(self,\n",
    "                       loca, # location [0...1] of the synapse\n",
    "                       afib,\n",
    "                       gsyn = 1.5, # single synaptic conductance nS\n",
    "                       tau_rise = 0.07,\n",
    "                       tau_decay = 0.34,\n",
    "                       tonotopy = 'ordered', # {ordered, random}\n",
    "                       delay_func=None,\n",
    "                       dnm=0   # indice of a dend from the dendrites list\n",
    "                     ):\n",
    "        \n",
    "        # Make a synapse\n",
    "        d = self.dendrites[dnm]\n",
    "        syn = h.Exp2Syn(loca, sec=d)\n",
    "        syn.tau1 = tau_rise # rise time\n",
    "        syn.tau2 = tau_decay # decay time\n",
    "\n",
    "        if tonotopy == 'ordered':\n",
    "            if delay_func == None:\n",
    "                delay = 0 # ******** To Be Corrected Later ******* ???? Make a linear distr\n",
    "            else:\n",
    "                delay = delay_func(loca)\n",
    "        elif tonotopy == 'random' and delay_func != None:\n",
    "            delay = uniform(delay_func(0), delay_func(1))\n",
    "\n",
    "#         print loca,delay\n",
    "\n",
    "        con = h.NetCon(afib, syn, 0, delay, gsyn*1e-3) #nS->uS            \n",
    "#         self.syn=syn\n",
    "#         self.con=con\n",
    "        \n",
    "        synapse = (syn,con,d(loca),delay)\n",
    "        self.synapse = synapse\n",
    "        return synapse\n",
    "\n",
    "\n",
    "    def add_several_syn(self,\n",
    "                        locs,  \n",
    "                        gsyn = 1.5, # single synaptic conductance nS\n",
    "                        tau_rise = 0.07,\n",
    "                        tau_decay = 0.34,\n",
    "                        tonotopy = 'ordered', # {ordered, random}\n",
    "                        delay_func=None,\n",
    "                        afibp=dict(aud_rate=211,   \n",
    "                                   aud_start=200,   \n",
    "                                   aud_npulses=1,    \n",
    "                                   aud_jitter=0.0), \n",
    "                        dnm=0,\n",
    "                       ):\n",
    "        afib = self.set_afib(**afibp)\n",
    "        synapses=[]\n",
    "        if type(dnm) == int:\n",
    "#             print 'dnm is INT MFFCR!'\n",
    "            for loc in locs:\n",
    "                synapses.append(self.add_single_syn(loca=loc,\n",
    "                                                    afib=afib,\n",
    "                                                    gsyn=gsyn,\n",
    "                                                    tau_rise=tau_rise,\n",
    "                                                    tau_decay=tau_decay,\n",
    "                                                    tonotopy=tonotopy,\n",
    "                                                    delay_func=delay_func,\n",
    "                                                    dnm=dnm\n",
    "                                                   )\n",
    "                                )\n",
    "            self.synapses=synapses\n",
    "            \n",
    "        elif type(dnm) == list:\n",
    "#             for d in dnm:\n",
    "            for loc in locs: # now locs are the coordinates of all synapses to be distributed \n",
    "                             # amond all dends with indices from dnm\n",
    "                d = dnm[randint(len(dnm))]\n",
    "                synapses.append(self.add_single_syn(loca=loc,\n",
    "                                                afib=afib,\n",
    "                                                gsyn=gsyn,\n",
    "                                                tau_rise=tau_rise,\n",
    "                                                tau_decay=tau_decay,\n",
    "                                                tonotopy=tonotopy,\n",
    "                                                delay_func=delay_func,\n",
    "                                                dnm=d\n",
    "                                               )\n",
    "                            )\n",
    "            self.synapses=synapses\n",
    "        \n",
    "        return\n",
    "    \n",
    "    def find_delays(self,    # *** NOTE, tau_rise(0->Vmax) lowers in case of preceeding EPSP! ***\n",
    "                    locs, # locs: .0->1.\n",
    "                    v_init=-61.1,\n",
    "                    afibp=dict(aud_rate=211,   \n",
    "                               aud_start=200,  \n",
    "                               aud_npulses=1,  \n",
    "                               aud_jitter=0.0),\n",
    "                    dnm=0,\n",
    "                   ):\n",
    "        acc=[]\n",
    "        acc1=[]\n",
    "        afib=self.set_afib(**afibp)\n",
    "\n",
    "        for loc in locs:\n",
    "            self.add_single_syn(loca=loc, afib=afib, dnm=dnm)\n",
    "            # *.add_single_syn overwrites *Dend.synapse* variable at every iteration. The last is not deleted\n",
    "\n",
    "            vx = h.Vector()\n",
    "            vx.record(self.dendrites[dnm](loc)._ref_v)\n",
    "            v1 = h.Vector()\n",
    "            v1.record(self.dendrites[dnm](0.0)._ref_v)   # 'destination' region (0.0 fixed to soma(1))\n",
    "            t = h.Vector()\n",
    "            t.record(h._ref_t)\n",
    "\n",
    "            h.tstop = 300\n",
    "            h.v_init = -60.0\n",
    "            h.run()\n",
    "            \n",
    "#             print array(v0).max(), array(v1).max()\n",
    "\n",
    "            t_ = find_nearest(array(t),100)  # indice to begin reading Vs from, avoiding relaxation, what may be higher than EPSP\n",
    "#             print t_, array(vx)==array(vx)[t_:].max(), array(vx)==array(vx).max()\n",
    "        \n",
    "            tx_max = array(t)[array(vx)==array(vx)[t_:].max()]  # time when Vm reaches max at the *loc* coordinate\n",
    "            t1_max = array(t)[array(v1)==array(v1)[t_:].max()]  # -||- at the 'destination' coordinate \n",
    "            taux = tx_max-afibp['aud_start']                    # the time of Vmax appear at the x coordinate relatively to aud_start moment\n",
    "#             print t0_max, t1_max\n",
    "            \n",
    "            acc.append([loc,\n",
    "#                         t1_max-afibp['aud_start'],\n",
    "#                         t1_max-tx_max])   # synapse location and corresponding delay times, both relative to\n",
    "                        t1_max])                                           # aud_start and t0_max\n",
    "            acc1.append(map(array, [t,vx,v1]))\n",
    "        acc = transpose(acc)\n",
    "        return acc, acc1    "
   ]
  },
  {
   "cell_type": "markdown",
   "metadata": {},
   "source": [
    "# Energy calc functions"
   ]
  },
  {
   "cell_type": "code",
   "execution_count": 7,
   "metadata": {},
   "outputs": [],
   "source": [
    "def split_mixed(v, gm, erev,ek=-70,ena=55):\n",
    "    gratio = float((ena-erev))/(erev-ek)\n",
    "    denom = (v*(gratio+1) - gratio*ek - ena)\n",
    "    if (abs(v-erev) < 1):\n",
    "        gnah = gm/(gratio + 1)\n",
    "    else: \n",
    "        gnah = gm*(v-erev)/denom\n",
    "    inah = gnah*(v-ena)\n",
    "    ikh = gratio*gnah*(v-ek)\n",
    "    return inah, ikh\n",
    "\n",
    "def ratp_atwell(V, Rin, Ena = 50, Ek = -70):\n",
    "    \"\"\" \n",
    "        Returns resting ATP consumption rate (pmol ATP/s)\n",
    "        [Attwell & Laughlin, 2001]\"\"\"\n",
    "    \n",
    "    # I take Rm in MOhms and V in mV\n",
    "    # Thus, result is in nmole/sec\n",
    "    \n",
    "    out = (Ena-V)*(V-Ek)/(F*Rin*(V + 2*Ena - 3*Ek))\n",
    "    return out*1e3 # nmol -> pmol\n",
    "\n",
    "\n",
    "# ---- Energy units convertation funcs ----\n",
    "\n",
    "\n",
    "def pmol2molecules(x):\n",
    "    \"pmol ATP/s --> ATPs/s\"\n",
    "    return x*1e-12*avogadro\n",
    "\n",
    "def atp2J(nATP):\n",
    "    \"pmol ATP/s --> pJ/s\"\n",
    "    return F_ATP * nATP * 1e3\n",
    "\n",
    "def J2atp(nJ, F_ATP=50):\n",
    "    \"J/s --> mol ATP/s\"\n",
    "    return (nJ/F_ATP)*1e-3\n",
    "\n",
    "def pJ2molecules(pJ):\n",
    "    \"pJ/s --> ATPs/s\"\n",
    "    return pmol2molecules(J2atp(pJ))\n",
    "\n",
    "\n",
    "# ---- Energy use rate (Moujahid et al, 2011) ----\n",
    "\n",
    "\n",
    "def mouj_Erate2(seg, erev_ih = -38, mode=None, atwla=False):\n",
    "    \"\"\"\n",
    "    Calculate energy from all currents (*density mechanisms only*) in the model \n",
    "    segment (pJ/s or ATPs/s, see atwla). \n",
    "    \n",
    "    Synaptic currents-related energy is not calculated here.\n",
    "    \n",
    "    mode==None => total energy from all currents calculated;\n",
    "    mode=='hkl' => total & h-current-related & \n",
    "                    klt-current-related & leakage-related energies are packed into a single list\n",
    "    \n",
    "    atwla=False => Moujahid et al 2011 method is adopted (pJ/s)\n",
    "    atwla=True => Ion-counting method is adopted(Attwell & Laughlin 2001) (ATPs/s)\n",
    "    \n",
    "    -------\n",
    "    Returns: list of float(s)\n",
    "    \"\"\"\n",
    "    \n",
    "    v = seg.v\n",
    "    acc = 0.0\n",
    "    inah, ikh = split_mixed(seg.v, seg.gh_ihsab, \n",
    "                            erev_ih, seg.ek, seg.ena) # Split Ih into Na and K components\n",
    "\n",
    "    ina = seg.ina + inah      # Total Na current, mA/cm2\n",
    "    ik = seg.ik + ikh         # Total K current\n",
    "\n",
    "    if atwla:\n",
    "        factor = 1e-3 * 1e-8 / 1.6e-19 # powers of 10: mA/cm2->A/cm2, um2->cm2, => A, => ions/s\n",
    "        acc = abs(ina) / 3 * factor * seg.area()\n",
    "        if mode is None:\n",
    "            \n",
    "            return [acc]\n",
    "        \n",
    "        elif mode == 'hkl':\n",
    "            acch = abs(inah) / 3 * factor * seg.area()\n",
    "            acckl = abs(seg.kltab.ik) / 2 * factor * seg.area()\n",
    "            acclk = abs(seg.i_leak) / 2 * factor * seg.area() # assuming K leakage\n",
    "            \n",
    "            return [acc, acch, acckl, acclk]\n",
    "        \n",
    "    else:\n",
    "        acc += ina*(v-seg.ena)\n",
    "        acc += ik*(v-seg.ek)\n",
    "        acc += seg.i_leak*(v-seg.erev_leak) \n",
    "        factor = (1e-8) # um^2 -> cm^2\n",
    "        factor *= (1e6) # -> pJ/s\n",
    "        acc = acc*seg.area()*factor\n",
    "        if mode == None:\n",
    "            \n",
    "            return [acc]\n",
    "        \n",
    "        elif mode == 'hkl':\n",
    "            acch = abs(inah*(v-seg.ena)) + abs(ikh*(v-seg.ek))\n",
    "            acckl = abs(seg.kltab.ik*(v - seg.ek))\n",
    "            acch = acch*seg.area()*factor\n",
    "            acckl = acckl*seg.area()*factor\n",
    "            acclk = seg.i_leak*(v-seg.erev_leak)*seg.area()*factor\n",
    "            \n",
    "            return [acc, acch, acckl, acclk]\n",
    "        \n",
    "\n",
    "def synaptic_curr2pJ(syn,seg, atwla=False):\n",
    "    \"\"\"\n",
    "        Calculate energy from synaptic currents (pJ/s).\n",
    "\n",
    "        Returns: float\n",
    "    \"\"\"\n",
    "    # syn.g is in uS, syn.i is in nA, erate is in pJ/s\n",
    "    v  = seg.v\n",
    "    g = syn.g\n",
    "    ina, ik = split_mixed(v, g, 0, seg.ek, seg.ena)\n",
    "    if atwla:\n",
    "        erate = (abs(ina) / 3) * 1e-9 / 1.6e-19 # nA -> A -> ions/s / 3\n",
    "    else:\n",
    "        erate = ina*(v-seg.ena) + ik*(v-seg.ek)\n",
    "    return erate"
   ]
  },
  {
   "cell_type": "markdown",
   "metadata": {},
   "source": [
    "### Run control from Python and energy accounting"
   ]
  },
  {
   "cell_type": "code",
   "execution_count": 8,
   "metadata": {},
   "outputs": [],
   "source": [
    "tstop = 400\n",
    "\n",
    "h.v_init = -60.6\n",
    "\n",
    "def initialize():\n",
    "    h.finitialize(h.v_init) # makes v = h.v_init and computes and fixes corresponding state variables \n",
    "    h.fcurrent() # makes all assigned variables consistent with the values of states\n",
    "    \n",
    "def instant_erates(cell,mode=None, atwla=False):\n",
    "    \"\"\"\n",
    "        Calculate energy in different model compartments at a single time point (end of the model run).\n",
    "    \n",
    "        mode = None -> only total compartments energy count;\n",
    "        mode = 'hkl' -> plus energy for Ih and Ikl throughout the compartments.\n",
    "        \n",
    "        atwla (True or False) -- whether use ion counting method (Attwell&Laughlin2001) or that suggested by Mougahid et al2011\n",
    "        \n",
    "        Returns: tuple of floats\n",
    "    \"\"\"\n",
    "    syn_erate = np.sum([synaptic_curr2pJ(s, dseg, atwla=atwla) for s,c,dseg,d in cell.synapses])\n",
    "    soma_erate = mouj_Erate2(cell.soma(0.5),mode=mode, atwla=atwla)[0] # mouj_Erate2 generates a list [acc] (mode=None) or [acc, acch, acckl] (mode='hkl')\n",
    "    dend_erate = np.sum([mouj_Erate2(seg,mode=mode, atwla=atwla)[0] for seg in chain(*cell.dendrites)])\n",
    "    axon_erate = np.sum([mouj_Erate2(seg,mode=mode, atwla=atwla)[0] for seg in chain(cell.ax_init,cell.ax_stub)])\n",
    "    if mode == None:\n",
    "        return axon_erate, soma_erate, dend_erate, syn_erate\n",
    "    elif mode == 'hkl':\n",
    "        h_erate = np.sum([mouj_Erate2(seg,mode=mode, atwla=atwla)[1] \n",
    "                          for seg in chain(cell.dendrites[0],cell.dendrites[1],cell.dendrites[2],cell.dendrites[3],\n",
    "                                           cell.soma, cell.ax_init, cell.ax_stub)])\n",
    "        kl_erate = np.sum([mouj_Erate2(seg,mode=mode, atwla=atwla)[2] \n",
    "                          for seg in chain(cell.dendrites[0],cell.dendrites[1],cell.dendrites[2],cell.dendrites[3],\n",
    "                                           cell.soma, cell.ax_init, cell.ax_stub)])\n",
    "        return axon_erate, soma_erate, dend_erate, syn_erate, h_erate, kl_erate\n",
    "    \n",
    "def integrate_collecting_energy(cells,tstop,mode=None, atwla=False):\n",
    "    \n",
    "    \"\"\"\n",
    "        Calculate time-resolved energy func for each model compartment.\n",
    "        `cells` -- list of 'OctopusCell' class objects.\n",
    "        \n",
    "        mode==None -> only total compartments energy count;\n",
    "        mode==hkl -> plus energy for Ih and Ikl throughout the compartments.\n",
    "\n",
    "        atwla (True or False) -- whether use ion counting method (Attwell&Laughlin2001) or that suggested by Mougahid et al2011\n",
    "        \n",
    "        Returns: list of dicts containing energy trajectories.\n",
    "    \"\"\"\n",
    "\n",
    "    keepvar = ['t','soma.v','axon.v',\n",
    "               'soma.erate','axon.erate','dend.erate', 'syn.erate']\n",
    "    \n",
    "    if mode == 'hkl':\n",
    "        keepvar += ['ih.erate','ikl.erate'] # total ih and ikl erates\n",
    "\n",
    "    outs = [{key:[] for key in keepvar} for i in range(len(cells))]\n",
    "\n",
    "    while h.t < tstop:\n",
    "        h.fadvance() # \n",
    "        #isyn = np.sum([syn.i for syn in synapses])\n",
    "        \n",
    "        erates = map((lambda x: instant_erates(x, mode=mode, atwla=atwla)),cells)\n",
    "        \n",
    "        for cell, o, erate in zip(cells, outs, erates):\n",
    "            o['t'].append(h.t)\n",
    "            o['axon.v'].append(cell.ax_init.v)\n",
    "            o['soma.v'].append(cell.soma.v)\n",
    "            o['axon.erate'].append(erate[0]) # mouj_Erate2 generates a list [acc] (mode=None) or [acc, acch, acckl] (mode='hkl')\n",
    "            o['soma.erate'].append(erate[1])\n",
    "            o['dend.erate'].append(erate[2])\n",
    "            o['syn.erate'].append(erate[3])\n",
    "            if mode == 'hkl':\n",
    "                o['ih.erate'].append(erate[4])\n",
    "                o['ikl.erate'].append(erate[5])\n",
    "        sys.stderr.write('\\r model time: %0.5f ms '%h.t)\n",
    "    sys.stderr.write('\\r                                         \\r\\n')\n",
    "\n",
    "    return [{key:np.array(vec) for key,vec in out.items()} for out in outs]\n",
    "\n",
    "def go(cells,mode=None,tstop=400, atwla=False):\n",
    "    initialize()\n",
    "    return integrate_collecting_energy(cells, mode=mode,tstop=tstop, atwla=atwla)\n",
    "    \n",
    "def plot_traj(traj):\n",
    "    f, axs = subplots(2,1,sharex=True, figsize=(14,9),)\n",
    "    #axs = [axs]\n",
    "    axs[0].plot(traj['t'], traj['axon.v'],'r-',lw=0.5,label='axon.v')\n",
    "    axs[0].plot(traj['t'], traj['soma.v'],'b-',label='soma.v')\n",
    "    axs[0].legend()\n",
    "    \n",
    "    axs[1].plot(traj['t'], traj['soma.erate'], '-', label='soma.erate')\n",
    "    axs[1].plot(traj['t'], traj['dend.erate'], '-', label='dend.erate')\n",
    "    axs[1].plot(traj['t'], traj['axon.erate'], '-', label='axon.erate')\n",
    "    axs[1].plot(traj['t'], traj['syn.erate'], '-', color='orange', label='syn.erate')\n",
    "    axs[1].legend()"
   ]
  },
  {
   "cell_type": "markdown",
   "metadata": {},
   "source": [
    "### Integration"
   ]
  },
  {
   "cell_type": "code",
   "execution_count": 9,
   "metadata": {},
   "outputs": [],
   "source": [
    "def integrate_fixed_window(data,timeival):\n",
    "    \"\"\"\n",
    "        Integrate the energy traj with a fixed time window using the scipy.integrate.trapz.\n",
    "        \n",
    "        `data` is the output of the 'go' or 'integrate_collecting_energy' funcs.\n",
    "        `interval` -- list of integration interval (ms)\n",
    "    \"\"\"\n",
    "    \n",
    "    indxival = map(lambda x: find_nearest(data['t'],x), timeival) # extract from the 't' traj indexes corresponding \n",
    "                                                                   # to the values in the indexes of the `interval`\n",
    "\n",
    "    Esyn = trapz(y=data['syn.erate'][indxival[0]:indxival[1]], x=data['t'][indxival[0]:indxival[1]])*1e-3 # ms -> s => pJ\n",
    "    Ednd = trapz(y=data['dend.erate'][indxival[0]:indxival[1]],x=data['t'][indxival[0]:indxival[1]])*1e-3 \n",
    "    Eaxn = trapz(y=data['axon.erate'][indxival[0]:indxival[1]],x=data['t'][indxival[0]:indxival[1]])*1e-3 \n",
    "    Esma = trapz(y=data['soma.erate'][indxival[0]:indxival[1]],x=data['t'][indxival[0]:indxival[1]])*1e-3 \n",
    "    \n",
    "    Ekl  = trapz(y=data['ikl.erate'][indxival[0]:indxival[1]],x=data['t'][indxival[0]:indxival[1]])*1e-3 \n",
    "    Eh   = trapz(y=data['ih.erate'][indxival[0]:indxival[1]],x=data['t'][indxival[0]:indxival[1]])*1e-3 \n",
    "    \n",
    "    Etot = Esyn+Ednd+Esma+Eaxn\n",
    "#     print 'Note, you calculate energy during %.2f ms'%(timeival[1]-timeival[0])\n",
    "    acc = {'total.erate':Etot,'soma.erate':Esma,'axon.erate':Eaxn,\n",
    "           'dend.erate':Ednd,'syn.erate':Esyn,'ikl.erate':Ekl,'ih.erate':Eh}\n",
    "    for key,val in acc.items():\n",
    "        acc[key] = J2atp(val)*6.022*(1e11)\n",
    "    return acc\n",
    "\n",
    "def integrate_only_spike(yarr, xarr, x_boarders,frac=0.05,see='no'):\n",
    "    '''\n",
    "        In the interval given by `x_boarders` determine the `actual boarders`\n",
    "        to integrate between. A criterion is set by `frac`:\n",
    "        Actual boarders are the `yarr` indices where yarr ~= frac*yarr.max()\n",
    "    '''\n",
    "    x0=x_boarders[0]\n",
    "    x1=x_boarders[1]\n",
    "    idxb0 = map(lambda x: find_nearest(xarr,x), [x0,x1])\n",
    "\n",
    "    # Cut curve from left and right. Make yarrn for `actual boarders` determine\n",
    "    yarrn = yarr[idxb0[0]:idxb0[1]]\n",
    "    tail = len(yarr[:idxb0[0]]) # how much is cut from the left. \n",
    "    \n",
    "    Xma = argmax(yarrn)\n",
    "    th =  frac\n",
    "    bsl = min(yarrn)\n",
    "    \n",
    "    if Xma < 0.1:\n",
    "        Xma = argmin(yarrn)\n",
    "        th = 1-frac\n",
    "        bsl = max(yarrn)\n",
    "\n",
    "    Xleft = find_nearest(yarrn[:Xma], th) + tail # left lim\n",
    "    Xright = find_nearest(yarrn[Xma:], th) + len(yarrn[:Xma]) + tail # right lim\n",
    "#     print Xleft, Xright\n",
    "    # Calc yarr integral\n",
    "    I0 = trapz(y=yarr[idxb0[0]:idxb0[1]]-bsl, x=xarr[idxb0[0]:idxb0[1]]) # within given boarders\n",
    "    I_spike = trapz(y=yarr[Xleft:Xright]-bsl, x=xarr[Xleft:Xright]) # within ``actual boarders``\n",
    "    \n",
    "    if see == 'yes':\n",
    "        xarray = xarr[idxb0[0]:idxb0[1]]\n",
    "        figure()\n",
    "        plot(xarray,yarr[idxb0[0]:idxb0[1]],label='Init Data')\n",
    "#         plot(xarray,yarrn,'b',label='Init Data, normalized')\n",
    "#         plot(xarray,ratios,'k--',label='Integral ratio')\n",
    "#         plot(xarray[:-1], D1,label='Derivative of ratio')\n",
    "\n",
    "        axvline(xarray[Xma],color='gray',label='Maxima')\n",
    "        axvline(xarray[Xleft],color='m',label='Left')\n",
    "        axvline(xarray[Xright], color='g',label='Right')\n",
    "        legend(loc=6)\n",
    "        show()\n",
    "    \n",
    "    return I_spike, I0#, Xleft+tail, Xright+tail # these are integration coordinates of init yarr\n",
    "    \n",
    "\n",
    "def integrate_all(data, x_boarders, frac=0.05, see='no',rep=0,mode=0):\n",
    "    \"\"\"\n",
    "    `rep` == 1 => result is printed, `rep`==0 => not printed\n",
    "    mode = 0 => integration within `actual boarderss`\n",
    "    mode = 1 => integration within x_boarders\n",
    "    \"\"\"\n",
    "    Erates = dict()\n",
    "    x = data['t']\n",
    "    for k in data.keys():\n",
    "        if k[-4:] == 'rate': # collect only '.erates'\n",
    "            y = data[k]\n",
    "            I = array(integrate_only_spike(y, x, x_boarders=x_boarders, frac=frac, see=see))*1e-3 # ms->s => pJ\n",
    "#             print I\n",
    "            I = J2atp(I)*6.022*1e11 # pJ -> ATPs\n",
    "            if rep == 1:\n",
    "                print k, 'is %.2e ATPs/Excitement'%I[0]\n",
    "                print '             %.2e ATPs/Excitement -- without cutting, as in Etotal func'%I[1] + '\\n-----'\n",
    "            Erates.update({k:I[mode]}) # I[0] - with 'actual boarders', I[1] - with 'x_boarders' (see integrate_only_spikes func)\n",
    "            \n",
    "    SumEnergy = sum(Erates.values()) - sum([Erates['ih.erate'],Erates['ikl.erate']])\n",
    "    Erates.update({'total.erate':SumEnergy})\n",
    "    \n",
    "    return Erates"
   ]
  },
  {
   "cell_type": "code",
   "execution_count": 10,
   "metadata": {},
   "outputs": [],
   "source": [
    "# Calc AP_number/npulses under different Nsyns\n",
    "\n",
    "##### ***To be put into OC Class***\n",
    "\n",
    "def count_synapses(Nsynv, gsyn=1.0, rate=256., npulses=25.,tonotopy='ordered',\n",
    "                   meth=0, delay_func=None,\n",
    "                   dnm=[0,1,2,3], full_delay = 0.3):\n",
    "    \"\"\"\n",
    "    Setting ``meth``=0 make synapses with ``add_synapses`` function.\n",
    "    Set ``meth=1`` -- with ``add_several_syn`` (see OctopusCell class).\n",
    "    \"\"\"\n",
    "    acc = []\n",
    "    oca = OctopusCell(ax_init_L = 5., ax_passive_L = 35) # Create a single cell. Then rewrite oc.synapses\n",
    "    for Nsyn in Nsynv:\n",
    "        if meth == 0:\n",
    "            oca.add_synapses(Nsyn=Nsyn, gsyn=gsyn, aud_rate=rate,\n",
    "                            tonotopy=tonotopy, full_delay = full_delay)\n",
    "        elif meth == 1:\n",
    "            if delay_func == None:\n",
    "                print \"Ooops... You should specify the ``delay_func`` while using meth = 1\"\n",
    "#                 break\n",
    "            oca.add_several_syn(locs=linspace(0,1,Nsyn), gsyn=gsyn,\n",
    "                               afibp=dict(aud_rate=rate,\n",
    "                                          aud_start=100,\n",
    "                                          aud_npulses=npulses,\n",
    "                                          aud_jitter=0.0),\n",
    "                               dnm=dnm, delay_func=delay_func)\n",
    "        apc = h.APCount(oca.ax_init(0.5))\n",
    "        apc.thresh=-20\n",
    "        h.tstop = 500\n",
    "        h.v_init = -60.0\n",
    "        h.run()\n",
    "        sys.stderr.write('\\r%d synapses, spike ratio: %0.2f'%(Nsyn, apc.n/npulses))\n",
    "        acc.append([Nsyn, apc.n/npulses])  \n",
    "        del apc\n",
    "    oca.delete()\n",
    "    del oca\n",
    "    return acc  \n",
    "\n",
    "# # vary pulse_rate and \n",
    "# def count_synapses_hz(Nsyn, gsyn=1.0, Ratev, npulses=25., tonotopy='ordered'):###\n",
    "#     acc = []\n",
    "#     for rate in Ratev:\n",
    "#         oc = OctopusCell(ax_init_L = 5., ax_passive_L = 35)\n",
    "#         oc.add_synapses(Nsyn=Nsyn, gsyn=gsyn, aud_rate=rate, tonotopy=tonotopy)\n",
    "#         apc = h.APCount(oc.ax_init(0.5), )\n",
    "#         apc.thresh=-20\n",
    "#         h.tstop = 500\n",
    "#         h.v_init = -60.0\n",
    "#         h.run()\n",
    "#         sys.stderr.write('\\r%d Hz pulse_rate, spike ratio: %0.2f'%(rate, apc.n/npulses))\n",
    "#         acc.append([Nsyn, rate, apc.n/npulses]) \n",
    "#         oc.delete()\n",
    "#         del oc, apc    \n",
    "#     return acc\n",
    "\n",
    "def syn_rate_spase(Nsynv, Ratev):\n",
    "    acc = []\n",
    "    for rate in Ratev:\n",
    "        acc.append([rate]+[i for i in count_synapses(Nsynv, rate=rate)])\n",
    "    return acc # returns [None, None]..."
   ]
  },
  {
   "cell_type": "markdown",
   "metadata": {},
   "source": [
    "# Сколько стоит каждый ПД в серии? Как зависит от чатоты? (Практика) 04.10.17"
   ]
  },
  {
   "cell_type": "code",
   "execution_count": 11,
   "metadata": {},
   "outputs": [],
   "source": [
    "def rec_APsE(cell,n=5,interval=30,noise=0.0,tstop = None):\n",
    "    cell.afib.number = n\n",
    "    cell.afib.noise = noise\n",
    "    cell.afib.interval = interval\n",
    "    \n",
    "    DataEax = []\n",
    "    h.t=0\n",
    "    initialize()\n",
    "    if tstop == None:\n",
    "        tstop = n*interval + 50\n",
    "\n",
    "    while h.t < tstop:\n",
    "        h.fadvance()\n",
    "        E_lstax = mouj_Erate2(oc.ax_init(.5))\n",
    "        E_lstax.append(h.t)\n",
    "        DataEax.append(E_lstax)\n",
    "    return array(DataEax).T\n",
    "\n",
    "def individual_AP_E(cell, rec_APE, interval, col, showw=0,see='no'):\n",
    "    n = cell.afib.number\n",
    "    Data = dict()\n",
    "    Ii = []\n",
    "    for j in range(len(rec_APE[:-1])): # through segments' moujerate len ~ 1e3. The [-1] item is time array\n",
    "        I=[]\n",
    "#         vec = rec_APE[j] # single seg moujerate of time vec\n",
    "        vec = rec_APE[j]\n",
    "#         plot(rec_APE[-1],vec)\n",
    "#         xlim(0,50)\n",
    "        c = 0\n",
    "        for i in argrelmax(vec,order=100)[0]:\n",
    "            if vec[i] > 280.0:\n",
    "                c+=1\n",
    "#                 axvline(rec_APE[-1][i],color='k',alpha=0.5)\n",
    "                x_l=rec_APE[-1][i]-1.\n",
    "                x_r=rec_APE[-1][i]+1.\n",
    "                I.append(integrate_only_spike(vec, rec_APE[-1], x_boarders=[x_l,x_r],see=see)[0]) # [energies of all APs in series]\n",
    "        Ii.append(I)\n",
    "        print c\n",
    "        \n",
    "    idx_to_pop = []\n",
    "    for i in range(len(Ii)):\n",
    "        c=0\n",
    "        if sum(Ii[i]) == 0:\n",
    "            idx_to_pop.append(i)\n",
    "            print 'Popped one!'\n",
    "        if len(Ii[i]) < n:\n",
    "            c+=1\n",
    "            for k in range(int(n-len(Ii[i]))): \n",
    "                Ii[i].append(0.)\n",
    "    for i in idx_to_pop:\n",
    "        Ii.pop(i)\n",
    "    \n",
    "#         print \"Hey, There is %d wasted APs! interval=%d\"%(c,interval)\n",
    "    Ii = array(Ii)\n",
    "    Data['interval_'+str(interval)] = Ii\n",
    "#     if showw == 1:\n",
    "#         plot(range(len(Ii[0])),sum(Ii,axis=0), col+'-', alpha=0.3, label = 'itl= '+str(interval))\n",
    "#         legend()\n",
    "    return Data"
   ]
  },
  {
   "cell_type": "markdown",
   "metadata": {},
   "source": [
    "# Single spike integration instruments"
   ]
  },
  {
   "cell_type": "code",
   "execution_count": 12,
   "metadata": {},
   "outputs": [],
   "source": [
    "def cut_array(vec, tvec, lims):\n",
    "    \"\"\"\n",
    "        First, cut a spike from the `vec` using the 'rough' `lims`.\n",
    "        vec -- energy traj vector; tvec -- corresponding time vector; lims -- list of lims (indexes)\n",
    "        \n",
    "        Returns: tuple containing cut vec (array), cut tvec (array), and length (float) of the cut 'tail' of the vec\n",
    "    \"\"\"\n",
    "    vec_cut = vec[lims[0]:lims[1]]\n",
    "    t_vec_cut = tvec[lims[0]:lims[1]]\n",
    "    tail = len(vec[:lims[0]])\n",
    "    \n",
    "    return (vec_cut, t_vec_cut, tail)\n",
    "\n",
    "def find_boarders(vvec, tvec, thresh, t_peak):\n",
    "    \"\"\"\n",
    "        'cut_array' func ---->\n",
    "        \n",
    "        Next, determine integration limits 'more precisely', using thresholding:\n",
    "        \n",
    "            \"vvec == thresh.\"\n",
    "            \n",
    "        vvec, tvec -- output of the 'cut_array' func\n",
    "        t_peak -- time point of the spike peak (ms)\n",
    "        \n",
    "        Returns: tuple of floats (ms)\n",
    "    \"\"\"\n",
    "    x_0 = tvec[(vvec<thresh)*(tvec<t_peak)][-1]\n",
    "    x_1 = tvec[(vvec<thresh)*(tvec>t_peak)][0]\n",
    "    return (x_0,x_1)\n",
    "\n",
    "def finall_idxs(vvec, tvec, t_peak, Shifts, scale=0.1,fixedthresh = None):\n",
    "    \n",
    "    hlp = (lambda t__: find_nearest(tvec, t__)) # index of the tvec array corresponding to the desired times\n",
    "    idxs = [hlp(t_peak + shift) for shift in Shifts] # Rough indexes\n",
    "    \n",
    "    \n",
    "    vvec_cut, tvec_cut, tail = cut_array(vvec,tvec,idxs)\n",
    "    bsl = max([vvec_cut[0],vvec_cut[-1]])\n",
    "    \n",
    "    if fixedthresh == None:\n",
    "        spike_amp = (max(vvec_cut) - min(vvec_cut))\n",
    "        thresh = spike_amp*scale + bsl\n",
    "    else:\n",
    "        thresh = fixedthresh\n",
    "    times = find_boarders(vvec_cut, tvec_cut, thresh, t_peak) \n",
    "    idxs = map(hlp, times) # exact indexes in initial t_vec\n",
    "    \n",
    "    return (idxs, times, thresh, bsl)\n",
    "\n",
    "\n",
    "def Integrate_spikes_and_ISIs_v2(vvec,tvec,peak_times,\n",
    "                                 Shifts = [-1.0,+2.0],\n",
    "                                 tskip=500.0,scale=0.1,see_times=0,fixedthresh=None):\n",
    "    \n",
    "    \"\"\"\n",
    "        Find spikes boarders according to `scale` (thresh = [Spike Amp - Baseline]*scale + Baseline),\n",
    "        integrate between them => Spike intgral. Integrate between n-th and (n+1)-th boarders to get\n",
    "        ISI-integral.\n",
    "        \n",
    "        used eFEL software to find psike_times\n",
    "        \n",
    "        Returns: pandas.DataFrame with peak_times, boarders times, Spike and ISI widths,\n",
    "                                      thresholds, Spike and ISI integrals\n",
    "                                      UNITS: `ATPs`\n",
    "    \"\"\"\n",
    "    \n",
    "    Spike_integrals = []\n",
    "    ISI_integrals = []\n",
    "    Spikes = []\n",
    "\n",
    "#     hlp = lambda t__: find_nearest(tvec, t__) # index of the tvec array corresponding to the desired times\n",
    "\n",
    "    for i in range(len(peak_times)): \n",
    "        t_ = peak_times[i]           # over AP peak times\n",
    "        \n",
    "        if t_ > tskip:               # skip a time period of model `equalibration`\n",
    "            if see_times == 1:\n",
    "                print t_\n",
    "\n",
    "            idxs, times, thresh, bsl = finall_idxs(vvec, tvec, t_, Shifts, scale, fixedthresh)\n",
    "#             print bsl\n",
    "            \n",
    "            if len(Spikes) > 0: # calculate ISI integrals after the first Spike precessed\n",
    "                Spikes[-1].append(times[0]-time_prev) # ISI width, ms\n",
    "                Spikes[-1].append(pJ2molecules(trapz(vvec[idxs_prev[1]:idxs[0]], tvec[idxs_prev[1]:idxs[0]])/1e3))\n",
    "                \n",
    "            Spikes.append([t_, times[0], times[1], thresh, diff(times)[0],\n",
    "                           pJ2molecules(trapz(vvec[idxs[0]:idxs[1]], tvec[idxs[0]:idxs[1]])/1e3)]) # SPIKE\n",
    "\n",
    "            idxs_prev = idxs # remember right boarder of a spike for ISI calc at the next iteration\n",
    "            time_prev = times[1]\n",
    "            \n",
    "    Spikes = pandas.DataFrame(array(Spikes[:-1]).T,\n",
    "                              index=['t_peak','t_0','t_1','threshold','Spike_width',\n",
    "                                     'Spike_integral','ISI_width','ISI_integral']).T\n",
    "    return Spikes\n",
    "\n",
    "def prepare_data(vec_t,vec_v,start=500,stop=1500):\n",
    "    \"\"\"\n",
    "        In addition to efel: prepare input to efel\n",
    "        Returns; dict\n",
    "    \"\"\"\n",
    "    trace1 = {}\n",
    "\n",
    "    # Set the 'T' (=time) key of the trace\n",
    "    trace1['T'] = vec_t#data[:,0]\n",
    "\n",
    "    # Set the 'V' (=voltage) key of the trace\n",
    "    trace1['V'] = vec_v#data[:,1]\n",
    "\n",
    "    # Set the 'stim_start' (time at which a stimulus starts, in ms)\n",
    "    # key of the trace\n",
    "    # Warning: this need to be a list (with one element)\n",
    "    trace1['stim_start'] = [start]\n",
    "\n",
    "    # Set the 'stim_end' (time at which a stimulus end) key of the trace\n",
    "    # Warning: this need to be a list (with one element)\n",
    "    trace1['stim_end'] = [stop]\n",
    "\n",
    "    # Multiple traces can be passed to the eFEL at the same time, so the\n",
    "    # argument should be a list\n",
    "    return trace1\n",
    "\n",
    "def IntegrateSpikesFinal(data,SSP,t_start=100,t_stop=230,plott=0):\n",
    "    \n",
    "    \"\"\" SSP = SpikeSEarchParams -- determines which keys to use to choose `vec` from the data.\n",
    "        t_start & t_stop -- where spikes start and stop.\n",
    "    \"\"\"\n",
    "    Collect = [] # list over trials\n",
    "    for data_ in data: # loop over trials\n",
    "        tvec = data_['t']\n",
    "        acc = {}\n",
    "        for k,v in SSP.items():\n",
    "            vec = data_[k+'.erate']\n",
    "\n",
    "            # set efel threshold for spike peak detection\n",
    "            efel.setThreshold(v['efelTh'])\n",
    "\n",
    "            # find peaks\n",
    "            trace = prepare_data(tvec, vec,start=t_start,stop=t_stop) # prepare data to feed eFEL\n",
    "            Features = efel.getFeatureValues([trace],['peak_time']) # get peak times from fed eFEL\n",
    "                                        # TODO: make traece to have maxima instead of minima.\n",
    "\n",
    "            # Integrate spikes\n",
    "            Integrals = Integrate_spikes_and_ISIs_v2(vec, tvec, Features[0]['peak_time'],\n",
    "                                                     Shifts=v['Shifts'], tskip=10,scale=v['scale'],\n",
    "                                                     fixedthresh=v['fixedthresh'])\n",
    "\n",
    "            if plott == 1:\n",
    "                plotThreshWdthIntgl(tvec,vec,Integrals,compartmentnm=k)\n",
    "#                 savefig('Check_integration_thresholding_%s.pdf'%k)\n",
    "                \n",
    "\n",
    "            acc[k] = Integrals\n",
    "        Collect.append(acc)\n",
    "    return Collect\n",
    "\n",
    "def plotThreshWdthIntgl(etvec,evec,Integrals,compartmentnm):\n",
    "    \"\"\"\n",
    "        Visualise calculated spike integrals, thresholds, etc.\n",
    "        \n",
    "        \"\"\"\n",
    "    f,ax = subplots(1,4,figsize=(12,2.5))\n",
    "    \n",
    "    suptitle(compartmentnm,fontsize=25)\n",
    "    things_to_plot = ['threshold','Spike_width','Spike_integral']\n",
    "    tvec = Integrals['t_peak']\n",
    "    for i in range(len(things_to_plot)):\n",
    "        key = things_to_plot[i]\n",
    "        vec = Integrals[key]\n",
    "\n",
    "        ax[i].plot(tvec,vec,'o',color=['b','g','r','m'][i])\n",
    "        ax[i].set_title(key,fontsize=12)\n",
    "        \n",
    "    ax[3].plot(etvec,evec)\n",
    "    ax[3].set_title('Energy trace')\n",
    "    ax[3].plot(Integrals['t_peak'],Integrals['threshold'],'bo')\n",
    "    ax[3].set_xlim(90,200)\n",
    "    tight_layout()"
   ]
  },
  {
   "cell_type": "markdown",
   "metadata": {},
   "source": [
    "# Determine 'critical' numbers of synapses with ordered and random synapses"
   ]
  },
  {
   "cell_type": "code",
   "execution_count": 64,
   "metadata": {
    "scrolled": true
   },
   "outputs": [
    {
     "name": "stderr",
     "output_type": "stream",
     "text": [
      "255 synapses, spike ratio: 1.00"
     ]
    },
    {
     "name": "stdout",
     "output_type": "stream",
     "text": [
      "CPU times: user 8min 36s, sys: 1.85 s, total: 8min 38s\n",
      "Wall time: 8min 48s\n"
     ]
    },
    {
     "name": "stderr",
     "output_type": "stream",
     "text": [
      "\r",
      "260 synapses, spike ratio: 1.00"
     ]
    }
   ],
   "source": [
    "h.celsius = 33\n",
    "%time acc_l3 = [count_synapses(range(230,261,5),full_delay=0.3) for i in range(1)]\n",
    "acc_l33 = [array(acc_l3[i]).T for i in range(len(acc_l3))]"
   ]
  },
  {
   "cell_type": "code",
   "execution_count": 61,
   "metadata": {},
   "outputs": [
    {
     "name": "stderr",
     "output_type": "stream",
     "text": [
      "260 synapses, spike ratio: 1.00"
     ]
    }
   ],
   "source": [
    "h.celsius = 37\n",
    "acc_l3 = [count_synapses(range(230,261,5),full_delay=0.3)]\n",
    "acc_l37 = [array(acc_l3[i]).T for i in range(len(acc_l3))]"
   ]
  },
  {
   "cell_type": "code",
   "execution_count": 62,
   "metadata": {},
   "outputs": [],
   "source": [
    "svdat('Count_syn_ordered_37.txt', acc_l37)"
   ]
  },
  {
   "cell_type": "code",
   "execution_count": 71,
   "metadata": {},
   "outputs": [
    {
     "data": {
      "text/plain": [
       "<matplotlib.legend.Legend at 0x1c1d64f410>"
      ]
     },
     "execution_count": 71,
     "metadata": {},
     "output_type": "execute_result"
    },
    {
     "data": {
      "image/png": "[encoded data removed]",
      "text/plain": [
       "<Figure size 432x288 with 1 Axes>"
      ]
     },
     "metadata": {
      "needs_background": "light"
     },
     "output_type": "display_data"
    }
   ],
   "source": [
    "plot(b37[0],b37[1], label='T37')\n",
    "plot(acc_l33[0][0],acc_l33[0][1], label='T33')\n",
    "xlabel('Number of synapses')\n",
    "ylabel('N$_{APs}$:N$_{sweeps}$')\n",
    "legend()"
   ]
  },
  {
   "cell_type": "markdown",
   "metadata": {},
   "source": [
    "-----"
   ]
  },
  {
   "cell_type": "code",
   "execution_count": 16,
   "metadata": {
    "scrolled": true
   },
   "outputs": [
    {
     "name": "stderr",
     "output_type": "stream",
     "text": [
      "300 synapses, spike ratio: 1.00"
     ]
    },
    {
     "name": "stdout",
     "output_type": "stream",
     "text": [
      "CPU times: user 5h 46min 56s, sys: 19.2 s, total: 5h 47min 15s\n",
      "Wall time: 11h 9min 36s\n"
     ]
    },
    {
     "name": "stderr",
     "output_type": "stream",
     "text": [
      "\r",
      "310 synapses, spike ratio: 1.00\r",
      "320 synapses, spike ratio: 1.00"
     ]
    }
   ],
   "source": [
    "N_trials = 32\n",
    "%time acc_r1 = [count_synapses(range(240,321,10),tonotopy='random') for i in range(N_trials)]\n",
    "nsynsr,countsr = mean(acc_r1,axis=0).T\n",
    "acc_r1 = [array(acc_r1[i]).T for i in range(N_trials - 1)]"
   ]
  },
  {
   "cell_type": "code",
   "execution_count": 43,
   "metadata": {
    "collapsed": true
   },
   "outputs": [],
   "source": [
    "nsynsr=acc_r1[0][0]\n",
    "countsr_std=std(acc_r1,axis=0)[1]"
   ]
  },
  {
   "cell_type": "code",
   "execution_count": 337,
   "metadata": {
    "collapsed": true
   },
   "outputs": [],
   "source": [
    "nsynsl3,countsl3 = array(acc_l3)[0].T"
   ]
  },
  {
   "cell_type": "code",
   "execution_count": 17,
   "metadata": {},
   "outputs": [],
   "source": [
    "# Save random data\n",
    "def svdat(fname,data):\n",
    "    with open(fname,'w') as f:\n",
    "        s = str()\n",
    "        for i in data[0][0]:\n",
    "            s+=str(i)+'\\t'\n",
    "        f.write(s + \"\\n\")\n",
    "        for vec in data:\n",
    "            s=str()\n",
    "            for i in vec[1]:\n",
    "                s+=str(i)+'\\t'\n",
    "            f.write(s + \"\\n\")\n",
    "        f.close()\n"
   ]
  },
  {
   "cell_type": "code",
   "execution_count": 43,
   "metadata": {},
   "outputs": [],
   "source": [
    "# svdat('Count_syn_random_37.txt', acc_r1) # T=37\n",
    "for fn, dat in zip(['Count_syn_ordered.txt','Count_syn_random.txt'],[acc_l33,acc_r1]):\n",
    "    svdat(fn,dat)"
   ]
  },
  {
   "cell_type": "code",
   "execution_count": 45,
   "metadata": {},
   "outputs": [],
   "source": [
    "a=loadtxt('Count_syn_random.txt') \n",
    "a37=loadtxt('Count_syn_random_37.txt')\n",
    "\n",
    "b=loadtxt('Count_syn_ordered.txt')\n",
    "b37 = loadtxt('Count_syn_ordered_37.txt')"
   ]
  },
  {
   "cell_type": "code",
   "execution_count": 50,
   "metadata": {},
   "outputs": [],
   "source": [
    "# random synapses T=33\n",
    "nsynsr = a[0]\n",
    "countsr = mean(a[1:],axis=0)\n",
    "countsr_std =std(a[1:],axis=0)\n",
    "\n",
    "# T=37\n",
    "countsr37 = mean(a37[1:],axis=0)\n",
    "countsr37_std =std(a37[1:],axis=0)\n",
    "\n",
    "# ordered synapses, T=33\n",
    "nsynsl = b[0]\n",
    "countsl = mean(b[1:],axis=0)"
   ]
  },
  {
   "cell_type": "code",
   "execution_count": 6,
   "metadata": {},
   "outputs": [],
   "source": [
    "style.use('ggplot')"
   ]
  },
  {
   "cell_type": "code",
   "execution_count": 79,
   "metadata": {},
   "outputs": [],
   "source": [
    "path = '/Users/lampochka/Desktop/NerSci/Articles_my/1-Octopus_cells-Energy/Trials/2 - JTheoBiol'"
   ]
  },
  {
   "cell_type": "code",
   "execution_count": 81,
   "metadata": {
    "scrolled": false
   },
   "outputs": [
    {
     "data": {
      "image/png": "[encoded data removed]",
      "text/plain": [
       "<Figure size 576x432 with 1 Axes>"
      ]
     },
     "metadata": {
      "needs_background": "light"
     },
     "output_type": "display_data"
    }
   ],
   "source": [
    "f,ax = subplots(figsize=(8,6))\n",
    "# Temperature 33 degC\n",
    "ax.plot(nsynsl,countsl, 'ks--',markersize=6, linewidth=2, label='Ordered, T=33',alpha=1.0)\n",
    "for i in range(31):\n",
    "    ax.plot(a[0], a[i+1], 'k-',markersize=6,linewidth=2, color='gray', alpha=0.05)\n",
    "ax.errorbar(nsynsr,countsr,yerr=countsr_std,fmt='ok-', alpha=1.,lw=2, capsize=5, label='Random (n=32), T=33')\n",
    "\n",
    "# Temperature 37 degC\n",
    "ax.plot(b37[0],b37[1], 'rs--',markersize=6, linewidth=2, label='Ordered, T=37',alpha=1.0)\n",
    "for i in range(31):\n",
    "    ax.plot(a37[0], a37[i+1], 'r-',markersize=6,linewidth=2, alpha=0.05)\n",
    "ax.errorbar(nsynsr+1,countsr37,yerr=countsr37_std,fmt='or-', alpha=1.,lw=2, capsize=5, label='Random (n=32), T=37')    \n",
    "\n",
    "ax.set_xlim(218,325)\n",
    "ax.legend(loc='lower right', fontsize=10)\n",
    "ax.set_xlabel('Number of 1-nS synapses', fontsize=25)\n",
    "ax.set_ylabel('N$_{AP}$:N$_{pulse}$',fontsize=25)\n",
    "# ax.set_ylim(-0.05,1.05)\n",
    "ax.tick_params(labelsize=15)\n",
    "# savefig(path+'/Random-Ordered-Temperature.svg') "
   ]
  },
  {
   "cell_type": "markdown",
   "metadata": {},
   "source": [
    "# Record energy use in compartments"
   ]
  },
  {
   "cell_type": "code",
   "execution_count": 13,
   "metadata": {},
   "outputs": [],
   "source": [
    "h.celsius = 37"
   ]
  },
  {
   "cell_type": "code",
   "execution_count": 14,
   "metadata": {
    "scrolled": false
   },
   "outputs": [
    {
     "name": "stderr",
     "output_type": "stream",
     "text": [
      "                                         \n",
      "                                         \n",
      "                                         \n",
      "                                         \n",
      " model time: 240.00000 ms "
     ]
    },
    {
     "name": "stdout",
     "output_type": "stream",
     "text": [
      "CPU times: user 2h 6min 50s, sys: 17min 41s, total: 2h 24min 32s\n",
      "Wall time: 2h 12min 8s\n"
     ]
    },
    {
     "name": "stderr",
     "output_type": "stream",
     "text": [
      "\r",
      " model time: 240.00500 ms \r",
      "                                         \r\n"
     ]
    }
   ],
   "source": [
    "%%time\n",
    "\n",
    "Ntrials = 5\n",
    "data_r = []\n",
    "rate = 256.\n",
    "for i in range(Ntrials):\n",
    "    oc = OctopusCell()\n",
    "    oc.add_synapses(tonotopy='random',gsyn=1.0, Nsyn=300, aud_rate=rate,)\n",
    "    data_r.append(go([oc], mode='hkl',tstop=240,atwla=True)[0])\n",
    "    oc.delete()\n",
    "    del oc"
   ]
  },
  {
   "cell_type": "code",
   "execution_count": 15,
   "metadata": {},
   "outputs": [],
   "source": [
    "with open('Ordered_vs_random/Traces_randomsyn_AL_37_1.pkl','wb') as f:\n",
    "    pickle.dump(data_r,f,2)"
   ]
  },
  {
   "cell_type": "code",
   "execution_count": 166,
   "metadata": {
    "scrolled": false
   },
   "outputs": [
    {
     "name": "stderr",
     "output_type": "stream",
     "text": [
      " model time: 229.98500 ms "
     ]
    },
    {
     "name": "stdout",
     "output_type": "stream",
     "text": [
      "CPU times: user 24min 48s, sys: 3min 43s, total: 28min 32s\n",
      "Wall time: 25min 42s\n"
     ]
    },
    {
     "name": "stderr",
     "output_type": "stream",
     "text": [
      "\r",
      " model time: 229.99000 ms \r",
      " model time: 229.99500 ms \r",
      " model time: 230.00000 ms \r",
      " model time: 230.00500 ms \r",
      "                                         \r\n"
     ]
    }
   ],
   "source": [
    "%%time\n",
    "# Ordered\n",
    "rate = 256.\n",
    "oc1 = OctopusCell()\n",
    "oc1.add_synapses(tonotopy='ordered',gsyn=1.0, Nsyn=250, aud_rate=rate)\n",
    "data_o_al33 = go([oc1],mode='hkl',tstop=230, atwla=True)\n",
    "oc1.delete()\n",
    "del oc1"
   ]
  },
  {
   "cell_type": "code",
   "execution_count": 17,
   "metadata": {},
   "outputs": [
    {
     "name": "stdout",
     "output_type": "stream",
     "text": [
      "Traces_orderedsyn.pkl         Traces_randomsyn_37.pkl\r\n",
      "Traces_orderedsyn_37.pkl      Traces_randomsyn_AL_33_0.pkl\r\n",
      "Traces_orderedsyn_AL.pkl      Traces_randomsyn_AL_37_0.pkl\r\n",
      "Traces_orderedsyn_AL_37.pkl   Traces_randomsyn_AL_37_1.pkl\r\n",
      "Traces_randomsyn.pkl\r\n"
     ]
    }
   ],
   "source": [
    "ls Ordered_vs_random/"
   ]
  },
  {
   "cell_type": "code",
   "execution_count": 176,
   "metadata": {},
   "outputs": [],
   "source": [
    "with open('Ordered_vs_random/Traces_orderedsyn_AL.pkl','wb') as f:\n",
    "    pickle.dump(data_o_al33,f,2)"
   ]
  },
  {
   "cell_type": "code",
   "execution_count": null,
   "metadata": {
    "collapsed": true
   },
   "outputs": [],
   "source": [
    "# Save data\n",
    "# # !mkdir Ordered_vs_random\n",
    "# with open('Ordered_vs_random/Traces_orderedsyn.pkl','wb') as f:\n",
    "#     pickle.dump(data_o,f,2)\n",
    "\n",
    "# with open('Ordered_vs_random/Traces_randomsyn.pkl','wb') as f:\n",
    "#     pickle.dump(data_r,f,2)"
   ]
  },
  {
   "cell_type": "code",
   "execution_count": 2,
   "metadata": {},
   "outputs": [],
   "source": [
    "with open('Ordered_vs_random/Traces_orderedsyn.pkl','rb') as f:\n",
    "    data_o = pickle.load(f)\n",
    "with open('Ordered_vs_random/Traces_orderedsyn_37.pkl','rb') as f:\n",
    "    data_o37 = pickle.load(f)\n",
    "    \n",
    "with open('Ordered_vs_random/Traces_randomsyn.pkl','rb') as f:\n",
    "    data_r = pickle.load(f)\n",
    "with open('Ordered_vs_random/Traces_randomsyn_37.pkl','rb') as f:\n",
    "    data_r37 = pickle.load(f)"
   ]
  },
  {
   "cell_type": "code",
   "execution_count": 13,
   "metadata": {},
   "outputs": [],
   "source": [
    "with open('Ordered_vs_random/Traces_orderedsyn_AL.pkl', 'rb') as f:\n",
    "    dataAL_o = pickle.load(f)\n",
    "with open('Ordered_vs_random/Traces_randomsyn_AL_33_0.pkl', 'rb') as f:\n",
    "    dataAL_r = pickle.load(f)\n",
    "\n",
    "with open('Ordered_vs_random/Traces_orderedsyn_AL_37.pkl', 'rb') as f:\n",
    "    dataAL_o37 = pickle.load(f)\n",
    "with open('Ordered_vs_random/Traces_randomsyn_AL_37.pkl', 'rb') as f:\n",
    "    dataAL_r37 = pickle.load(f)"
   ]
  },
  {
   "cell_type": "markdown",
   "metadata": {},
   "source": [
    "------\n",
    "------\n",
    "AL-direct energy use before spikes initiated"
   ]
  },
  {
   "cell_type": "code",
   "execution_count": 23,
   "metadata": {},
   "outputs": [],
   "source": [
    "def get_totale(vec):\n",
    "    totale = array([v['axon.erate'] + v['soma.erate']+ v['dend.erate']+ v['syn.erate'] for v in vec])\n",
    "    return mean(totale, axis=0)"
   ]
  },
  {
   "cell_type": "code",
   "execution_count": 36,
   "metadata": {},
   "outputs": [],
   "source": [
    "def get_restinge(vec, tvec, tcut):\n",
    "    cut = find_nearest(tvec, 90.)\n",
    "    return vec[cut]"
   ]
  },
  {
   "cell_type": "code",
   "execution_count": 90,
   "metadata": {},
   "outputs": [
    {
     "name": "stdout",
     "output_type": "stream",
     "text": [
      "Total resting energy. AL-direct before spikes (ATPs/s)\n",
      "\n",
      "ordered:  \t 3.72e+09\n",
      "random:  \t 3.72e+09\n",
      "ord 37:  \t 3.67e+09\n",
      "rand 37:  \t 3.67e+09\n"
     ]
    }
   ],
   "source": [
    "print('Total resting energy. AL-direct before spikes (ATPs/s)\\n')\n",
    "for v, k in zip([dataAL_o, dataAL_r, dataAL_o37, dataAL_r37],['ordered', 'random', 'ord 37', 'rand 37']):\n",
    "    val = get_restinge(vec=get_totale(v),\n",
    "                tvec=dataAL_o[0]['t'],\n",
    "                tcut=90.)\n",
    "    print('%s:  \\t %.2e'%(k, val))"
   ]
  },
  {
   "cell_type": "markdown",
   "metadata": {},
   "source": [
    "-------\n",
    "Distribution between compartments"
   ]
  },
  {
   "cell_type": "code",
   "execution_count": 61,
   "metadata": {},
   "outputs": [
    {
     "name": "stdout",
     "output_type": "stream",
     "text": [
      "axon.erate: \t 3.89e+05\n",
      "soma.erate: \t 2.66e+09\n",
      "dend.erate: \t 1.06e+09\n",
      "syn.erate: \t 0.00e+00\n"
     ]
    }
   ],
   "source": [
    "for k in ['axon.erate', 'soma.erate', 'dend.erate', 'syn.erate']:\n",
    "    val = get_restinge(dataAL_o[0][k], tvec=dataAL_o[0]['t'], tcut=90)\n",
    "    print('%s: \\t %.2e'%(k, val))\n"
   ]
  },
  {
   "cell_type": "markdown",
   "metadata": {},
   "source": [
    "-------\n",
    "Single Spike energy and distribution\n",
    "\n",
    "1) Total spike energy"
   ]
  },
  {
   "cell_type": "code",
   "execution_count": 141,
   "metadata": {},
   "outputs": [
    {
     "data": {
      "text/plain": [
       "(100, 106)"
      ]
     },
     "execution_count": 141,
     "metadata": {},
     "output_type": "execute_result"
    },
    {
     "data": {
      "image/png": "[encoded data removed]",
      "text/plain": [
       "<Figure size 432x288 with 1 Axes>"
      ]
     },
     "metadata": {
      "needs_background": "light"
     },
     "output_type": "display_data"
    }
   ],
   "source": [
    "plot(dataAL_o[0]['t'], dataAL_o[0]['axon.erate'])\n",
    "xlim(100,106)"
   ]
  },
  {
   "cell_type": "markdown",
   "metadata": {},
   "source": [
    "Взять и вычесть покой за 4 мс"
   ]
  },
  {
   "cell_type": "code",
   "execution_count": 158,
   "metadata": {},
   "outputs": [
    {
     "name": "stdout",
     "output_type": "stream",
     "text": [
      "Average AP energy (ATPs/AP)\n",
      "\n",
      "ordered: \t 1.69e+07\n",
      "random: \t 1.96e+07\n",
      "ord 37: \t 1.55e+07\n",
      "rand 37: \t 1.81e+07\n"
     ]
    }
   ],
   "source": [
    "t0, t1 = find_nearest(dataAL_o[0]['t'], 100), find_nearest(dataAL_o[0]['t'], 150)\n",
    "Nspikes = 13\n",
    "\n",
    "print('Average AP energy (ATPs/AP)\\n')\n",
    "for v, k in zip([dataAL_o, dataAL_r, dataAL_o37, dataAL_r37],['ordered', 'random', 'ord 37', 'rand 37']):\n",
    "    vec = get_totale(v)[t0:t1]\n",
    "    tvec = dataAL_o[0]['t'][t0:t1]\n",
    "    Espike = trapz(vec, tvec)/1e3/Nspikes - 3.72e9*0.004 # rough spike energy estimate + correction for interspike 'resting' energy\n",
    "    print('%s: \\t %.2e'%(k, Espike))"
   ]
  },
  {
   "cell_type": "code",
   "execution_count": 159,
   "metadata": {},
   "outputs": [
    {
     "data": {
      "text/plain": [
       "1.7525"
      ]
     },
     "execution_count": 159,
     "metadata": {},
     "output_type": "execute_result"
    }
   ],
   "source": [
    "mean([1.69, 1.96, 1.55, 1.81])"
   ]
  },
  {
   "cell_type": "markdown",
   "metadata": {},
   "source": [
    "2) Distribution between compartments"
   ]
  },
  {
   "cell_type": "code",
   "execution_count": 102,
   "metadata": {},
   "outputs": [
    {
     "name": "stdout",
     "output_type": "stream",
     "text": [
      "Average AP energy (ATPs/AP)\n",
      "\n"
     ]
    }
   ],
   "source": [
    "t0, t1 = find_nearest(dataAL_o[0]['t'], 100), find_nearest(dataAL_o[0]['t'], 150)\n",
    "Nspikes = 13\n",
    "\n",
    "acc = {}\n",
    "\n",
    "print('Average AP energy (ATPs/AP)\\n')\n",
    "for v, k in zip([dataAL_o, dataAL_r, dataAL_o37, dataAL_r37],['ordered', 'random', 'ord 37', 'rand 37']):\n",
    "    acc[k] = {}\n",
    "#     print(k + '\\n--------')\n",
    "    for comp in ['axon.erate', 'soma.erate', 'dend.erate', 'syn.erate']:\n",
    "        vec = mean(array([v[i][comp][t0:t1] for i in range(len(v))]), \n",
    "                   axis=0) # averaging over trials in random recs\n",
    "        \n",
    "        tvec = dataAL_o[0]['t'][t0:t1]\n",
    "        Espike = trapz(vec, tvec)/1e3/Nspikes # rough spike energy estimate\n",
    "        acc[k][comp] = Espike\n",
    "#         print('%s: \\t %.2e'%(comp, Espike))"
   ]
  },
  {
   "cell_type": "code",
   "execution_count": 129,
   "metadata": {},
   "outputs": [
    {
     "data": {
      "text/plain": [
       "Text(0.5,1,'Temperature: 33 degC')"
      ]
     },
     "execution_count": 129,
     "metadata": {},
     "output_type": "execute_result"
    },
    {
     "data": {
      "image/png": "[encoded data removed]",
      "text/plain": [
       "<Figure size 360x360 with 1 Axes>"
      ]
     },
     "metadata": {},
     "output_type": "display_data"
    }
   ],
   "source": [
    "pandas.DataFrame(acc)[['ordered', 'random']].mean(axis=1).plot.pie(autopct='%1.0f%%', subplots=0, figsize=(5,5), legend=0)\n",
    "# pandas.DataFrame(acc).plot.pie(autopct='%1.0f%%', subplots=True, figsize=(15,3.5), legend=0)\n",
    "title('Temperature: 33 degC', fontsize=29)"
   ]
  },
  {
   "cell_type": "code",
   "execution_count": 130,
   "metadata": {},
   "outputs": [
    {
     "data": {
      "text/plain": [
       "Text(0.5,1,'Temperature: 37 degC')"
      ]
     },
     "execution_count": 130,
     "metadata": {},
     "output_type": "execute_result"
    },
    {
     "data": {
      "image/png": "[encoded data removed]",
      "text/plain": [
       "<Figure size 360x360 with 1 Axes>"
      ]
     },
     "metadata": {},
     "output_type": "display_data"
    }
   ],
   "source": [
    "pandas.DataFrame(acc)[['ord 37', 'rand 37']].mean(axis=1).plot.pie(autopct='%1.0f%%', subplots=0, figsize=(5,5), legend=0)\n",
    "title('Temperature: 37 degC', fontsize=29)"
   ]
  },
  {
   "cell_type": "markdown",
   "metadata": {},
   "source": [
    "-------------\n",
    "--------"
   ]
  },
  {
   "cell_type": "code",
   "execution_count": 132,
   "metadata": {
    "scrolled": false
   },
   "outputs": [
    {
     "data": {
      "text/plain": [
       "(150, 153)"
      ]
     },
     "execution_count": 132,
     "metadata": {},
     "output_type": "execute_result"
    },
    {
     "data": {
      "image/png": "[encoded data removed]",
      "text/plain": [
       "<Figure size 720x720 with 4 Axes>"
      ]
     },
     "metadata": {
      "needs_background": "light"
     },
     "output_type": "display_data"
    }
   ],
   "source": [
    "d_o = dataAL_o\n",
    "d_o37 = dataAL_o37\n",
    "d_r = dataAL_r\n",
    "d_r37 = dataAL_r37\n",
    "\n",
    "x_0,x_1 = 150,153\n",
    "N_trials = 5 # number of random-syn records\n",
    "\n",
    "f,ax=subplots(2,2,figsize=(10,10), sharex=True)\n",
    "\n",
    "# subplot(2,2,3)\n",
    "ax[1][0].plot(d_o[0]['t'], d_o[0]['dend.erate'], label='ordered',lw=2, color='r')\n",
    "ax[1][0].plot(d_o37[0]['t'], d_o37[0]['dend.erate'], label='ordered',lw=2, color='k', linestyle='--')\n",
    "\n",
    "for i in range(N_trials):\n",
    "    ax[1][0].plot(d_r[i]['t'], d_r[i]['dend.erate'], label='random', color='b', alpha=0.9)\n",
    "for i in range(5):\n",
    "    ax[1][0].plot(d_r37[i]['t'], d_r37[i]['dend.erate'], label='random', color='m', alpha=0.9)\n",
    "    \n",
    "# plot(oc3_traj['t'], oc3_traj['dend.erate'], label='func-ordered')\n",
    "ax[1][0].set_title('Dendrites',fontsize=18)\n",
    "ax[1][0].set_xlabel('time, ms', fontsize=22)\n",
    "ax[1][0].set_ylabel('$\\dot{H}$, pJ/s', fontsize=22)\n",
    "ax[1][0].set_xlim(x_0,x_1)\n",
    "# ax[1][0].yaxis.set_ticks(np.arange(60,181,40))\n",
    "\n",
    "# subplot(2,2,2)\n",
    "ax[0][1].plot(d_o[0]['t'], d_o[0]['soma.erate'], label='ordered',lw=2, color='r')\n",
    "ax[0][1].plot(d_o37[0]['t'], d_o37[0]['soma.erate'], label='ordered',lw=2, color='k', linestyle='--')\n",
    "\n",
    "for i in range(N_trials):\n",
    "    ax[0][1].plot(d_r[i]['t'], d_r[i]['soma.erate'], label='random', color='b', alpha=0.9)\n",
    "for i in range(5):\n",
    "    ax[0][1].plot(d_r37[i]['t'], d_r37[i]['soma.erate'], label='random', color='m', alpha=0.9)\n",
    "    \n",
    "# plot(oc3_traj['t'], oc3_traj['soma.erate'], label='func-ordered')\n",
    "ax[0][1].set_title('Soma',fontsize=18)\n",
    "# xlabel('time, ms')\n",
    "#ylabel('E rate, pJ/s')\n",
    "#legend()\n",
    "ax[0][1].set_xlim(x_0,x_1)\n",
    "# ax[0][1].yaxis.set_ticks(np.arange(140,301,40))\n",
    "\n",
    "# subplot(2,2,1)\n",
    "ax[0][0].plot(d_o[0]['t'], d_o[0]['syn.erate'], label='ordered',lw=2, color='r')\n",
    "\n",
    "\n",
    "for i in range(N_trials):\n",
    "    ax[0][0].plot(d_r[i]['t'], d_r[i]['syn.erate'], label='random', color='b', alpha=0.9)\n",
    "for i in range(5):\n",
    "    ax[0][0].plot(d_r37[i]['t'], d_r37[i]['syn.erate'], label='random', color='m', alpha=0.9)\n",
    "ax[0][0].plot(d_o37[0]['t'], d_o37[0]['syn.erate'], label='ordered',lw=2, color='k', linestyle='--')\n",
    "\n",
    "# plot(oc3_traj['t'], oc3_traj['syn.erate'], label='func-ordered')\n",
    "ax[0][0].set_title('Synapses',fontsize=18)\n",
    "# xlabel('time, ms')\n",
    "ax[0][0].set_ylabel('$\\dot{H}$, pJ/s', fontsize=22)\n",
    "#legend()\n",
    "ax[0][0].set_xlim(x_0,x_1)\n",
    "# ax[0][0].yaxis.set_ticks(np.arange(0,1801,400))\n",
    "\n",
    "# subplot(2,2,4)\n",
    "ax[1][1].axes.locator_params(axis='y', nticks=4)\n",
    "ax[1][1].plot(d_o[0]['t'], d_o[0]['axon.erate'], label='Ordered\\nN$_{syn}=250$\\nT=33',lw=2, color='r')\n",
    "ax[1][1].plot(d_o37[0]['t'], d_o37[0]['axon.erate'], label='Ordered\\nN$_{syn}=250$\\nT=37',lw=2, color='k', linestyle='--')\n",
    "\n",
    "for i in range(N_trials):\n",
    "    if i == 0:\n",
    "        ax[1][1].plot(d_r[i]['t'], d_r[i]['axon.erate'], label='Random\\nN$_{syn}=300$\\nT=33', color='b', alpha=0.9)\n",
    "    else:\n",
    "        ax[1][1].plot(d_r[i]['t'], d_r[i]['axon.erate'], color='b', alpha=0.2)\n",
    "\n",
    "for i in range(5):\n",
    "    if i == 0:\n",
    "        ax[1][1].plot(d_r37[i]['t'], d_r37[i]['axon.erate'], label='Random\\nN$_{syn}=300$\\nT=37', color='m', alpha=0.9)\n",
    "    else:\n",
    "        ax[1][1].plot(d_r37[i]['t'], d_r37[i]['axon.erate'], color='m', alpha=0.2)\n",
    "        \n",
    "        \n",
    "# plot(oc3_traj['t'], oc3_traj['axon.erate'], label='func-ordered')\n",
    "ax[1][1].set_title('Axon',fontsize=18)\n",
    "ax[1][1].set_xlabel('time, ms', fontsize=22)\n",
    "# ylabel('E rate, pJ/s', fontsize=22)\n",
    "ax[1][1].legend(loc='best',fontsize=12)\n",
    "ax[1][1].set_xlim(x_0,x_1)\n",
    "# ax[1][1].yaxis.set_ticks(np.arange(0,501,150))\n",
    "\n",
    "# savefig('Ordered-random-Erate-curves_temperatures.jpg') # OK!"
   ]
  },
  {
   "cell_type": "code",
   "execution_count": 75,
   "metadata": {},
   "outputs": [],
   "source": [
    "# Params for spikes integration. Manually determined by looking at the 'plotThreshWdthIntgl' func output: \n",
    "# points go in relatively smooth manner over spikes\n",
    "\n",
    "SpikeSearchParams={'dend':  {'efelTh':115, 'Shifts':[-1.6,+1.6], 'scale':0.1, 'fixedthresh':None},\n",
    "                   'soma':  {'efelTh':180, 'Shifts':[-1.6,+1.6], 'scale':0.05, 'fixedthresh':None},\n",
    "                   'axon':  {'efelTh':100, 'Shifts':[-1.6,+1.6], 'scale':0.1, 'fixedthresh':25},\n",
    "                   'syn':   {'efelTh':100, 'Shifts':[-1.6,+2], 'scale':0.1, 'fixedthresh':100}}"
   ]
  },
  {
   "cell_type": "markdown",
   "metadata": {},
   "source": [
    "### Calculate energy usage per spike in compartments and synaptic currents"
   ]
  },
  {
   "cell_type": "code",
   "execution_count": 77,
   "metadata": {
    "scrolled": false
   },
   "outputs": [
    {
     "ename": "ValueError",
     "evalue": "Empty data passed with indices specified.",
     "output_type": "error",
     "traceback": [
      "\u001b[0;31m---------------------------------------------------------------------------\u001b[0m",
      "\u001b[0;31mValueError\u001b[0m                                Traceback (most recent call last)",
      "\u001b[0;32m<ipython-input-77-09b60ee2b984>\u001b[0m in \u001b[0;36m<module>\u001b[0;34m()\u001b[0m\n\u001b[1;32m      5\u001b[0m \u001b[0;34m\u001b[0m\u001b[0m\n\u001b[1;32m      6\u001b[0m \u001b[0maccr\u001b[0m \u001b[0;34m=\u001b[0m \u001b[0mIntegrateSpikesFinal\u001b[0m\u001b[0;34m(\u001b[0m\u001b[0mdata_r\u001b[0m\u001b[0;34m,\u001b[0m\u001b[0mSSP\u001b[0m\u001b[0;34m=\u001b[0m\u001b[0mSpikeSearchParams\u001b[0m\u001b[0;34m,\u001b[0m\u001b[0mplott\u001b[0m\u001b[0;34m=\u001b[0m\u001b[0;36m0\u001b[0m\u001b[0;34m)\u001b[0m\u001b[0;34m\u001b[0m\u001b[0m\n\u001b[0;32m----> 7\u001b[0;31m \u001b[0maccr37\u001b[0m \u001b[0;34m=\u001b[0m \u001b[0mIntegrateSpikesFinal\u001b[0m\u001b[0;34m(\u001b[0m\u001b[0md_r37\u001b[0m\u001b[0;34m,\u001b[0m\u001b[0mSSP\u001b[0m\u001b[0;34m=\u001b[0m\u001b[0mSpikeSearchParams\u001b[0m\u001b[0;34m,\u001b[0m\u001b[0mplott\u001b[0m\u001b[0;34m=\u001b[0m\u001b[0;36m0\u001b[0m\u001b[0;34m)\u001b[0m\u001b[0;34m\u001b[0m\u001b[0m\n\u001b[0m\u001b[1;32m      8\u001b[0m \u001b[0;34m\u001b[0m\u001b[0m\n\u001b[1;32m      9\u001b[0m \u001b[0macco\u001b[0m \u001b[0;34m=\u001b[0m \u001b[0mIntegrateSpikesFinal\u001b[0m\u001b[0;34m(\u001b[0m\u001b[0md_o\u001b[0m\u001b[0;34m,\u001b[0m\u001b[0mSSP\u001b[0m\u001b[0;34m=\u001b[0m\u001b[0mSpikeSearchParams\u001b[0m\u001b[0;34m,\u001b[0m\u001b[0mplott\u001b[0m\u001b[0;34m=\u001b[0m\u001b[0;36m0\u001b[0m\u001b[0;34m)\u001b[0m\u001b[0;34m\u001b[0m\u001b[0m\n",
      "\u001b[0;32m<ipython-input-16-57c5f925901b>\u001b[0m in \u001b[0;36mIntegrateSpikesFinal\u001b[0;34m(data, SSP, t_start, t_stop, plott)\u001b[0m\n\u001b[1;32m    144\u001b[0m             Integrals = Integrate_spikes_and_ISIs_v2(vec, tvec, Features[0]['peak_time'],\n\u001b[1;32m    145\u001b[0m                                                      \u001b[0mShifts\u001b[0m\u001b[0;34m=\u001b[0m\u001b[0mv\u001b[0m\u001b[0;34m[\u001b[0m\u001b[0;34m'Shifts'\u001b[0m\u001b[0;34m]\u001b[0m\u001b[0;34m,\u001b[0m \u001b[0mtskip\u001b[0m\u001b[0;34m=\u001b[0m\u001b[0;36m10\u001b[0m\u001b[0;34m,\u001b[0m\u001b[0mscale\u001b[0m\u001b[0;34m=\u001b[0m\u001b[0mv\u001b[0m\u001b[0;34m[\u001b[0m\u001b[0;34m'scale'\u001b[0m\u001b[0;34m]\u001b[0m\u001b[0;34m,\u001b[0m\u001b[0;34m\u001b[0m\u001b[0m\n\u001b[0;32m--> 146\u001b[0;31m                                                      fixedthresh=v['fixedthresh'])\n\u001b[0m\u001b[1;32m    147\u001b[0m \u001b[0;34m\u001b[0m\u001b[0m\n\u001b[1;32m    148\u001b[0m             \u001b[0;32mif\u001b[0m \u001b[0mplott\u001b[0m \u001b[0;34m==\u001b[0m \u001b[0;36m1\u001b[0m\u001b[0;34m:\u001b[0m\u001b[0;34m\u001b[0m\u001b[0m\n",
      "\u001b[0;32m<ipython-input-16-57c5f925901b>\u001b[0m in \u001b[0;36mIntegrate_spikes_and_ISIs_v2\u001b[0;34m(vvec, tvec, peak_times, Shifts, tskip, scale, see_times, fixedthresh)\u001b[0m\n\u001b[1;32m     93\u001b[0m     Spikes = pandas.DataFrame(array(Spikes[:-1]).T,\n\u001b[1;32m     94\u001b[0m                               index=['t_peak','t_0','t_1','threshold','Spike_width',\n\u001b[0;32m---> 95\u001b[0;31m                                      'Spike_integral','ISI_width','ISI_integral']).T\n\u001b[0m\u001b[1;32m     96\u001b[0m     \u001b[0;32mreturn\u001b[0m \u001b[0mSpikes\u001b[0m\u001b[0;34m\u001b[0m\u001b[0m\n\u001b[1;32m     97\u001b[0m \u001b[0;34m\u001b[0m\u001b[0m\n",
      "\u001b[0;32m/Users/lampochka/anaconda3/envs/Py2/lib/python2.7/site-packages/pandas/core/frame.pyc\u001b[0m in \u001b[0;36m__init__\u001b[0;34m(self, data, index, columns, dtype, copy)\u001b[0m\n\u001b[1;32m    377\u001b[0m             \u001b[0;32melse\u001b[0m\u001b[0;34m:\u001b[0m\u001b[0;34m\u001b[0m\u001b[0m\n\u001b[1;32m    378\u001b[0m                 mgr = self._init_ndarray(data, index, columns, dtype=dtype,\n\u001b[0;32m--> 379\u001b[0;31m                                          copy=copy)\n\u001b[0m\u001b[1;32m    380\u001b[0m         \u001b[0;32melif\u001b[0m \u001b[0misinstance\u001b[0m\u001b[0;34m(\u001b[0m\u001b[0mdata\u001b[0m\u001b[0;34m,\u001b[0m \u001b[0;34m(\u001b[0m\u001b[0mlist\u001b[0m\u001b[0;34m,\u001b[0m \u001b[0mtypes\u001b[0m\u001b[0;34m.\u001b[0m\u001b[0mGeneratorType\u001b[0m\u001b[0;34m)\u001b[0m\u001b[0;34m)\u001b[0m\u001b[0;34m:\u001b[0m\u001b[0;34m\u001b[0m\u001b[0m\n\u001b[1;32m    381\u001b[0m             \u001b[0;32mif\u001b[0m \u001b[0misinstance\u001b[0m\u001b[0;34m(\u001b[0m\u001b[0mdata\u001b[0m\u001b[0;34m,\u001b[0m \u001b[0mtypes\u001b[0m\u001b[0;34m.\u001b[0m\u001b[0mGeneratorType\u001b[0m\u001b[0;34m)\u001b[0m\u001b[0;34m:\u001b[0m\u001b[0;34m\u001b[0m\u001b[0m\n",
      "\u001b[0;32m/Users/lampochka/anaconda3/envs/Py2/lib/python2.7/site-packages/pandas/core/frame.pyc\u001b[0m in \u001b[0;36m_init_ndarray\u001b[0;34m(self, values, index, columns, dtype, copy)\u001b[0m\n\u001b[1;32m    534\u001b[0m             \u001b[0mvalues\u001b[0m \u001b[0;34m=\u001b[0m \u001b[0mmaybe_infer_to_datetimelike\u001b[0m\u001b[0;34m(\u001b[0m\u001b[0mvalues\u001b[0m\u001b[0;34m)\u001b[0m\u001b[0;34m\u001b[0m\u001b[0m\n\u001b[1;32m    535\u001b[0m \u001b[0;34m\u001b[0m\u001b[0m\n\u001b[0;32m--> 536\u001b[0;31m         \u001b[0;32mreturn\u001b[0m \u001b[0mcreate_block_manager_from_blocks\u001b[0m\u001b[0;34m(\u001b[0m\u001b[0;34m[\u001b[0m\u001b[0mvalues\u001b[0m\u001b[0;34m]\u001b[0m\u001b[0;34m,\u001b[0m \u001b[0;34m[\u001b[0m\u001b[0mcolumns\u001b[0m\u001b[0;34m,\u001b[0m \u001b[0mindex\u001b[0m\u001b[0;34m]\u001b[0m\u001b[0;34m)\u001b[0m\u001b[0;34m\u001b[0m\u001b[0m\n\u001b[0m\u001b[1;32m    537\u001b[0m \u001b[0;34m\u001b[0m\u001b[0m\n\u001b[1;32m    538\u001b[0m     \u001b[0;34m@\u001b[0m\u001b[0mproperty\u001b[0m\u001b[0;34m\u001b[0m\u001b[0m\n",
      "\u001b[0;32m/Users/lampochka/anaconda3/envs/Py2/lib/python2.7/site-packages/pandas/core/internals.pyc\u001b[0m in \u001b[0;36mcreate_block_manager_from_blocks\u001b[0;34m(blocks, axes)\u001b[0m\n\u001b[1;32m   4864\u001b[0m         \u001b[0mblocks\u001b[0m \u001b[0;34m=\u001b[0m \u001b[0;34m[\u001b[0m\u001b[0mgetattr\u001b[0m\u001b[0;34m(\u001b[0m\u001b[0mb\u001b[0m\u001b[0;34m,\u001b[0m \u001b[0;34m'values'\u001b[0m\u001b[0;34m,\u001b[0m \u001b[0mb\u001b[0m\u001b[0;34m)\u001b[0m \u001b[0;32mfor\u001b[0m \u001b[0mb\u001b[0m \u001b[0;32min\u001b[0m \u001b[0mblocks\u001b[0m\u001b[0;34m]\u001b[0m\u001b[0;34m\u001b[0m\u001b[0m\n\u001b[1;32m   4865\u001b[0m         \u001b[0mtot_items\u001b[0m \u001b[0;34m=\u001b[0m \u001b[0msum\u001b[0m\u001b[0;34m(\u001b[0m\u001b[0mb\u001b[0m\u001b[0;34m.\u001b[0m\u001b[0mshape\u001b[0m\u001b[0;34m[\u001b[0m\u001b[0;36m0\u001b[0m\u001b[0;34m]\u001b[0m \u001b[0;32mfor\u001b[0m \u001b[0mb\u001b[0m \u001b[0;32min\u001b[0m \u001b[0mblocks\u001b[0m\u001b[0;34m)\u001b[0m\u001b[0;34m\u001b[0m\u001b[0m\n\u001b[0;32m-> 4866\u001b[0;31m         \u001b[0mconstruction_error\u001b[0m\u001b[0;34m(\u001b[0m\u001b[0mtot_items\u001b[0m\u001b[0;34m,\u001b[0m \u001b[0mblocks\u001b[0m\u001b[0;34m[\u001b[0m\u001b[0;36m0\u001b[0m\u001b[0;34m]\u001b[0m\u001b[0;34m.\u001b[0m\u001b[0mshape\u001b[0m\u001b[0;34m[\u001b[0m\u001b[0;36m1\u001b[0m\u001b[0;34m:\u001b[0m\u001b[0;34m]\u001b[0m\u001b[0;34m,\u001b[0m \u001b[0maxes\u001b[0m\u001b[0;34m,\u001b[0m \u001b[0me\u001b[0m\u001b[0;34m)\u001b[0m\u001b[0;34m\u001b[0m\u001b[0m\n\u001b[0m\u001b[1;32m   4867\u001b[0m \u001b[0;34m\u001b[0m\u001b[0m\n\u001b[1;32m   4868\u001b[0m \u001b[0;34m\u001b[0m\u001b[0m\n",
      "\u001b[0;32m/Users/lampochka/anaconda3/envs/Py2/lib/python2.7/site-packages/pandas/core/internals.pyc\u001b[0m in \u001b[0;36mconstruction_error\u001b[0;34m(tot_items, block_shape, axes, e)\u001b[0m\n\u001b[1;32m   4839\u001b[0m         \u001b[0;32mraise\u001b[0m \u001b[0me\u001b[0m\u001b[0;34m\u001b[0m\u001b[0m\n\u001b[1;32m   4840\u001b[0m     \u001b[0;32mif\u001b[0m \u001b[0mblock_shape\u001b[0m\u001b[0;34m[\u001b[0m\u001b[0;36m0\u001b[0m\u001b[0;34m]\u001b[0m \u001b[0;34m==\u001b[0m \u001b[0;36m0\u001b[0m\u001b[0;34m:\u001b[0m\u001b[0;34m\u001b[0m\u001b[0m\n\u001b[0;32m-> 4841\u001b[0;31m         \u001b[0;32mraise\u001b[0m \u001b[0mValueError\u001b[0m\u001b[0;34m(\u001b[0m\u001b[0;34m\"Empty data passed with indices specified.\"\u001b[0m\u001b[0;34m)\u001b[0m\u001b[0;34m\u001b[0m\u001b[0m\n\u001b[0m\u001b[1;32m   4842\u001b[0m     raise ValueError(\"Shape of passed values is {0}, indices imply {1}\".format(\n\u001b[1;32m   4843\u001b[0m         passed, implied))\n",
      "\u001b[0;31mValueError\u001b[0m: Empty data passed with indices specified."
     ]
    }
   ],
   "source": [
    "d_o = dataAL_o\n",
    "d_o37 = dataAL_o37\n",
    "d_r = dataAL_r\n",
    "d_r37 = dataAL_r37\n",
    "\n",
    "accr = IntegrateSpikesFinal(data_r,SSP=SpikeSearchParams,plott=0)\n",
    "accr37 = IntegrateSpikesFinal(d_r37,SSP=SpikeSearchParams,plott=0)\n",
    "\n",
    "acco = IntegrateSpikesFinal(d_o,SSP=SpikeSearchParams,plott=0)\n",
    "acco37 = IntegrateSpikesFinal(d_o37,SSP=SpikeSearchParams,plott=0)"
   ]
  },
  {
   "cell_type": "markdown",
   "metadata": {},
   "source": [
    "### Integration windows calculated for AP energy use"
   ]
  },
  {
   "cell_type": "code",
   "execution_count": 22,
   "metadata": {},
   "outputs": [
    {
     "name": "stdout",
     "output_type": "stream",
     "text": [
      "Integration windows calculated for AP energy use\n",
      "================================================\n",
      "\n",
      " random37\n",
      ">------------\n",
      "axon \t 0.37\n",
      "soma \t 1.11\n",
      "dend \t 1.18\n",
      "syn \t 1.38\n",
      "Averaged over dend and soma: 1.15\n",
      "\n",
      " random\n",
      ">------------\n",
      "axon \t 0.50\n",
      "soma \t 1.13\n",
      "dend \t 1.24\n",
      "syn \t 1.38\n",
      "Averaged over dend and soma: 1.19\n",
      "\n",
      " ordered37\n",
      ">------------\n",
      "axon \t 0.43\n",
      "soma \t 1.15\n",
      "dend \t 1.25\n",
      "syn \t 1.31\n",
      "Averaged over dend and soma: 1.20\n",
      "\n",
      " ordered\n",
      ">------------\n",
      "axon \t 0.62\n",
      "soma \t 1.24\n",
      "dend \t 1.35\n",
      "syn \t 1.30\n",
      "Averaged over dend and soma: 1.30\n"
     ]
    }
   ],
   "source": [
    "print 'Integration windows calculated for AP energy use\\n================================================'\n",
    "for vec,cond in zip([accr37, accr, acco37, acco],['random37', 'random', 'ordered37', 'ordered']):\n",
    "    print '\\n '+cond + '\\n>------------'\n",
    "    widths = {}\n",
    "    for cell in ['axon', 'soma', 'dend','syn']:\n",
    "        widths[cell] = vec[0][cell]['Spike_width'].mean()\n",
    "        print '%s \\t %.2f'%(cell,widths[cell])\n",
    "\n",
    "    print 'Averaged over dend and soma: %.2f'%(mean([widths['dend'],widths['soma']])) # averaging over dend and soma because syn and axon have zero resting energy"
   ]
  },
  {
   "cell_type": "code",
   "execution_count": 44,
   "metadata": {},
   "outputs": [
    {
     "data": {
      "text/plain": [
       "884.9557522123895"
      ]
     },
     "execution_count": 44,
     "metadata": {},
     "output_type": "execute_result"
    }
   ],
   "source": [
    "1e3/1.13"
   ]
  },
  {
   "cell_type": "markdown",
   "metadata": {},
   "source": [
    "### Thus, at 33 degC use resting energy for 1.25 ms time interval => Use $\\text{division_factor}$ for resting energy $=800$\n",
    "### At 37 degC use resting energy for 1.13 ms => $\\text{division_factor}$ for resting energy $=885$"
   ]
  },
  {
   "cell_type": "code",
   "execution_count": 28,
   "metadata": {},
   "outputs": [
    {
     "data": {
      "text/plain": [
       "(0, 0.1)"
      ]
     },
     "execution_count": 28,
     "metadata": {},
     "output_type": "execute_result"
    },
    {
     "data": {
      "image/png": "[encoded data removed]",
      "text/plain": [
       "<matplotlib.figure.Figure at 0x1c1a293650>"
      ]
     },
     "metadata": {},
     "output_type": "display_data"
    }
   ],
   "source": [
    "acl = {cpt:[accr[i][cpt]['Spike_integral'].std()/accr[i][cpt]['Spike_integral'].mean() for i in range(10)] for cpt in accr[0].keys()}\n",
    "\n",
    "f,ax = subplots()\n",
    "ax.set_title('Std($H_{AP}$):Mean($H_{AP}$) ratio', fontsize=20)\n",
    "pandas.DataFrame(acl).plot.box(ax=ax)\n",
    "# ax.set_ylabel('Std($H_{AP}$):Mean($H_{AP}$) ratio',fontsize=17)\n",
    "ax.tick_params(labelsize=15)\n",
    "ax.set_xlabel('Compartment/process',fontsize=17)\n",
    "ax.set_ylim(0,.1)"
   ]
  },
  {
   "cell_type": "code",
   "execution_count": 49,
   "metadata": {},
   "outputs": [],
   "source": [
    "IntegralsToPlot = {'ordered':{},'ordered37':{},'random':{}, 'random37':{}}\n",
    "for k,v in acco[0].items():\n",
    "    IntegralsToPlot['ordered'][k] = (v['Spike_integral']).mean()\n",
    "    IntegralsToPlot['ordered37'][k] = (acco37[0][k]['Spike_integral']).mean()\n",
    "    IntegralsToPlot['random'][k] = array([(vec[k]['Spike_integral']).mean() for vec in accr]) # over trials with random synapses\n",
    "    IntegralsToPlot['random37'][k] = array([(vec[k]['Spike_integral']).mean() for vec in accr37]) # over trials with random synapses"
   ]
  },
  {
   "cell_type": "code",
   "execution_count": 51,
   "metadata": {},
   "outputs": [
    {
     "name": "stdout",
     "output_type": "stream",
     "text": [
      "Total energy usage (ATPs/AP) in case of ordered and random synapses:\n",
      "------------\n",
      "Ordered \t1.46e+07\n",
      "Ordered37 \t1.38e+07\n",
      "Random  \t1.63e+07\n",
      "Random37  \t1.57e+07\n"
     ]
    }
   ],
   "source": [
    "# AP-related energy use in the model. Summ over dend, axon, and soma. No Synapses included\n",
    "# NOTE. Check if the Baseline is subtractedb (ctrl+f ->'bsl')\n",
    "print 'Total energy usage (ATPs/AP) in case of ordered and random synapses:\\n------------'\n",
    "print 'Ordered \\t%.2e'%(float(pandas.DataFrame(IntegralsToPlot['ordered'],index=[0])[['axon','soma','dend','syn']].sum(axis=1)))\n",
    "print 'Ordered37 \\t%.2e'%(float(pandas.DataFrame(IntegralsToPlot['ordered37'],index=[0])[['axon','soma','dend','syn']].sum(axis=1)))\n",
    "print 'Random  \\t%.2e'%(pandas.DataFrame(IntegralsToPlot['random']).mean()[['axon','soma','dend','syn']].sum())\n",
    "print 'Random37  \\t%.2e'%(pandas.DataFrame(IntegralsToPlot['random37']).mean()[['axon','soma','dend','syn']].sum())"
   ]
  },
  {
   "cell_type": "code",
   "execution_count": 78,
   "metadata": {},
   "outputs": [
    {
     "name": "stdout",
     "output_type": "stream",
     "text": [
      "0.895705521472 0.87898089172\n"
     ]
    }
   ],
   "source": [
    "print 1.46e+07/1.63e+07, 1.38e+07/1.57e+07"
   ]
  },
  {
   "cell_type": "code",
   "execution_count": 54,
   "metadata": {},
   "outputs": [],
   "source": [
    "# Units: 1e7 ATPs/AP (!)\n",
    "data_tp = pandas.DataFrame([IntegralsToPlot['ordered'],IntegralsToPlot['ordered37'],\n",
    "                            pandas.DataFrame(IntegralsToPlot['random']).mean(),\n",
    "                           pandas.DataFrame(IntegralsToPlot['random37']).mean()],index=['Ordered', 'Ordered37','Random', 'Random37']).T/1e7"
   ]
  },
  {
   "cell_type": "code",
   "execution_count": 55,
   "metadata": {
    "scrolled": true
   },
   "outputs": [
    {
     "data": {
      "image/png": "[encoded data removed]",
      "text/plain": [
       "<Figure size 432x252 with 1 Axes>"
      ]
     },
     "metadata": {
      "needs_background": "light"
     },
     "output_type": "display_data"
    }
   ],
   "source": [
    "f,ax = subplots(figsize=(6,3.5))\n",
    "data_tp.plot.bar(ax=ax,rot=0,alpha=0.5,width=0.7)\n",
    "ax.tick_params(labelsize=15)\n",
    "ax.legend(fontsize=12)\n",
    "ax.set_ylabel('$H_{AP}$, 10$^7$ ATPs/AP',fontsize=20)\n",
    "tight_layout()\n",
    "# savefig('Compartments_Erates_noPropagation.pdf')"
   ]
  },
  {
   "cell_type": "code",
   "execution_count": 60,
   "metadata": {},
   "outputs": [],
   "source": [
    "data_tp37 = data_tp[['Ordered37', 'Random37']]"
   ]
  },
  {
   "cell_type": "code",
   "execution_count": 62,
   "metadata": {},
   "outputs": [],
   "source": [
    "data_tp33 = data_tp[['Ordered', 'Random']]"
   ]
  },
  {
   "cell_type": "code",
   "execution_count": 64,
   "metadata": {},
   "outputs": [
    {
     "data": {
      "image/png": "[encoded data removed]",
      "text/plain": [
       "<Figure size 216x216 with 1 Axes>"
      ]
     },
     "metadata": {},
     "output_type": "display_data"
    },
    {
     "data": {
      "image/png": "[encoded data removed]",
      "text/plain": [
       "<Figure size 216x216 with 1 Axes>"
      ]
     },
     "metadata": {},
     "output_type": "display_data"
    }
   ],
   "source": [
    "for temper, data in zip(['33','37'],[data_tp33,data_tp37]):\n",
    "\n",
    "    f,ax = subplots(figsize=(3,3))\n",
    "    wedges = ax.pie(dict(data.mean(axis=1)).values(),labels=dict(data_tp.mean(axis=1)).keys(),\n",
    "                           colors=['w'],autopct='%1.0f%%')\n",
    "    ax.set_title('Model tmperature = %sdegC'%temper)\n",
    "\n",
    "    for w in wedges[0]:\n",
    "        w.set_linewidth(1)\n",
    "        w.set_edgecolor('k')\n",
    "    tight_layout()\n",
    "    # savefig('Pie_Chart_Compartments-Mean_over_rand_ordered_noPropagation.pdf')"
   ]
  },
  {
   "cell_type": "markdown",
   "metadata": {},
   "source": [
    "# Recalculate the energy distribution between compartments to  distribution between processes"
   ]
  },
  {
   "cell_type": "code",
   "execution_count": 75,
   "metadata": {},
   "outputs": [
    {
     "data": {
      "text/plain": [
       "0.0"
      ]
     },
     "execution_count": 75,
     "metadata": {},
     "output_type": "execute_result"
    }
   ],
   "source": [
    "# for calculation of resting energy. Run up to first syn activation and take the last values over time to calculate \n",
    "# resting energy\n",
    "h.celsius = 37\n",
    "h.tstop = 90\n",
    "h.run()"
   ]
  },
  {
   "cell_type": "code",
   "execution_count": 76,
   "metadata": {},
   "outputs": [],
   "source": [
    "# After stimulation the cell is in the rest. Calculate instant restin energy \n",
    "division_factor = 885. # 885 for 37degC and 800 for 33degC\n",
    "ocErst37 = list(pmol2molecules(J2atp(array(instant_erates(oc1,mode='hkl')), F_ATP=50))/division_factor) # axon, soma, dend, syn, ih, ikl\n",
    "ocErst37.append(sum(ocErst37) - sum(ocErst37[-2:])) # axon, soma, dend, syn,ih, ikl, total\n",
    "ocErst37 = {k:v for k,v in zip(['axon.erate','soma.erate','dend.erate','syn.erate','ih.erate','ikl.erate','total.erate'], ocErst37)}"
   ]
  },
  {
   "cell_type": "code",
   "execution_count": 71,
   "metadata": {},
   "outputs": [],
   "source": [
    "# ---- Distribution of energy use between processes --- ('energy budget', Attwell & laughlin, 2001)\n",
    "def calc_budget(E_active, Erest):\n",
    "    E_rest = ocErst['total.erate']\n",
    "    E_active = data.sum().mean()*1e7\n",
    "    E_syn = data.mean(axis=1)['syn']*1e7\n",
    "    E_AP = E_active - E_rest - E_syn\n",
    "\n",
    "    E_processes = {'AP':E_AP,'RP':E_rest,'Presyn':E_syn}\n",
    "    # E_processes = pandas.DataFrame(E_processes, ['0'])\n",
    "    return E_processes"
   ]
  },
  {
   "cell_type": "code",
   "execution_count": 77,
   "metadata": {
    "scrolled": false
   },
   "outputs": [
    {
     "data": {
      "image/png": "[encoded data removed]",
      "text/plain": [
       "<Figure size 216x216 with 1 Axes>"
      ]
     },
     "metadata": {},
     "output_type": "display_data"
    },
    {
     "data": {
      "image/png": "[encoded data removed]",
      "text/plain": [
       "<Figure size 216x216 with 1 Axes>"
      ]
     },
     "metadata": {},
     "output_type": "display_data"
    }
   ],
   "source": [
    "for temper, data, erest in zip(['33', '37'],[data_tp33,data_tp37], [ocErst, ocErst37]):\n",
    "    E_processes = calc_budget(data, Erest=erest)\n",
    "    \n",
    "    f,ax = subplots(figsize=(3,3))\n",
    "    ax.set_title('T=%s'%temper)\n",
    "    wedges = ax.pie(E_processes.values(),labels=E_processes.keys(),colors=['w'],autopct='%1.0f%%',textprops={'fontsize': 13})\n",
    "    for w in wedges[0]:\n",
    "        w.set_linewidth(1)\n",
    "        w.set_edgecolor('k')\n",
    "    tight_layout()\n",
    "    # savefig('Pie_Chart-Processes-Mean_over_rand_ordered_noPropagation.pdf')"
   ]
  },
  {
   "cell_type": "markdown",
   "metadata": {},
   "source": [
    "## Plot AP-related energy figure: compare OCs to other CNS cells\n",
    "Use the supplementary for Howarth et al., 2012 paper to calculate AP-related energy of 'other CNS cells'"
   ]
  },
  {
   "cell_type": "code",
   "execution_count": 51,
   "metadata": {
    "collapsed": true
   },
   "outputs": [],
   "source": [
    "OC_AP_related = data_tp.sum().mean()*1e7 # multiply by 1e7 cause 'data_tp' is in units of 1e7 ATPs/AP \n",
    "\n",
    "Pyr_AP = 5.1e5 + 2.14e7  # Resting energy rescaled to AP duration (1.5 ms) + AP-related with Axon energy rescaled to Axon length = 35 um (OC initial axonsegment)\n",
    "Pur_AP = 7.2e5  + 9e7    # RP + Single Simple spike (Axon length doesn't matter cause Axon energy ~ 1e5, but dendritic ~ 1e7)\n",
    "Grn_AP = 1.89e5 + 5.04e5 # Axon energy rescaled to ax length = 35um"
   ]
  },
  {
   "cell_type": "code",
   "execution_count": 52,
   "metadata": {
    "collapsed": true
   },
   "outputs": [],
   "source": [
    "AP_related = {'OC':OC_AP_related, 'Pur':Pur_AP, 'Pyr':Pyr_AP, 'Grn':Grn_AP} # from *.xlsx table supplement to the Howarth et al 2012 paper\n",
    "D = {'OC':1e-3, 'Pur':1e-3, 'Pyr':1e-3, 'Grn':1e-3}\n",
    "AP_related = pandas.DataFrame([D,AP_related],['O','D'])"
   ]
  },
  {
   "cell_type": "code",
   "execution_count": null,
   "metadata": {},
   "outputs": [],
   "source": [
    "# font = {'family' : 'times',\n",
    "        'weight' : 'normal',\n",
    "        'size'   : 15}\n",
    "\n",
    "matplotlib.rc('font', **font)\n",
    "\n",
    "fig,ax = subplots(figsize=(5,3), sharex=True)\n",
    "AP_related.T.plot.bar(ax=ax,stacked=True,\n",
    "              color=['grey','grey','#b0c4de'],rot=0,\n",
    "              width=.85, legend=0)\n",
    "ax.set_ylabel('$H_{AP}$, ATPs/AP',fontsize=15)\n",
    "yscale('log')\n",
    "ax.set_ylim(0.7e5,1.3e8)\n",
    "# from matplotlib.ticker import ScalarFormatter\n",
    "# ax.yaxis.set_major_formatter(ScalarFormatter())\n",
    "tight_layout()\n",
    "# savefig('Corrected_AP_energy.pdf')"
   ]
  },
  {
   "cell_type": "markdown",
   "metadata": {},
   "source": [
    "# >>>>> Stopped here while sorting out the notebook, 31.07.18\n",
    "TODO's\n",
    "\n",
    " - check if the following mess is essential for the calcs\n",
    " - try to reproduce all results with the new integration funcs"
   ]
  },
  {
   "cell_type": "code",
   "execution_count": 91,
   "metadata": {
    "scrolled": true
   },
   "outputs": [],
   "source": [
    "# ap_related_energY_\n",
    "ocElin = integrate_all(data=data_o[0], x_boarders=[150,152],mode=1)\n",
    "ocElin37 = integrate_all(data=data_o37[0], x_boarders=[150,152],mode=1)"
   ]
  },
  {
   "cell_type": "code",
   "execution_count": 93,
   "metadata": {},
   "outputs": [],
   "source": [
    "# for bar plot\n",
    "\n",
    "def Erandom(data):\n",
    "    ocEran_ = []\n",
    "    for i in range(len(data)):\n",
    "        ocEran_.append(integrate_all(data[i], x_boarders=[100,102], mode=1))\n",
    "\n",
    "    vv = []\n",
    "    for i in range(len(ocEran_)):\n",
    "        vv.append([v for k,v in ocEran_[i].items()])\n",
    "\n",
    "    ocEran_mean = {k:v for k,v in zip(ocElin.keys(), mean(vv, axis=0))}\n",
    "    ocEran_std = {k:v for k,v in zip(ocElin.keys(), std(vv, axis=0))}\n",
    "    \n",
    "    return ocEran_mean, ocEran_std"
   ]
  },
  {
   "cell_type": "code",
   "execution_count": 94,
   "metadata": {},
   "outputs": [],
   "source": [
    "ocEran_mean, ocEran_std = Erandom(data=data_r)\n",
    "ocEran_mean37, ocEran_std37 = Erandom(data=data_r37)"
   ]
  },
  {
   "cell_type": "code",
   "execution_count": 95,
   "metadata": {
    "scrolled": true
   },
   "outputs": [
    {
     "name": "stdout",
     "output_type": "stream",
     "text": [
      "           axon.erate    dend.erate      ih.erate     ikl.erate    soma.erate  \\\n",
      "Rest     1.562611e+03  9.362641e+05  3.151484e+06  1.321022e+05  2.360562e+06   \n",
      "Ordered  1.292771e+06  6.923095e+05 -2.605927e+05  6.971814e+05  3.560940e+05   \n",
      "Random   1.143684e+06  1.042135e+06 -3.355835e+05  1.093579e+06  5.759731e+05   \n",
      "\n",
      "            syn.erate   total.erate  \n",
      "Rest     0.000000e+00  3.298389e+06  \n",
      "Ordered  8.897828e+06  1.123900e+07  \n",
      "Random   1.102336e+07  1.378515e+07  \n",
      "\n",
      "ATPs consumed during 2 ms! T=33\n"
     ]
    }
   ],
   "source": [
    "# for article\n",
    "P = pandas.DataFrame(data=[ocErst,ocElin,ocEran_mean],\n",
    "                     index=['Rest','Ordered','Random'])\n",
    "print P\n",
    "print '\\nATPs consumed during 2 ms! T=33'"
   ]
  },
  {
   "cell_type": "code",
   "execution_count": 96,
   "metadata": {},
   "outputs": [
    {
     "name": "stdout",
     "output_type": "stream",
     "text": [
      "            axon.erate     dend.erate      ih.erate     ikl.erate  \\\n",
      "Rest       1389.447660  841732.692112  2.816769e+06  1.180086e+05   \n",
      "Ordered  895923.989633  714204.157763  3.956555e+05  7.108263e+05   \n",
      "Random   832752.812162  988293.313647 -3.344704e+05  1.028286e+06   \n",
      "\n",
      "           soma.erate     syn.erate   total.erate  \n",
      "Rest     2.104683e+06  0.000000e+00  2.947805e+06  \n",
      "Ordered  3.446754e+05  8.900239e+06  1.085504e+07  \n",
      "Random   4.649129e+05  1.109746e+07  1.338342e+07  \n",
      "\n",
      "ATPs consumed during 2 ms! T=37\n"
     ]
    }
   ],
   "source": [
    "# for article\n",
    "P = pandas.DataFrame(data=[ocErst37,ocElin37,ocEran_mean37],\n",
    "                     index=['Rest','Ordered','Random'])\n",
    "print P\n",
    "print '\\nATPs consumed during 2 ms! T=37'"
   ]
  },
  {
   "cell_type": "code",
   "execution_count": 97,
   "metadata": {},
   "outputs": [],
   "source": [
    "ocErst_std = {k:None for k in ocErst.keys()}\n",
    "ocErst_std37 = {k:None for k in ocErst37.keys()}"
   ]
  },
  {
   "cell_type": "code",
   "execution_count": 678,
   "metadata": {
    "collapsed": true
   },
   "outputs": [],
   "source": [
    "# Restin = {'Axon':    2.417893e+03,\n",
    "# 'Dend' :   1.480578e+06,\n",
    "# 'Soma':    3.703902e+06,\n",
    "# 'Syn':    -1.561064e-66}"
   ]
  },
  {
   "cell_type": "code",
   "execution_count": 203,
   "metadata": {
    "collapsed": true
   },
   "outputs": [],
   "source": [
    "Ordered = {'axon':1.147325e+06,'dend':2.250578e+06,'soma':4.092950e+06,'syn':9.335638e+06}\n",
    "Random = {'axon':1.115740e+06,'dend':2.479649e+06,'soma':4.188929e+06,'syn':1.099649e+07}"
   ]
  },
  {
   "cell_type": "code",
   "execution_count": 102,
   "metadata": {
    "scrolled": true
   },
   "outputs": [],
   "source": [
    "# Impacts of Ih and Ikl for 2 ms, REST\n",
    "def print_hkl_impacts(ocE, state, temper='33'):\n",
    "#     a = find_nearest(data_o['t'],250)\n",
    "    print 'Energy in %s OC for 2 ms T=%s\\n------------'%(state, temper)\n",
    "    print 'Ih   : %.2e'%(ocE['ih.erate'])\n",
    "    print 'Ikl  : %.2e'%(ocE['ikl.erate'])\n",
    "    print 'Total: %.2e'%(ocE['total.erate'])\n",
    "    print '--\\nIh and Ikl impacts to %s Erate (fractions):\\n %.3f, %.3f\\n\\n'%(state,\n",
    "                                                                              ocE['ih.erate']/ocE['total.erate'],\n",
    "                                                                              ocE['ikl.erate']/ocE['total.erate'])\n",
    "    return"
   ]
  },
  {
   "cell_type": "code",
   "execution_count": 103,
   "metadata": {},
   "outputs": [
    {
     "name": "stdout",
     "output_type": "stream",
     "text": [
      "Energy in AP OC for 2 ms T=33\n",
      "------------\n",
      "Ih   : -2.61e+05\n",
      "Ikl  : 6.97e+05\n",
      "Total: 1.12e+07\n",
      "--\n",
      "Ih and Ikl impacts to AP Erate (fractions):\n",
      " -0.023, 0.062\n",
      "\n",
      "\n",
      "Energy in resting OC for 2 ms T=33\n",
      "------------\n",
      "Ih   : 3.15e+06\n",
      "Ikl  : 1.32e+05\n",
      "Total: 3.30e+06\n",
      "--\n",
      "Ih and Ikl impacts to resting Erate (fractions):\n",
      " 0.955, 0.040\n",
      "\n",
      "\n"
     ]
    }
   ],
   "source": [
    "for d,s in zip([ocElin,ocErst],['AP','resting']):\n",
    "    print_hkl_impacts(d,s)"
   ]
  },
  {
   "cell_type": "code",
   "execution_count": 105,
   "metadata": {},
   "outputs": [
    {
     "name": "stdout",
     "output_type": "stream",
     "text": [
      "Energy in AP OC for 2 ms T=37\n",
      "------------\n",
      "Ih   : 3.96e+05\n",
      "Ikl  : 7.11e+05\n",
      "Total: 1.09e+07\n",
      "--\n",
      "Ih and Ikl impacts to AP Erate (fractions):\n",
      " 0.036, 0.065\n",
      "\n",
      "\n",
      "Energy in resting OC for 2 ms T=37\n",
      "------------\n",
      "Ih   : 2.82e+06\n",
      "Ikl  : 1.18e+05\n",
      "Total: 2.95e+06\n",
      "--\n",
      "Ih and Ikl impacts to resting Erate (fractions):\n",
      " 0.956, 0.040\n",
      "\n",
      "\n"
     ]
    }
   ],
   "source": [
    "for d,s in zip([ocElin37,ocErst37],['AP','resting']):\n",
    "    print_hkl_impacts(d,s,temper='37')"
   ]
  },
  {
   "cell_type": "markdown",
   "metadata": {},
   "source": [
    "#### Thus, impact of Ih and Ikl to the overall resting energy usage by OC is the same for 33 and 37degC"
   ]
  },
  {
   "cell_type": "markdown",
   "metadata": {},
   "source": [
    "## Comparing OC vs other neurons energy "
   ]
  },
  {
   "cell_type": "code",
   "execution_count": 54,
   "metadata": {
    "collapsed": true
   },
   "outputs": [],
   "source": [
    "# # energy ependiture of Purkinje, Granule and cortical ∆ neurons (Howarth et al., JCBFM (2012) 32, 1222–1232\n",
    "# #                                                                 and other articles)\n",
    "\n",
    "# def get_e(E_total, Rest_frac, AP_frac, Syn_frac, AP_dur, AP_rate,dur=0):\n",
    "#     \"\"\" NOTE*, E_total -- Energy ATPs per 1 sec.\n",
    "#         dur==0 Returns Energy per single AP and per AP_dur at rest.\n",
    "#         dur==1 Returns Energy per 'dur' msec.\"\"\"\n",
    "    \n",
    "#     keys = ['Rest','AP','Syn']\n",
    "#     if dur == 0:\n",
    "#         val = [E_total*Rest_frac*AP_dur, E_total*AP_frac/AP_rate, E_total*Syn_frac*AP_dur]\n",
    "#     else:\n",
    "#         val = [E_total*Rest_frac*dur/1e3, E_total*AP_frac*dur/1e3, E_total*Syn_frac*dur/1e3]\n",
    "#     E = {k:v for k,v in zip(keys,val)}\n",
    "#     return E\n",
    "\n",
    "# # --------------------------------\n",
    "# # -- CORTICAL PYRAMIDAL NEURONS --\n",
    "# E_grey_matter_total = 27.2 # umol ATP/g/min. Including housekeeping (25% of total)\n",
    "# neuron_density = 9.2e7 # neurons/g in cortical grey matter\n",
    "# E_neuron_total = E_grey_matter_total*1e-6*6.022*1e23/60./neuron_density # ATPs/s for a single ∆-neuron\n",
    "\n",
    "# # Syn_fraction = 0.50 # Excluding Glutamate recycling (4%) adn presynaptic Ca entry cost (5%)\n",
    "# # AP_duration = 1.5e-3 # s (Carter & Bean, 2009)\n",
    "\n",
    "# PyrParam = {'E_total':E_neuron_total,'Rest_frac':0.2, 'AP_frac':0.21, \n",
    "#             'Syn_frac':0.5,'AP_dur':1.5e-3, 'AP_rate':4}\n",
    "\n",
    "# Pyramidal = get_e(**PyrParam)\n",
    "\n",
    "# # -- CEREBELLAR PURKINJE -- \n",
    "# # AP_duration_pur = 1e-3 # ms (Carter & Bean, 2009)\n",
    "\n",
    "# PurParam = {'E_total':8.19e9, 'Rest_frac':0.09, 'AP_frac':0.51, \n",
    "#             'Syn_frac':0.38,'AP_dur':1e-3, 'AP_rate':50}\n",
    "\n",
    "# Purkinje = get_e(**PurParam)\n",
    "\n",
    "# # -- CEREBELLAR GRANULE --\n",
    "# # AP_duration_grn = 2 # ms (Osorio et al., 2010))\n",
    "# GrParam = {'E_total':1.32e8,'Rest_frac':0.71, 'AP_frac':0.1, \n",
    "#            'Syn_frac':0.16,'AP_dur':2e-3, 'AP_rate':1}\n",
    "\n",
    "# Granule = get_e(**GrParam)\n"
   ]
  },
  {
   "cell_type": "code",
   "execution_count": 106,
   "metadata": {},
   "outputs": [],
   "source": [
    "# resting values from jcbfm table, supplementary to Howarth et al 2012:\n",
    "Grn = 9.45e7\n",
    "Pur = 7.18e8 \n",
    "Pyr = 3.4e8 "
   ]
  },
  {
   "cell_type": "code",
   "execution_count": 107,
   "metadata": {},
   "outputs": [],
   "source": [
    "Mesr ={'OC':[ocErst['total.erate']*800, ocErst['ih.erate']*800,ocErst['ikl.erate']*800], # [Total, Ih, Ikl] \n",
    "      'Pur':[Pur], 'Grn':[Grn], 'Pyr':[Pyr]}\n",
    "\n",
    "Mesr37 ={'OC':[ocErst37['total.erate']*885, ocErst37['ih.erate']*885,ocErst37['ikl.erate']*885], # [Total, Ih, Ikl] \n",
    "      'Pur':[Pur], 'Grn':[Grn], 'Pyr':[Pyr]}"
   ]
  },
  {
   "cell_type": "code",
   "execution_count": 108,
   "metadata": {},
   "outputs": [],
   "source": [
    "# fill 'ih' and 'ikl' fields of 'other cns cells' with zeros\n",
    "def fill_mesr(mesr):\n",
    "    for k,v in mesr.items():\n",
    "        if k != 'OC':\n",
    "            mesr[k] = concatenate((v,[0.,0.]))\n",
    "        else:\n",
    "            mesr['OC'] = array(mesr['OC'])\n",
    "    return mesr"
   ]
  },
  {
   "cell_type": "code",
   "execution_count": 109,
   "metadata": {},
   "outputs": [],
   "source": [
    "Mesr = fill_mesr(Mesr)\n",
    "Mesr37 = fill_mesr(Mesr37)"
   ]
  },
  {
   "cell_type": "code",
   "execution_count": 110,
   "metadata": {},
   "outputs": [],
   "source": [
    "Mesr['OC'][0] = Mesr['OC'][0] - Mesr['OC'][1] - Mesr['OC'][2]\n",
    "Mesr = pandas.DataFrame(Mesr,index=['Other','$g_h$','$g_{kl}$']).T"
   ]
  },
  {
   "cell_type": "code",
   "execution_count": 111,
   "metadata": {},
   "outputs": [],
   "source": [
    "Mesr37['OC'][0] = Mesr37['OC'][0] - Mesr37['OC'][1] - Mesr37['OC'][2]\n",
    "Mesr37 = pandas.DataFrame(Mesr37,index=['Other','$g_h$','$g_{kl}$']).T"
   ]
  },
  {
   "cell_type": "code",
   "execution_count": 117,
   "metadata": {},
   "outputs": [
    {
     "data": {
      "text/plain": [
       "Grn    9.450000e+07\n",
       "OC     2.638711e+09\n",
       "Pur    7.180000e+08\n",
       "Pyr    3.400000e+08\n",
       "dtype: float64"
      ]
     },
     "execution_count": 117,
     "metadata": {},
     "output_type": "execute_result"
    }
   ],
   "source": [
    "Mesr.sum(axis=1)"
   ]
  },
  {
   "cell_type": "code",
   "execution_count": 118,
   "metadata": {},
   "outputs": [
    {
     "data": {
      "text/plain": [
       "Grn    9.450000e+07\n",
       "OC     2.608808e+09\n",
       "Pur    7.180000e+08\n",
       "Pyr    3.400000e+08\n",
       "dtype: float64"
      ]
     },
     "execution_count": 118,
     "metadata": {},
     "output_type": "execute_result"
    }
   ],
   "source": [
    "Mesr37.sum(axis=1)"
   ]
  },
  {
   "cell_type": "code",
   "execution_count": 24,
   "metadata": {},
   "outputs": [
    {
     "data": {
      "text/plain": [
       "0.011538461538461539"
      ]
     },
     "execution_count": 24,
     "metadata": {},
     "output_type": "execute_result"
    }
   ],
   "source": [
    "3/260."
   ]
  },
  {
   "cell_type": "code",
   "execution_count": 114,
   "metadata": {},
   "outputs": [],
   "source": [
    "font = {'family' : 'times',\n",
    "        'weight' : 'normal',\n",
    "        'size'   : 15}\n",
    "\n",
    "matplotlib.rc('font', **font)"
   ]
  },
  {
   "cell_type": "code",
   "execution_count": null,
   "metadata": {
    "collapsed": true
   },
   "outputs": [],
   "source": [
    "OC_total_rest = Mesr.loc['OC'].sum()\n",
    "print 'Ratio OC resting energy to Other neuron energy\\n'\n",
    "\n",
    "print '{} \\t {}'.format('neuron', 'ratio')\n",
    "for cl in Mesr.iterrows():\n",
    "    if cl[0] != 'OC':\n",
    "        print '%s : \\t %.1f'%(cl[0], OC_total_rest/cl[1]['Other'])"
   ]
  },
  {
   "cell_type": "code",
   "execution_count": 115,
   "metadata": {
    "scrolled": true
   },
   "outputs": [
    {
     "data": {
      "text/plain": [
       "Text(0.5,1,'T=33degC')"
      ]
     },
     "execution_count": 115,
     "metadata": {},
     "output_type": "execute_result"
    },
    {
     "data": {
      "image/png": "[encoded data removed]",
      "text/plain": [
       "<Figure size 360x216 with 1 Axes>"
      ]
     },
     "metadata": {
      "needs_background": "light"
     },
     "output_type": "display_data"
    }
   ],
   "source": [
    "fig,ax = subplots( figsize=(5,3), sharex=True)\n",
    "# ax[0].set_title('Resting E cost of the neurons.\\n Impact of Ih and Ikl into OC Energy',fontsize=15)\n",
    "Mesr.plot.bar(ax=ax,stacked=True,\n",
    "              color=['grey','#deb0b0','#b0c4de'],rot=0,\n",
    "              width=.85)\n",
    "\n",
    "ax.set_ylabel('$\\dot{H}_{Rest}$, $10^9$ ATPs/s')\n",
    "ax.legend(fontsize=15)\n",
    "ax.set_title('T=33degC')\n",
    "# savefig('Distrib-model-energy-bars.pdf')"
   ]
  },
  {
   "cell_type": "code",
   "execution_count": 116,
   "metadata": {},
   "outputs": [
    {
     "data": {
      "text/plain": [
       "Text(0.5,1,'T=37degC')"
      ]
     },
     "execution_count": 116,
     "metadata": {},
     "output_type": "execute_result"
    },
    {
     "data": {
      "image/png": "[encoded data removed]",
      "text/plain": [
       "<Figure size 360x216 with 1 Axes>"
      ]
     },
     "metadata": {
      "needs_background": "light"
     },
     "output_type": "display_data"
    }
   ],
   "source": [
    "fig,ax = subplots( figsize=(5,3), sharex=True)\n",
    "# ax[0].set_title('Resting E cost of the neurons.\\n Impact of Ih and Ikl into OC Energy',fontsize=15)\n",
    "Mesr37.plot.bar(ax=ax,stacked=True,\n",
    "              color=['grey','#deb0b0','#b0c4de'],rot=0,\n",
    "              width=.85)\n",
    "\n",
    "ax.set_ylabel('$\\dot{H}_{Rest}$, $10^9$ ATPs/s')\n",
    "ax.legend(fontsize=15)\n",
    "ax.set_title('T=37degC')\n",
    "# savefig('Distrib-model-energy-bars.pdf')"
   ]
  },
  {
   "cell_type": "markdown",
   "metadata": {},
   "source": [
    "--------\n",
    "# The rest is an old draft\n"
   ]
  },
  {
   "cell_type": "code",
   "execution_count": 52,
   "metadata": {
    "collapsed": true
   },
   "outputs": [],
   "source": [
    "# Energy use at AP generation and rest for the same time dur\n",
    "\n",
    "# Resting energy\n",
    "Mesr ={'OC':[ocErst['total.erate'], ocErst['ih.erate'],ocErst['ikl.erate']], # [Total, Ih, Ikl] \n",
    "      'Pur':[get_e(**PurParam)['Rest']] ,       # per corresponding AP duration\n",
    "      'Grn':[get_e(**GrParam)['Rest']]  ,       \n",
    "      'Pyr':[get_e(**PyrParam)['Rest']]}\n",
    "      \n",
    "# Single AP-related (ap_related_energY_)\n",
    "Mesa = {'OC':[ocElin['total.erate']-ocElin['syn.erate']],#, ocElin['ih.erate'],ocElin['ikl.erate']], # (E_active(per 2ms) - E_rest(per 2ms))\n",
    "        'Pur':[Purkinje['AP']] ,      # (E_ap(per sec))/AP_rate\n",
    "        'Grn':[Granule['AP']]  ,\n",
    "        'Pyr':[Pyramidal['AP']]}"
   ]
  },
  {
   "cell_type": "code",
   "execution_count": 53,
   "metadata": {
    "collapsed": true
   },
   "outputs": [],
   "source": [
    "# fill 'ih' and 'ikl' fields of 'other cns cells' with zeros\n",
    "for k,v in Mesr.items():\n",
    "    if k != 'OC':\n",
    "        Mesr[k] = concatenate((v,[0.,0.]))\n",
    "    else:\n",
    "        Mesr['OC'] = array(Mesr['OC'])"
   ]
  },
  {
   "cell_type": "code",
   "execution_count": 54,
   "metadata": {
    "collapsed": true
   },
   "outputs": [],
   "source": [
    "# Make first value being all energy except for Ih- and Ikl- related for further stacked bar plot\n",
    "Mesr['OC'][0] = Mesr['OC'][0] - Mesr['OC'][1] - Mesr['OC'][2]"
   ]
  },
  {
   "cell_type": "code",
   "execution_count": 55,
   "metadata": {
    "collapsed": true,
    "scrolled": true
   },
   "outputs": [],
   "source": [
    "# Rescale resting values for 1 sec time interval. Use only 1e8 multiplyers\n",
    "\n",
    "# Shell adsbsghjftrj\n",
    "for k,v in Mesr.items():\n",
    "    Mesr[k] = v/1e8*division_factor # per sec"
   ]
  },
  {
   "cell_type": "code",
   "execution_count": 56,
   "metadata": {
    "collapsed": true
   },
   "outputs": [],
   "source": [
    "Mesr = pandas.DataFrame(Mesr,index=['Other','$g_h$','$g_{kl}$']).T\n",
    "Mesa = pandas.DataFrame(Mesa,index=[0]).T/1e8"
   ]
  },
  {
   "cell_type": "code",
   "execution_count": 58,
   "metadata": {},
   "outputs": [
    {
     "data": {
      "image/png": "[encoded data removed]",
      "text/plain": [
       "<matplotlib.figure.Figure at 0x1c14dbd5d0>"
      ]
     },
     "metadata": {},
     "output_type": "display_data"
    }
   ],
   "source": [
    "# Ax[0] ---- RESTING VALUES ARE PER 1 SECOND (see shell adsbsghjftrj)\n",
    "# Ax[1] ---- E_ap VALUES ATS/AP (shell ap_related_energY_)\n",
    "\n",
    "font = {'family' : 'times',\n",
    "        'weight' : 'normal',\n",
    "        'size'   : 15}\n",
    "\n",
    "matplotlib.rc('font', **font)\n",
    "\n",
    "fig,ax = subplots(2,1, figsize=(5,6), sharex=True)\n",
    "# ax[0].set_title('Resting E cost of the neurons.\\n Impact of Ih and Ikl into OC Energy',fontsize=15)\n",
    "Mesr.plot.bar(ax=ax[0],stacked=True,\n",
    "              color=['grey','#deb0b0','#b0c4de'],rot=0,\n",
    "              width=.85)\n",
    "\n",
    "ax[0].set_ylabel('$\\dot{H}$, $10^8$ ATPs/s')\n",
    "ax[0].legend(fontsize=15)\n",
    "# ax[0].yaxis.set_major_formatter(FormatStrFormatter('%.1e'))\n",
    "\n",
    "ax[0].text(-0.35,23,'A')\n",
    "\n",
    "Mesa.plot.bar(ax=ax[1],stacked=True,\n",
    "              color=['grey','#deb0b0','#b0c4de'],rot=0,\n",
    "              width=.85, legend=0)\n",
    "# for k,v,idx in zip(Ratiso.keys(), Ratiso.values(), range(4)):\n",
    "#     ax[1].bar(idx, v, color='grey')\n",
    "    \n",
    "# ax[1].set_title('RIMC$_{AP}$')\n",
    "ax[1].set_ylabel('$\\dot{H}, 10^8$ ATPs/AP',fontsize=15)\n",
    "# ax[1].set_xticks(range(4))\n",
    "# ax[1].set_yticks(range(0,800,200))\n",
    "# ax[1].set_ylim(0,850)\n",
    "# ax[1].set_yscale('log')\n",
    "# ax[1].set_xticklabels(Mesa.keys(), fontsize=15)\n",
    "ax[1].text(-0.35,1.4,'B')\n",
    "\n",
    "tight_layout()\n",
    "# ax.axes.get_xaxis.fontsize(15)\n",
    "# savefig('281217-Distrib-model-energy-bars_.pdf')"
   ]
  },
  {
   "cell_type": "code",
   "execution_count": 59,
   "metadata": {},
   "outputs": [
    {
     "name": "stdout",
     "output_type": "stream",
     "text": [
      "Grn \t 17.60 \t 1.50\n",
      "OC \t 1.00 \t 26.39\n",
      "Pur \t 4.47 \t 5.90\n",
      "Pyr \t 3.71 \t 7.12\n"
     ]
    }
   ],
   "source": [
    "# REsting E_oc / E_i, i = other neurons\n",
    "for k in Mesr.index:\n",
    "#     if k != 'OC':\n",
    "    print k, '\\t %.2f \\t %.2f'%(Mesr.sum(axis=1)['OC']/Mesr.sum(axis=1)[k],Mesr.sum(axis=1)[k])"
   ]
  },
  {
   "cell_type": "markdown",
   "metadata": {},
   "source": [
    "------\n",
    "## The same fig with OC_ap = AP_generation (HH model) + AP_propagation"
   ]
  },
  {
   "cell_type": "code",
   "execution_count": 3,
   "metadata": {
    "collapsed": true
   },
   "outputs": [],
   "source": [
    "Lax = 0.9 #cm\n",
    "Dax = 2e-4 # Axon diameter (estimated by eyes from pictures) cm (Oertel 1990)\n",
    "AP_height = 30*1e-3 # mV->V (Oertel 2000)\n",
    "Cm = 1.2*1e-6 # uF->F/cm # (McGinley, 2012)\n",
    "Q_elementary = 1.6e-19 # Qoulomb, elementary charge"
   ]
  },
  {
   "cell_type": "code",
   "execution_count": 6,
   "metadata": {},
   "outputs": [
    {
     "name": "stdout",
     "output_type": "stream",
     "text": [
      "Populating the interactive namespace from numpy and matplotlib\n"
     ]
    }
   ],
   "source": [
    "%pylab inline"
   ]
  },
  {
   "cell_type": "code",
   "execution_count": 7,
   "metadata": {
    "collapsed": true
   },
   "outputs": [],
   "source": [
    "Q = pi*Dax*Lax*Cm*AP_height/Q_elementary #\n",
    "Add_AP_propagation_OC = Q/3 # devide total charges by 3 to get number of ATP molecules (Na/K-ATPase stoichiometry), Attwell & Laughlin, 2001\n",
    "\n",
    "# print 'HH_model: %.2f 1e8\\nAP propagation: %.2e ATPs/AP'%(Mesa.loc['OC'],Add_AP_propagation_OC)"
   ]
  },
  {
   "cell_type": "code",
   "execution_count": 9,
   "metadata": {},
   "outputs": [
    {
     "data": {
      "text/plain": [
       "0.424115008234622"
      ]
     },
     "execution_count": 9,
     "metadata": {},
     "output_type": "execute_result"
    }
   ],
   "source": [
    "Add_AP_propagation_OC/1e8"
   ]
  },
  {
   "cell_type": "code",
   "execution_count": 278,
   "metadata": {
    "collapsed": true
   },
   "outputs": [],
   "source": [
    "Mesa.loc['OC']  += Add_AP_propagation_OC"
   ]
  },
  {
   "cell_type": "code",
   "execution_count": 279,
   "metadata": {
    "scrolled": false
   },
   "outputs": [
    {
     "data": {
      "image/png": "[encoded data removed]",
      "text/plain": [
       "<matplotlib.figure.Figure at 0x1c18ce5ad0>"
      ]
     },
     "metadata": {},
     "output_type": "display_data"
    }
   ],
   "source": [
    "\n",
    "# RESTING VALUES ARE PER 1 SECOND\n",
    "font = {'family' : 'times',\n",
    "        'weight' : 'normal',\n",
    "        'size'   : 15}\n",
    "\n",
    "matplotlib.rc('font', **font)\n",
    "\n",
    "fig,ax = subplots(2,1, figsize=(5,6), sharex=True)\n",
    "# ax[0].set_title('Resting E cost of the neurons.\\n Impact of Ih and Ikl into OC Energy',fontsize=15)\n",
    "Mesr.plot.bar(ax=ax[0],stacked=True,\n",
    "              color=['grey','#deb0b0','#b0c4de'],rot=0,\n",
    "              width=.85)\n",
    "\n",
    "ax[0].set_ylabel('$\\dot{H}$, $10^8$ ATPs/s')\n",
    "ax[0].legend(fontsize=15)\n",
    "# ax[0].yaxis.set_major_formatter(FormatStrFormatter('%.1e'))\n",
    "\n",
    "ax[0].text(-0.35,23,'A')\n",
    "\n",
    "Mesa.plot.bar(ax=ax[1],stacked=True,\n",
    "              color=['grey','#deb0b0','#b0c4de'],rot=0,\n",
    "              width=.85, legend=0)\n",
    "# for k,v,idx in zip(Ratiso.keys(), Ratiso.values(), range(4)):\n",
    "#     ax[1].bar(idx, v, color='grey')\n",
    "    \n",
    "# ax[1].set_title('RIMC$_{AP}$')\n",
    "ax[1].set_ylabel('$\\dot{H}, 10^8$ ATPs/AP',fontsize=15)\n",
    "# ax[1].set_xticks(range(4))\n",
    "# ax[1].set_yticks(range(0,800,200))\n",
    "# ax[1].set_ylim(0,850)\n",
    "# ax[1].set_yscale('log')\n",
    "# ax[1].set_xticklabels(Mesa.keys(), fontsize=15)\n",
    "ax[1].text(-0.35,1.4,'B')\n",
    "\n",
    "tight_layout()\n",
    "# ax.axes.get_xaxis.fontsize(15)\n",
    "# savefig('281217-Distrib-model-energy-bars_.pdf')"
   ]
  }
 ],
 "metadata": {
  "kernelspec": {
   "display_name": "Python 2",
   "language": "python",
   "name": "python2"
  },
  "language_info": {
   "codemirror_mode": {
    "name": "ipython",
    "version": 2
   },
   "file_extension": ".py",
   "mimetype": "text/x-python",
   "name": "python",
   "nbconvert_exporter": "python",
   "pygments_lexer": "ipython2",
   "version": "2.7.15"
  }
 },
 "nbformat": 4,
 "nbformat_minor": 2
}
